{
  "nbformat": 4,
  "nbformat_minor": 0,
  "metadata": {
    "colab": {
      "name": "covid_ma_testes.ipynb",
      "provenance": [],
      "authorship_tag": "ABX9TyNTZVLNv3o0wp3o5s3qwHeI",
      "include_colab_link": true
    },
    "kernelspec": {
      "name": "python3",
      "display_name": "Python 3"
    },
    "language_info": {
      "name": "python"
    }
  },
  "cells": [
    {
      "cell_type": "markdown",
      "metadata": {
        "id": "view-in-github",
        "colab_type": "text"
      },
      "source": [
        "<a href=\"https://colab.research.google.com/github/cecellhax/analises_covid19/blob/main/covid_ma_testes.ipynb\" target=\"_parent\"><img src=\"https://colab.research.google.com/assets/colab-badge.svg\" alt=\"Open In Colab\"/></a>"
      ]
    },
    {
      "cell_type": "markdown",
      "metadata": {
        "id": "raJTNfmx6VLc"
      },
      "source": [
        "# **Anális dos dados da COVID-19 no estado do Maranhão**\n",
        "\n",
        "\n",
        "# **1.   Testes realizados**\n",
        "\n"
      ]
    },
    {
      "cell_type": "code",
      "metadata": {
        "id": "x1FCOqE_V13b"
      },
      "source": [
        "import pandas as pd\n",
        "import matplotlib.pyplot as plt"
      ],
      "execution_count": 42,
      "outputs": []
    },
    {
      "cell_type": "code",
      "metadata": {
        "id": "cZPM4QPsYBh7"
      },
      "source": [
        "covid_ma = pd.read_csv('https://s3-sa-east-1.amazonaws.com/ckan.saude.gov.br/dados-ma.csv', encoding='latin1', sep=';')"
      ],
      "execution_count": 55,
      "outputs": []
    },
    {
      "cell_type": "code",
      "metadata": {
        "colab": {
          "base_uri": "https://localhost:8080/",
          "height": 417
        },
        "id": "-Gj5gdtPfE3Q",
        "outputId": "d2276e9b-ae32-41d3-eba0-413d3c9693a2"
      },
      "source": [
        "covid_ma.head()"
      ],
      "execution_count": 56,
      "outputs": [
        {
          "output_type": "execute_result",
          "data": {
            "text/html": [
              "<div>\n",
              "<style scoped>\n",
              "    .dataframe tbody tr th:only-of-type {\n",
              "        vertical-align: middle;\n",
              "    }\n",
              "\n",
              "    .dataframe tbody tr th {\n",
              "        vertical-align: top;\n",
              "    }\n",
              "\n",
              "    .dataframe thead th {\n",
              "        text-align: right;\n",
              "    }\n",
              "</style>\n",
              "<table border=\"1\" class=\"dataframe\">\n",
              "  <thead>\n",
              "    <tr style=\"text-align: right;\">\n",
              "      <th></th>\n",
              "      <th>ÿid</th>\n",
              "      <th>dataNotificacao</th>\n",
              "      <th>dataInicioSintomas</th>\n",
              "      <th>dataNascimento</th>\n",
              "      <th>sintomas</th>\n",
              "      <th>profissionalSaude</th>\n",
              "      <th>cbo</th>\n",
              "      <th>condicoes</th>\n",
              "      <th>estadoTeste</th>\n",
              "      <th>dataTeste</th>\n",
              "      <th>tipoTeste</th>\n",
              "      <th>resultadoTeste</th>\n",
              "      <th>paisOrigem</th>\n",
              "      <th>sexo</th>\n",
              "      <th>estado</th>\n",
              "      <th>estadoIBGE</th>\n",
              "      <th>municipio</th>\n",
              "      <th>municipioIBGE</th>\n",
              "      <th>origem</th>\n",
              "      <th>estadoNotificacao</th>\n",
              "      <th>estadoNotificacaoIBGE</th>\n",
              "      <th>municipioNotificacao</th>\n",
              "      <th>municipioNotificacaoIBGE</th>\n",
              "      <th>excluido</th>\n",
              "      <th>validado</th>\n",
              "      <th>idade</th>\n",
              "      <th>dataEncerramento</th>\n",
              "      <th>evolucaoCaso</th>\n",
              "      <th>classificacaoFinal</th>\n",
              "    </tr>\n",
              "  </thead>\n",
              "  <tbody>\n",
              "    <tr>\n",
              "      <th>0</th>\n",
              "      <td>AbEVo5S4nX</td>\n",
              "      <td>2020-03-30T03:00:00.000Z</td>\n",
              "      <td>2020-03-29T03:00:00.000Z</td>\n",
              "      <td>undefined</td>\n",
              "      <td>Tosse</td>\n",
              "      <td>Sim</td>\n",
              "      <td>2235 - Enfermeiro</td>\n",
              "      <td>NaN</td>\n",
              "      <td>Coletado</td>\n",
              "      <td>2020-03-30T03:00:00.000Z</td>\n",
              "      <td>NaN</td>\n",
              "      <td>NaN</td>\n",
              "      <td>undefined</td>\n",
              "      <td>Masculino</td>\n",
              "      <td>MARANHÃO</td>\n",
              "      <td>21</td>\n",
              "      <td>São Luís</td>\n",
              "      <td>2111300.0</td>\n",
              "      <td>undefined</td>\n",
              "      <td>MARANHÃO</td>\n",
              "      <td>21.0</td>\n",
              "      <td>São Luís</td>\n",
              "      <td>2111300.0</td>\n",
              "      <td>undefined</td>\n",
              "      <td>undefined</td>\n",
              "      <td>55.0</td>\n",
              "      <td>NaN</td>\n",
              "      <td>NaN</td>\n",
              "      <td>NaN</td>\n",
              "    </tr>\n",
              "    <tr>\n",
              "      <th>1</th>\n",
              "      <td>ozHhVSzSdq</td>\n",
              "      <td>2020-04-06T13:17:27.512Z</td>\n",
              "      <td>2020-03-22T03:00:00.000Z</td>\n",
              "      <td>undefined</td>\n",
              "      <td>Febre, Tosse, Dispneia, Outros</td>\n",
              "      <td>Não</td>\n",
              "      <td>NaN</td>\n",
              "      <td>NaN</td>\n",
              "      <td>Coletado</td>\n",
              "      <td>2020-04-06T03:00:00.000Z</td>\n",
              "      <td>NaN</td>\n",
              "      <td>NaN</td>\n",
              "      <td>undefined</td>\n",
              "      <td>Masculino</td>\n",
              "      <td>MARANHÃO</td>\n",
              "      <td>21</td>\n",
              "      <td>Imperatriz</td>\n",
              "      <td>2105302.0</td>\n",
              "      <td>undefined</td>\n",
              "      <td>MARANHÃO</td>\n",
              "      <td>21.0</td>\n",
              "      <td>Imperatriz</td>\n",
              "      <td>2105302.0</td>\n",
              "      <td>undefined</td>\n",
              "      <td>undefined</td>\n",
              "      <td>47.0</td>\n",
              "      <td>NaN</td>\n",
              "      <td>NaN</td>\n",
              "      <td>NaN</td>\n",
              "    </tr>\n",
              "    <tr>\n",
              "      <th>2</th>\n",
              "      <td>6KJS2Qdpq2</td>\n",
              "      <td>2020-04-01T03:00:00.000Z</td>\n",
              "      <td>2020-03-26T03:00:00.000Z</td>\n",
              "      <td>undefined</td>\n",
              "      <td>Dor de Garganta, Dispneia, Febre, Tosse</td>\n",
              "      <td>Sim</td>\n",
              "      <td>2235 - Enfermeiro</td>\n",
              "      <td>NaN</td>\n",
              "      <td>Coletado</td>\n",
              "      <td>2020-04-02T03:00:00.000Z</td>\n",
              "      <td>NaN</td>\n",
              "      <td>NaN</td>\n",
              "      <td>undefined</td>\n",
              "      <td>Feminino</td>\n",
              "      <td>MARANHÃO</td>\n",
              "      <td>21</td>\n",
              "      <td>São Luís</td>\n",
              "      <td>2111300.0</td>\n",
              "      <td>undefined</td>\n",
              "      <td>MARANHÃO</td>\n",
              "      <td>21.0</td>\n",
              "      <td>São Luís</td>\n",
              "      <td>2111300.0</td>\n",
              "      <td>undefined</td>\n",
              "      <td>undefined</td>\n",
              "      <td>37.0</td>\n",
              "      <td>NaN</td>\n",
              "      <td>NaN</td>\n",
              "      <td>NaN</td>\n",
              "    </tr>\n",
              "    <tr>\n",
              "      <th>3</th>\n",
              "      <td>SXtw57busW</td>\n",
              "      <td>2020-04-01T03:00:00.000Z</td>\n",
              "      <td>2020-03-31T03:00:00.000Z</td>\n",
              "      <td>undefined</td>\n",
              "      <td>Dispneia, Tosse</td>\n",
              "      <td>Não</td>\n",
              "      <td>NaN</td>\n",
              "      <td>NaN</td>\n",
              "      <td>Coletado</td>\n",
              "      <td>2020-04-01T03:00:00.000Z</td>\n",
              "      <td>NaN</td>\n",
              "      <td>NaN</td>\n",
              "      <td>undefined</td>\n",
              "      <td>Feminino</td>\n",
              "      <td>MARANHÃO</td>\n",
              "      <td>21</td>\n",
              "      <td>São José de Ribamar</td>\n",
              "      <td>2111201.0</td>\n",
              "      <td>undefined</td>\n",
              "      <td>MARANHÃO</td>\n",
              "      <td>21.0</td>\n",
              "      <td>São Luís</td>\n",
              "      <td>2111300.0</td>\n",
              "      <td>undefined</td>\n",
              "      <td>undefined</td>\n",
              "      <td>33.0</td>\n",
              "      <td>NaN</td>\n",
              "      <td>NaN</td>\n",
              "      <td>NaN</td>\n",
              "    </tr>\n",
              "    <tr>\n",
              "      <th>4</th>\n",
              "      <td>NgKU8QKx0X</td>\n",
              "      <td>2020-04-06T07:23:33.348Z</td>\n",
              "      <td>2020-04-04T04:00:00.000Z</td>\n",
              "      <td>undefined</td>\n",
              "      <td>Tosse, Outros</td>\n",
              "      <td>Não</td>\n",
              "      <td>NaN</td>\n",
              "      <td>NaN</td>\n",
              "      <td>NaN</td>\n",
              "      <td>NaN</td>\n",
              "      <td>NaN</td>\n",
              "      <td>NaN</td>\n",
              "      <td>undefined</td>\n",
              "      <td>Masculino</td>\n",
              "      <td>MARANHÃO</td>\n",
              "      <td>21</td>\n",
              "      <td>São Luís</td>\n",
              "      <td>2111300.0</td>\n",
              "      <td>undefined</td>\n",
              "      <td>MARANHÃO</td>\n",
              "      <td>21.0</td>\n",
              "      <td>São Luís</td>\n",
              "      <td>2111300.0</td>\n",
              "      <td>undefined</td>\n",
              "      <td>undefined</td>\n",
              "      <td>56.0</td>\n",
              "      <td>NaN</td>\n",
              "      <td>NaN</td>\n",
              "      <td>NaN</td>\n",
              "    </tr>\n",
              "  </tbody>\n",
              "</table>\n",
              "</div>"
            ],
            "text/plain": [
              "          ÿid           dataNotificacao  ... evolucaoCaso classificacaoFinal\n",
              "0  AbEVo5S4nX  2020-03-30T03:00:00.000Z  ...          NaN                NaN\n",
              "1  ozHhVSzSdq  2020-04-06T13:17:27.512Z  ...          NaN                NaN\n",
              "2  6KJS2Qdpq2  2020-04-01T03:00:00.000Z  ...          NaN                NaN\n",
              "3  SXtw57busW  2020-04-01T03:00:00.000Z  ...          NaN                NaN\n",
              "4  NgKU8QKx0X  2020-04-06T07:23:33.348Z  ...          NaN                NaN\n",
              "\n",
              "[5 rows x 29 columns]"
            ]
          },
          "metadata": {
            "tags": []
          },
          "execution_count": 56
        }
      ]
    },
    {
      "cell_type": "code",
      "metadata": {
        "colab": {
          "base_uri": "https://localhost:8080/"
        },
        "id": "CZrSiQEceA9G",
        "outputId": "e1cc6ac2-86f1-4544-d2c5-6ac9288e9687"
      },
      "source": [
        "covid_ma.value_counts('resultadoTeste').sum()"
      ],
      "execution_count": 131,
      "outputs": [
        {
          "output_type": "execute_result",
          "data": {
            "text/plain": [
              "563967"
            ]
          },
          "metadata": {
            "tags": []
          },
          "execution_count": 131
        }
      ]
    },
    {
      "cell_type": "code",
      "metadata": {
        "id": "IAxn_DcZf8GF"
      },
      "source": [
        "testes_ma = covid_ma.value_counts('resultadoTeste').sum()"
      ],
      "execution_count": 154,
      "outputs": []
    },
    {
      "cell_type": "code",
      "metadata": {
        "colab": {
          "base_uri": "https://localhost:8080/"
        },
        "id": "7wxgNKsSmiKg",
        "outputId": "c94c93c7-64a0-46a0-d7af-28c78c0cf8a5"
      },
      "source": [
        "covid_ma.value_counts('resultadoTeste')"
      ],
      "execution_count": 57,
      "outputs": [
        {
          "output_type": "execute_result",
          "data": {
            "text/plain": [
              "resultadoTeste\n",
              "Negativo                         309380\n",
              "Positivo                         254321\n",
              "Inconclusivo ou Indeterminado       266\n",
              "dtype: int64"
            ]
          },
          "metadata": {
            "tags": []
          },
          "execution_count": 57
        }
      ]
    },
    {
      "cell_type": "code",
      "metadata": {
        "id": "VmdF2-Ajfw8m"
      },
      "source": [
        "result_ma = covid_ma.value_counts('resultadoTeste')"
      ],
      "execution_count": 155,
      "outputs": []
    },
    {
      "cell_type": "markdown",
      "metadata": {
        "id": "XGAdvBbTdLOF"
      },
      "source": [
        "# **São Luís**"
      ]
    },
    {
      "cell_type": "code",
      "metadata": {
        "id": "RPOooPgYdH6k"
      },
      "source": [
        "covid_slz = covid_ma.query('municipio == \"São Luís\"')"
      ],
      "execution_count": 148,
      "outputs": []
    },
    {
      "cell_type": "code",
      "metadata": {
        "colab": {
          "base_uri": "https://localhost:8080/",
          "height": 452
        },
        "id": "SoGCsPCGdVpp",
        "outputId": "f3e4ec77-67f4-4a72-d41d-6d805267ab96"
      },
      "source": [
        "covid_slz.head()"
      ],
      "execution_count": 133,
      "outputs": [
        {
          "output_type": "execute_result",
          "data": {
            "text/html": [
              "<div>\n",
              "<style scoped>\n",
              "    .dataframe tbody tr th:only-of-type {\n",
              "        vertical-align: middle;\n",
              "    }\n",
              "\n",
              "    .dataframe tbody tr th {\n",
              "        vertical-align: top;\n",
              "    }\n",
              "\n",
              "    .dataframe thead th {\n",
              "        text-align: right;\n",
              "    }\n",
              "</style>\n",
              "<table border=\"1\" class=\"dataframe\">\n",
              "  <thead>\n",
              "    <tr style=\"text-align: right;\">\n",
              "      <th></th>\n",
              "      <th>ÿid</th>\n",
              "      <th>dataNotificacao</th>\n",
              "      <th>dataInicioSintomas</th>\n",
              "      <th>dataNascimento</th>\n",
              "      <th>sintomas</th>\n",
              "      <th>profissionalSaude</th>\n",
              "      <th>cbo</th>\n",
              "      <th>condicoes</th>\n",
              "      <th>estadoTeste</th>\n",
              "      <th>dataTeste</th>\n",
              "      <th>tipoTeste</th>\n",
              "      <th>resultadoTeste</th>\n",
              "      <th>paisOrigem</th>\n",
              "      <th>sexo</th>\n",
              "      <th>estado</th>\n",
              "      <th>estadoIBGE</th>\n",
              "      <th>municipio</th>\n",
              "      <th>municipioIBGE</th>\n",
              "      <th>origem</th>\n",
              "      <th>estadoNotificacao</th>\n",
              "      <th>estadoNotificacaoIBGE</th>\n",
              "      <th>municipioNotificacao</th>\n",
              "      <th>municipioNotificacaoIBGE</th>\n",
              "      <th>excluido</th>\n",
              "      <th>validado</th>\n",
              "      <th>idade</th>\n",
              "      <th>dataEncerramento</th>\n",
              "      <th>evolucaoCaso</th>\n",
              "      <th>classificacaoFinal</th>\n",
              "    </tr>\n",
              "  </thead>\n",
              "  <tbody>\n",
              "    <tr>\n",
              "      <th>0</th>\n",
              "      <td>AbEVo5S4nX</td>\n",
              "      <td>2020-03-30T03:00:00.000Z</td>\n",
              "      <td>2020-03-29T03:00:00.000Z</td>\n",
              "      <td>undefined</td>\n",
              "      <td>Tosse</td>\n",
              "      <td>Sim</td>\n",
              "      <td>2235 - Enfermeiro</td>\n",
              "      <td>NaN</td>\n",
              "      <td>Coletado</td>\n",
              "      <td>2020-03-30T03:00:00.000Z</td>\n",
              "      <td>NaN</td>\n",
              "      <td>NaN</td>\n",
              "      <td>undefined</td>\n",
              "      <td>Masculino</td>\n",
              "      <td>MARANHÃO</td>\n",
              "      <td>21</td>\n",
              "      <td>São Luís</td>\n",
              "      <td>2111300.0</td>\n",
              "      <td>undefined</td>\n",
              "      <td>MARANHÃO</td>\n",
              "      <td>21.0</td>\n",
              "      <td>São Luís</td>\n",
              "      <td>2111300.0</td>\n",
              "      <td>undefined</td>\n",
              "      <td>undefined</td>\n",
              "      <td>55.0</td>\n",
              "      <td>NaN</td>\n",
              "      <td>NaN</td>\n",
              "      <td>NaN</td>\n",
              "    </tr>\n",
              "    <tr>\n",
              "      <th>2</th>\n",
              "      <td>6KJS2Qdpq2</td>\n",
              "      <td>2020-04-01T03:00:00.000Z</td>\n",
              "      <td>2020-03-26T03:00:00.000Z</td>\n",
              "      <td>undefined</td>\n",
              "      <td>Dor de Garganta, Dispneia, Febre, Tosse</td>\n",
              "      <td>Sim</td>\n",
              "      <td>2235 - Enfermeiro</td>\n",
              "      <td>NaN</td>\n",
              "      <td>Coletado</td>\n",
              "      <td>2020-04-02T03:00:00.000Z</td>\n",
              "      <td>NaN</td>\n",
              "      <td>NaN</td>\n",
              "      <td>undefined</td>\n",
              "      <td>Feminino</td>\n",
              "      <td>MARANHÃO</td>\n",
              "      <td>21</td>\n",
              "      <td>São Luís</td>\n",
              "      <td>2111300.0</td>\n",
              "      <td>undefined</td>\n",
              "      <td>MARANHÃO</td>\n",
              "      <td>21.0</td>\n",
              "      <td>São Luís</td>\n",
              "      <td>2111300.0</td>\n",
              "      <td>undefined</td>\n",
              "      <td>undefined</td>\n",
              "      <td>37.0</td>\n",
              "      <td>NaN</td>\n",
              "      <td>NaN</td>\n",
              "      <td>NaN</td>\n",
              "    </tr>\n",
              "    <tr>\n",
              "      <th>3</th>\n",
              "      <td>SXtw57busW</td>\n",
              "      <td>2020-04-01T03:00:00.000Z</td>\n",
              "      <td>2020-03-31T03:00:00.000Z</td>\n",
              "      <td>undefined</td>\n",
              "      <td>Dispneia, Tosse</td>\n",
              "      <td>Não</td>\n",
              "      <td>NaN</td>\n",
              "      <td>NaN</td>\n",
              "      <td>Coletado</td>\n",
              "      <td>2020-04-01T03:00:00.000Z</td>\n",
              "      <td>NaN</td>\n",
              "      <td>NaN</td>\n",
              "      <td>undefined</td>\n",
              "      <td>Feminino</td>\n",
              "      <td>MARANHÃO</td>\n",
              "      <td>21</td>\n",
              "      <td>São José de Ribamar</td>\n",
              "      <td>2111201.0</td>\n",
              "      <td>undefined</td>\n",
              "      <td>MARANHÃO</td>\n",
              "      <td>21.0</td>\n",
              "      <td>São Luís</td>\n",
              "      <td>2111300.0</td>\n",
              "      <td>undefined</td>\n",
              "      <td>undefined</td>\n",
              "      <td>33.0</td>\n",
              "      <td>NaN</td>\n",
              "      <td>NaN</td>\n",
              "      <td>NaN</td>\n",
              "    </tr>\n",
              "    <tr>\n",
              "      <th>4</th>\n",
              "      <td>NgKU8QKx0X</td>\n",
              "      <td>2020-04-06T07:23:33.348Z</td>\n",
              "      <td>2020-04-04T04:00:00.000Z</td>\n",
              "      <td>undefined</td>\n",
              "      <td>Tosse, Outros</td>\n",
              "      <td>Não</td>\n",
              "      <td>NaN</td>\n",
              "      <td>NaN</td>\n",
              "      <td>NaN</td>\n",
              "      <td>NaN</td>\n",
              "      <td>NaN</td>\n",
              "      <td>NaN</td>\n",
              "      <td>undefined</td>\n",
              "      <td>Masculino</td>\n",
              "      <td>MARANHÃO</td>\n",
              "      <td>21</td>\n",
              "      <td>São Luís</td>\n",
              "      <td>2111300.0</td>\n",
              "      <td>undefined</td>\n",
              "      <td>MARANHÃO</td>\n",
              "      <td>21.0</td>\n",
              "      <td>São Luís</td>\n",
              "      <td>2111300.0</td>\n",
              "      <td>undefined</td>\n",
              "      <td>undefined</td>\n",
              "      <td>56.0</td>\n",
              "      <td>NaN</td>\n",
              "      <td>NaN</td>\n",
              "      <td>NaN</td>\n",
              "    </tr>\n",
              "    <tr>\n",
              "      <th>5</th>\n",
              "      <td>Y5rlV9HJRa</td>\n",
              "      <td>2020-04-06T13:31:04.344Z</td>\n",
              "      <td>2020-03-03T03:00:00.000Z</td>\n",
              "      <td>undefined</td>\n",
              "      <td>Dor de Garganta, Dispneia, Febre, Tosse, Outros</td>\n",
              "      <td>Sim</td>\n",
              "      <td>3222 - Técnico ou Auxiliar em Enfermagem</td>\n",
              "      <td>NaN</td>\n",
              "      <td>Coletado</td>\n",
              "      <td>2020-04-06T03:00:00.000Z</td>\n",
              "      <td>NaN</td>\n",
              "      <td>NaN</td>\n",
              "      <td>undefined</td>\n",
              "      <td>Masculino</td>\n",
              "      <td>MARANHÃO</td>\n",
              "      <td>21</td>\n",
              "      <td>São Luís</td>\n",
              "      <td>2111300.0</td>\n",
              "      <td>undefined</td>\n",
              "      <td>MARANHÃO</td>\n",
              "      <td>21.0</td>\n",
              "      <td>São Luís</td>\n",
              "      <td>2111300.0</td>\n",
              "      <td>undefined</td>\n",
              "      <td>undefined</td>\n",
              "      <td>33.0</td>\n",
              "      <td>NaN</td>\n",
              "      <td>NaN</td>\n",
              "      <td>NaN</td>\n",
              "    </tr>\n",
              "  </tbody>\n",
              "</table>\n",
              "</div>"
            ],
            "text/plain": [
              "          ÿid           dataNotificacao  ... evolucaoCaso classificacaoFinal\n",
              "0  AbEVo5S4nX  2020-03-30T03:00:00.000Z  ...          NaN                NaN\n",
              "2  6KJS2Qdpq2  2020-04-01T03:00:00.000Z  ...          NaN                NaN\n",
              "3  SXtw57busW  2020-04-01T03:00:00.000Z  ...          NaN                NaN\n",
              "4  NgKU8QKx0X  2020-04-06T07:23:33.348Z  ...          NaN                NaN\n",
              "5  Y5rlV9HJRa  2020-04-06T13:31:04.344Z  ...          NaN                NaN\n",
              "\n",
              "[5 rows x 29 columns]"
            ]
          },
          "metadata": {
            "tags": []
          },
          "execution_count": 133
        }
      ]
    },
    {
      "cell_type": "code",
      "metadata": {
        "colab": {
          "base_uri": "https://localhost:8080/"
        },
        "id": "4sBT3-LwdtDo",
        "outputId": "eee114bd-1910-4304-d6ad-00883a51fa50"
      },
      "source": [
        "covid_slz.value_counts('resultadoTeste').sum()"
      ],
      "execution_count": 149,
      "outputs": [
        {
          "output_type": "execute_result",
          "data": {
            "text/plain": [
              "85881"
            ]
          },
          "metadata": {
            "tags": []
          },
          "execution_count": 149
        }
      ]
    },
    {
      "cell_type": "code",
      "metadata": {
        "id": "jFZnefKqgPWv"
      },
      "source": [
        "testes_slz = covid_slz.value_counts('resultadoTeste').sum()"
      ],
      "execution_count": 156,
      "outputs": []
    },
    {
      "cell_type": "code",
      "metadata": {
        "colab": {
          "base_uri": "https://localhost:8080/"
        },
        "id": "BSEJfu72d4xd",
        "outputId": "d421b634-1000-476e-e715-22e5f6fe3534"
      },
      "source": [
        "covid_slz.value_counts('resultadoTeste')"
      ],
      "execution_count": 150,
      "outputs": [
        {
          "output_type": "execute_result",
          "data": {
            "text/plain": [
              "resultadoTeste\n",
              "Negativo                         57930\n",
              "Positivo                         27931\n",
              "Inconclusivo ou Indeterminado       20\n",
              "dtype: int64"
            ]
          },
          "metadata": {
            "tags": []
          },
          "execution_count": 150
        }
      ]
    },
    {
      "cell_type": "code",
      "metadata": {
        "id": "hCoH_M0QgT2q"
      },
      "source": [
        "result_slz = covid_slz.value_counts('resultadoTeste')"
      ],
      "execution_count": 157,
      "outputs": []
    },
    {
      "cell_type": "markdown",
      "metadata": {
        "id": "EL5T97vSc8YQ"
      },
      "source": [
        "# **Açailândia**"
      ]
    },
    {
      "cell_type": "code",
      "metadata": {
        "id": "ufE-nWrKo996"
      },
      "source": [
        "covid_acai = covid_ma.query('municipio == \"Açailândia\"')"
      ],
      "execution_count": 140,
      "outputs": []
    },
    {
      "cell_type": "code",
      "metadata": {
        "colab": {
          "base_uri": "https://localhost:8080/",
          "height": 382
        },
        "id": "uljSMdvApGF3",
        "outputId": "72b77f98-f5fd-4a25-c34f-545493cc9123"
      },
      "source": [
        "covid_acai.head()"
      ],
      "execution_count": 141,
      "outputs": [
        {
          "output_type": "execute_result",
          "data": {
            "text/html": [
              "<div>\n",
              "<style scoped>\n",
              "    .dataframe tbody tr th:only-of-type {\n",
              "        vertical-align: middle;\n",
              "    }\n",
              "\n",
              "    .dataframe tbody tr th {\n",
              "        vertical-align: top;\n",
              "    }\n",
              "\n",
              "    .dataframe thead th {\n",
              "        text-align: right;\n",
              "    }\n",
              "</style>\n",
              "<table border=\"1\" class=\"dataframe\">\n",
              "  <thead>\n",
              "    <tr style=\"text-align: right;\">\n",
              "      <th></th>\n",
              "      <th>ÿid</th>\n",
              "      <th>dataNotificacao</th>\n",
              "      <th>dataInicioSintomas</th>\n",
              "      <th>dataNascimento</th>\n",
              "      <th>sintomas</th>\n",
              "      <th>profissionalSaude</th>\n",
              "      <th>cbo</th>\n",
              "      <th>condicoes</th>\n",
              "      <th>estadoTeste</th>\n",
              "      <th>dataTeste</th>\n",
              "      <th>tipoTeste</th>\n",
              "      <th>resultadoTeste</th>\n",
              "      <th>paisOrigem</th>\n",
              "      <th>sexo</th>\n",
              "      <th>estado</th>\n",
              "      <th>estadoIBGE</th>\n",
              "      <th>municipio</th>\n",
              "      <th>municipioIBGE</th>\n",
              "      <th>origem</th>\n",
              "      <th>estadoNotificacao</th>\n",
              "      <th>estadoNotificacaoIBGE</th>\n",
              "      <th>municipioNotificacao</th>\n",
              "      <th>municipioNotificacaoIBGE</th>\n",
              "      <th>excluido</th>\n",
              "      <th>validado</th>\n",
              "      <th>idade</th>\n",
              "      <th>dataEncerramento</th>\n",
              "      <th>evolucaoCaso</th>\n",
              "      <th>classificacaoFinal</th>\n",
              "    </tr>\n",
              "  </thead>\n",
              "  <tbody>\n",
              "    <tr>\n",
              "      <th>72</th>\n",
              "      <td>HSeQP58XwJ</td>\n",
              "      <td>2020-04-05T03:00:00.000Z</td>\n",
              "      <td>2020-03-13T03:00:00.000Z</td>\n",
              "      <td>undefined</td>\n",
              "      <td>Dor de Garganta, Dispneia, Tosse</td>\n",
              "      <td>Não</td>\n",
              "      <td>NaN</td>\n",
              "      <td>Doenças cardíacas crônicas</td>\n",
              "      <td>NaN</td>\n",
              "      <td>NaN</td>\n",
              "      <td>NaN</td>\n",
              "      <td>NaN</td>\n",
              "      <td>undefined</td>\n",
              "      <td>Masculino</td>\n",
              "      <td>MARANHÃO</td>\n",
              "      <td>21</td>\n",
              "      <td>Açailândia</td>\n",
              "      <td>2100055.0</td>\n",
              "      <td>undefined</td>\n",
              "      <td>MARANHÃO</td>\n",
              "      <td>21.0</td>\n",
              "      <td>Açailândia</td>\n",
              "      <td>2100055.0</td>\n",
              "      <td>undefined</td>\n",
              "      <td>undefined</td>\n",
              "      <td>45.0</td>\n",
              "      <td>NaN</td>\n",
              "      <td>NaN</td>\n",
              "      <td>NaN</td>\n",
              "    </tr>\n",
              "    <tr>\n",
              "      <th>373</th>\n",
              "      <td>0ggNmmd4d8</td>\n",
              "      <td>2020-04-04T03:00:00.000Z</td>\n",
              "      <td>2020-03-30T03:00:00.000Z</td>\n",
              "      <td>undefined</td>\n",
              "      <td>Tosse, Febre, Dispneia</td>\n",
              "      <td>Não</td>\n",
              "      <td>NaN</td>\n",
              "      <td>Doenças respiratórias crônicas descompensadas</td>\n",
              "      <td>NaN</td>\n",
              "      <td>NaN</td>\n",
              "      <td>NaN</td>\n",
              "      <td>NaN</td>\n",
              "      <td>undefined</td>\n",
              "      <td>Masculino</td>\n",
              "      <td>MARANHÃO</td>\n",
              "      <td>21</td>\n",
              "      <td>Açailândia</td>\n",
              "      <td>2100055.0</td>\n",
              "      <td>undefined</td>\n",
              "      <td>MARANHÃO</td>\n",
              "      <td>21.0</td>\n",
              "      <td>Açailândia</td>\n",
              "      <td>2100055.0</td>\n",
              "      <td>undefined</td>\n",
              "      <td>undefined</td>\n",
              "      <td>40.0</td>\n",
              "      <td>NaN</td>\n",
              "      <td>NaN</td>\n",
              "      <td>NaN</td>\n",
              "    </tr>\n",
              "    <tr>\n",
              "      <th>720</th>\n",
              "      <td>XMTKArMD4Z</td>\n",
              "      <td>2020-04-03T20:15:20.670Z</td>\n",
              "      <td>2020-03-28T03:00:00.000Z</td>\n",
              "      <td>undefined</td>\n",
              "      <td>Febre,Tosse,Dispneia</td>\n",
              "      <td>Não</td>\n",
              "      <td>NaN</td>\n",
              "      <td>NaN</td>\n",
              "      <td>NaN</td>\n",
              "      <td>NaN</td>\n",
              "      <td>NaN</td>\n",
              "      <td>NaN</td>\n",
              "      <td>undefined</td>\n",
              "      <td>Feminino</td>\n",
              "      <td>MARANHÃO</td>\n",
              "      <td>21</td>\n",
              "      <td>Açailândia</td>\n",
              "      <td>2100055.0</td>\n",
              "      <td>undefined</td>\n",
              "      <td>MARANHÃO</td>\n",
              "      <td>21.0</td>\n",
              "      <td>Açailândia</td>\n",
              "      <td>2100055.0</td>\n",
              "      <td>undefined</td>\n",
              "      <td>undefined</td>\n",
              "      <td>39.0</td>\n",
              "      <td>NaN</td>\n",
              "      <td>NaN</td>\n",
              "      <td>NaN</td>\n",
              "    </tr>\n",
              "    <tr>\n",
              "      <th>795</th>\n",
              "      <td>FrXtr4D2Me</td>\n",
              "      <td>2020-04-04T16:01:30.910Z</td>\n",
              "      <td>2020-04-04T03:00:00.000Z</td>\n",
              "      <td>undefined</td>\n",
              "      <td>Dor de Garganta,Dispneia,Febre</td>\n",
              "      <td>Não</td>\n",
              "      <td>NaN</td>\n",
              "      <td>NaN</td>\n",
              "      <td>NaN</td>\n",
              "      <td>NaN</td>\n",
              "      <td>NaN</td>\n",
              "      <td>NaN</td>\n",
              "      <td>undefined</td>\n",
              "      <td>Feminino</td>\n",
              "      <td>MARANHÃO</td>\n",
              "      <td>21</td>\n",
              "      <td>Açailândia</td>\n",
              "      <td>2100055.0</td>\n",
              "      <td>undefined</td>\n",
              "      <td>MARANHÃO</td>\n",
              "      <td>21.0</td>\n",
              "      <td>Açailândia</td>\n",
              "      <td>2100055.0</td>\n",
              "      <td>undefined</td>\n",
              "      <td>undefined</td>\n",
              "      <td>29.0</td>\n",
              "      <td>NaN</td>\n",
              "      <td>NaN</td>\n",
              "      <td>NaN</td>\n",
              "    </tr>\n",
              "    <tr>\n",
              "      <th>825</th>\n",
              "      <td>DYMCe6QVBa</td>\n",
              "      <td>2020-04-05T15:47:12.970Z</td>\n",
              "      <td>2020-03-24T03:00:00.000Z</td>\n",
              "      <td>undefined</td>\n",
              "      <td>Tosse, Febre, Dispneia, Dor de Garganta</td>\n",
              "      <td>Sim</td>\n",
              "      <td>3222 - Técnico ou Auxiliar em Enfermagem</td>\n",
              "      <td>NaN</td>\n",
              "      <td>Solicitado</td>\n",
              "      <td>NaN</td>\n",
              "      <td>NaN</td>\n",
              "      <td>NaN</td>\n",
              "      <td>undefined</td>\n",
              "      <td>Feminino</td>\n",
              "      <td>MARANHÃO</td>\n",
              "      <td>21</td>\n",
              "      <td>Açailândia</td>\n",
              "      <td>2100055.0</td>\n",
              "      <td>undefined</td>\n",
              "      <td>MARANHÃO</td>\n",
              "      <td>21.0</td>\n",
              "      <td>Açailândia</td>\n",
              "      <td>2100055.0</td>\n",
              "      <td>undefined</td>\n",
              "      <td>undefined</td>\n",
              "      <td>45.0</td>\n",
              "      <td>NaN</td>\n",
              "      <td>NaN</td>\n",
              "      <td>NaN</td>\n",
              "    </tr>\n",
              "  </tbody>\n",
              "</table>\n",
              "</div>"
            ],
            "text/plain": [
              "            ÿid           dataNotificacao  ... evolucaoCaso classificacaoFinal\n",
              "72   HSeQP58XwJ  2020-04-05T03:00:00.000Z  ...          NaN                NaN\n",
              "373  0ggNmmd4d8  2020-04-04T03:00:00.000Z  ...          NaN                NaN\n",
              "720  XMTKArMD4Z  2020-04-03T20:15:20.670Z  ...          NaN                NaN\n",
              "795  FrXtr4D2Me  2020-04-04T16:01:30.910Z  ...          NaN                NaN\n",
              "825  DYMCe6QVBa  2020-04-05T15:47:12.970Z  ...          NaN                NaN\n",
              "\n",
              "[5 rows x 29 columns]"
            ]
          },
          "metadata": {
            "tags": []
          },
          "execution_count": 141
        }
      ]
    },
    {
      "cell_type": "code",
      "metadata": {
        "colab": {
          "base_uri": "https://localhost:8080/"
        },
        "id": "Ox-YQ3VcZrFe",
        "outputId": "12197912-026d-4750-b456-8bfa6ab7a127"
      },
      "source": [
        "covid_acai.value_counts('resultadoTeste').sum()"
      ],
      "execution_count": 145,
      "outputs": [
        {
          "output_type": "execute_result",
          "data": {
            "text/plain": [
              "11783"
            ]
          },
          "metadata": {
            "tags": []
          },
          "execution_count": 145
        }
      ]
    },
    {
      "cell_type": "code",
      "metadata": {
        "id": "fltduQ33gdKk"
      },
      "source": [
        "testes_acai = covid_acai.value_counts('resultadoTeste').sum()"
      ],
      "execution_count": 168,
      "outputs": []
    },
    {
      "cell_type": "code",
      "metadata": {
        "colab": {
          "base_uri": "https://localhost:8080/"
        },
        "id": "ygv4qB0QpM9C",
        "outputId": "4d4c9457-6634-443c-979c-fcf8860899ec"
      },
      "source": [
        "covid_acai.value_counts('resultadoTeste')"
      ],
      "execution_count": 146,
      "outputs": [
        {
          "output_type": "execute_result",
          "data": {
            "text/plain": [
              "resultadoTeste\n",
              "Negativo    7085\n",
              "Positivo    4698\n",
              "dtype: int64"
            ]
          },
          "metadata": {
            "tags": []
          },
          "execution_count": 146
        }
      ]
    },
    {
      "cell_type": "code",
      "metadata": {
        "id": "47Yls1-uhjgV"
      },
      "source": [
        "result_acai = covid_acai.value_counts('resultadoTeste')"
      ],
      "execution_count": 170,
      "outputs": []
    },
    {
      "cell_type": "markdown",
      "metadata": {
        "id": "vVzOdhj2dDf3"
      },
      "source": [
        "# **Imperatriz**"
      ]
    },
    {
      "cell_type": "code",
      "metadata": {
        "id": "kYdq_5pS77CA"
      },
      "source": [
        "covid_itz = covid_ma.query('municipio == \"Imperatriz\"')"
      ],
      "execution_count": 121,
      "outputs": []
    },
    {
      "cell_type": "code",
      "metadata": {
        "colab": {
          "base_uri": "https://localhost:8080/",
          "height": 400
        },
        "id": "85rkef85cjTW",
        "outputId": "afafcfc2-4d92-436e-837e-d56038b04860"
      },
      "source": [
        "covid_itz.head()"
      ],
      "execution_count": 122,
      "outputs": [
        {
          "output_type": "execute_result",
          "data": {
            "text/html": [
              "<div>\n",
              "<style scoped>\n",
              "    .dataframe tbody tr th:only-of-type {\n",
              "        vertical-align: middle;\n",
              "    }\n",
              "\n",
              "    .dataframe tbody tr th {\n",
              "        vertical-align: top;\n",
              "    }\n",
              "\n",
              "    .dataframe thead th {\n",
              "        text-align: right;\n",
              "    }\n",
              "</style>\n",
              "<table border=\"1\" class=\"dataframe\">\n",
              "  <thead>\n",
              "    <tr style=\"text-align: right;\">\n",
              "      <th></th>\n",
              "      <th>ÿid</th>\n",
              "      <th>dataNotificacao</th>\n",
              "      <th>dataInicioSintomas</th>\n",
              "      <th>dataNascimento</th>\n",
              "      <th>sintomas</th>\n",
              "      <th>profissionalSaude</th>\n",
              "      <th>cbo</th>\n",
              "      <th>condicoes</th>\n",
              "      <th>estadoTeste</th>\n",
              "      <th>dataTeste</th>\n",
              "      <th>tipoTeste</th>\n",
              "      <th>resultadoTeste</th>\n",
              "      <th>paisOrigem</th>\n",
              "      <th>sexo</th>\n",
              "      <th>estado</th>\n",
              "      <th>estadoIBGE</th>\n",
              "      <th>municipio</th>\n",
              "      <th>municipioIBGE</th>\n",
              "      <th>origem</th>\n",
              "      <th>estadoNotificacao</th>\n",
              "      <th>estadoNotificacaoIBGE</th>\n",
              "      <th>municipioNotificacao</th>\n",
              "      <th>municipioNotificacaoIBGE</th>\n",
              "      <th>excluido</th>\n",
              "      <th>validado</th>\n",
              "      <th>idade</th>\n",
              "      <th>dataEncerramento</th>\n",
              "      <th>evolucaoCaso</th>\n",
              "      <th>classificacaoFinal</th>\n",
              "    </tr>\n",
              "  </thead>\n",
              "  <tbody>\n",
              "    <tr>\n",
              "      <th>1</th>\n",
              "      <td>ozHhVSzSdq</td>\n",
              "      <td>2020-04-06T13:17:27.512Z</td>\n",
              "      <td>2020-03-22T03:00:00.000Z</td>\n",
              "      <td>undefined</td>\n",
              "      <td>Febre, Tosse, Dispneia, Outros</td>\n",
              "      <td>Não</td>\n",
              "      <td>NaN</td>\n",
              "      <td>NaN</td>\n",
              "      <td>Coletado</td>\n",
              "      <td>2020-04-06T03:00:00.000Z</td>\n",
              "      <td>NaN</td>\n",
              "      <td>NaN</td>\n",
              "      <td>undefined</td>\n",
              "      <td>Masculino</td>\n",
              "      <td>MARANHÃO</td>\n",
              "      <td>21</td>\n",
              "      <td>Imperatriz</td>\n",
              "      <td>2105302.0</td>\n",
              "      <td>undefined</td>\n",
              "      <td>MARANHÃO</td>\n",
              "      <td>21.0</td>\n",
              "      <td>Imperatriz</td>\n",
              "      <td>2105302.0</td>\n",
              "      <td>undefined</td>\n",
              "      <td>undefined</td>\n",
              "      <td>47.0</td>\n",
              "      <td>NaN</td>\n",
              "      <td>NaN</td>\n",
              "      <td>NaN</td>\n",
              "    </tr>\n",
              "    <tr>\n",
              "      <th>52</th>\n",
              "      <td>C0ya737eMv</td>\n",
              "      <td>2020-04-06T03:00:00.000Z</td>\n",
              "      <td>2020-03-30T03:00:00.000Z</td>\n",
              "      <td>undefined</td>\n",
              "      <td>Dor de Garganta, Febre, Tosse</td>\n",
              "      <td>Não</td>\n",
              "      <td>NaN</td>\n",
              "      <td>NaN</td>\n",
              "      <td>NaN</td>\n",
              "      <td>NaN</td>\n",
              "      <td>NaN</td>\n",
              "      <td>NaN</td>\n",
              "      <td>undefined</td>\n",
              "      <td>Feminino</td>\n",
              "      <td>MARANHÃO</td>\n",
              "      <td>21</td>\n",
              "      <td>Imperatriz</td>\n",
              "      <td>2105302.0</td>\n",
              "      <td>undefined</td>\n",
              "      <td>MARANHÃO</td>\n",
              "      <td>21.0</td>\n",
              "      <td>Governador Edison Lobão</td>\n",
              "      <td>2104552.0</td>\n",
              "      <td>undefined</td>\n",
              "      <td>undefined</td>\n",
              "      <td>26.0</td>\n",
              "      <td>NaN</td>\n",
              "      <td>NaN</td>\n",
              "      <td>NaN</td>\n",
              "    </tr>\n",
              "    <tr>\n",
              "      <th>57</th>\n",
              "      <td>JUzKNcyiIH</td>\n",
              "      <td>2020-04-06T03:00:00.000Z</td>\n",
              "      <td>2020-04-05T03:00:00.000Z</td>\n",
              "      <td>undefined</td>\n",
              "      <td>Tosse</td>\n",
              "      <td>Não</td>\n",
              "      <td>NaN</td>\n",
              "      <td>NaN</td>\n",
              "      <td>NaN</td>\n",
              "      <td>NaN</td>\n",
              "      <td>NaN</td>\n",
              "      <td>NaN</td>\n",
              "      <td>undefined</td>\n",
              "      <td>Masculino</td>\n",
              "      <td>MARANHÃO</td>\n",
              "      <td>21</td>\n",
              "      <td>Imperatriz</td>\n",
              "      <td>2105302.0</td>\n",
              "      <td>undefined</td>\n",
              "      <td>MARANHÃO</td>\n",
              "      <td>21.0</td>\n",
              "      <td>Governador Edison Lobão</td>\n",
              "      <td>2104552.0</td>\n",
              "      <td>undefined</td>\n",
              "      <td>undefined</td>\n",
              "      <td>30.0</td>\n",
              "      <td>NaN</td>\n",
              "      <td>NaN</td>\n",
              "      <td>NaN</td>\n",
              "    </tr>\n",
              "    <tr>\n",
              "      <th>63</th>\n",
              "      <td>ECYrdK7ZN6</td>\n",
              "      <td>2020-04-06T03:00:00.000Z</td>\n",
              "      <td>2020-04-04T03:00:00.000Z</td>\n",
              "      <td>undefined</td>\n",
              "      <td>Dispneia, Febre</td>\n",
              "      <td>Não</td>\n",
              "      <td>NaN</td>\n",
              "      <td>NaN</td>\n",
              "      <td>NaN</td>\n",
              "      <td>NaN</td>\n",
              "      <td>NaN</td>\n",
              "      <td>NaN</td>\n",
              "      <td>undefined</td>\n",
              "      <td>Feminino</td>\n",
              "      <td>MARANHÃO</td>\n",
              "      <td>21</td>\n",
              "      <td>Imperatriz</td>\n",
              "      <td>2105302.0</td>\n",
              "      <td>undefined</td>\n",
              "      <td>MARANHÃO</td>\n",
              "      <td>21.0</td>\n",
              "      <td>Governador Edison Lobão</td>\n",
              "      <td>2104552.0</td>\n",
              "      <td>undefined</td>\n",
              "      <td>undefined</td>\n",
              "      <td>41.0</td>\n",
              "      <td>NaN</td>\n",
              "      <td>NaN</td>\n",
              "      <td>NaN</td>\n",
              "    </tr>\n",
              "    <tr>\n",
              "      <th>164</th>\n",
              "      <td>SsE6bE0dw8</td>\n",
              "      <td>2020-04-06T18:04:25.570Z</td>\n",
              "      <td>2020-04-06T03:00:00.000Z</td>\n",
              "      <td>undefined</td>\n",
              "      <td>Outros, Dispneia</td>\n",
              "      <td>Sim</td>\n",
              "      <td>225 - Médico</td>\n",
              "      <td>Doenças cardíacas crônicas</td>\n",
              "      <td>Coletado</td>\n",
              "      <td>2020-04-06T03:00:00.000Z</td>\n",
              "      <td>NaN</td>\n",
              "      <td>NaN</td>\n",
              "      <td>undefined</td>\n",
              "      <td>Masculino</td>\n",
              "      <td>MARANHÃO</td>\n",
              "      <td>21</td>\n",
              "      <td>Imperatriz</td>\n",
              "      <td>2105302.0</td>\n",
              "      <td>undefined</td>\n",
              "      <td>MARANHÃO</td>\n",
              "      <td>21.0</td>\n",
              "      <td>Imperatriz</td>\n",
              "      <td>2105302.0</td>\n",
              "      <td>undefined</td>\n",
              "      <td>undefined</td>\n",
              "      <td>70.0</td>\n",
              "      <td>NaN</td>\n",
              "      <td>NaN</td>\n",
              "      <td>NaN</td>\n",
              "    </tr>\n",
              "  </tbody>\n",
              "</table>\n",
              "</div>"
            ],
            "text/plain": [
              "            ÿid           dataNotificacao  ... evolucaoCaso classificacaoFinal\n",
              "1    ozHhVSzSdq  2020-04-06T13:17:27.512Z  ...          NaN                NaN\n",
              "52   C0ya737eMv  2020-04-06T03:00:00.000Z  ...          NaN                NaN\n",
              "57   JUzKNcyiIH  2020-04-06T03:00:00.000Z  ...          NaN                NaN\n",
              "63   ECYrdK7ZN6  2020-04-06T03:00:00.000Z  ...          NaN                NaN\n",
              "164  SsE6bE0dw8  2020-04-06T18:04:25.570Z  ...          NaN                NaN\n",
              "\n",
              "[5 rows x 29 columns]"
            ]
          },
          "metadata": {
            "tags": []
          },
          "execution_count": 122
        }
      ]
    },
    {
      "cell_type": "code",
      "metadata": {
        "colab": {
          "base_uri": "https://localhost:8080/"
        },
        "id": "anBpVm5ucuei",
        "outputId": "2874534d-dc66-420d-a6b7-9c5fa1660f75"
      },
      "source": [
        "covid_itz.value_counts('resultadoTeste').sum()"
      ],
      "execution_count": 123,
      "outputs": [
        {
          "output_type": "execute_result",
          "data": {
            "text/plain": [
              "46132"
            ]
          },
          "metadata": {
            "tags": []
          },
          "execution_count": 123
        }
      ]
    },
    {
      "cell_type": "code",
      "metadata": {
        "id": "Sx89GKITh4JG"
      },
      "source": [
        "testes_itz = covid_itz.value_counts('resultadoTeste').sum()"
      ],
      "execution_count": 171,
      "outputs": []
    },
    {
      "cell_type": "code",
      "metadata": {
        "colab": {
          "base_uri": "https://localhost:8080/"
        },
        "id": "KShuRSwrdz0h",
        "outputId": "427eb536-74f5-4352-b006-bc2e0d3f5868"
      },
      "source": [
        "covid_itz.value_counts('resultadoTeste')"
      ],
      "execution_count": 144,
      "outputs": [
        {
          "output_type": "execute_result",
          "data": {
            "text/plain": [
              "resultadoTeste\n",
              "Negativo                         29350\n",
              "Positivo                         16765\n",
              "Inconclusivo ou Indeterminado       17\n",
              "dtype: int64"
            ]
          },
          "metadata": {
            "tags": []
          },
          "execution_count": 144
        }
      ]
    },
    {
      "cell_type": "code",
      "metadata": {
        "id": "tdAKkTxTh-Lg"
      },
      "source": [
        "result_itz = covid_itz.value_counts('resultadoTeste')   "
      ],
      "execution_count": 172,
      "outputs": []
    },
    {
      "cell_type": "code",
      "metadata": {
        "colab": {
          "base_uri": "https://localhost:8080/",
          "height": 519
        },
        "id": "jsOJl52vfM_K",
        "outputId": "6b6f6692-b935-4e92-de0b-9eb7176c5b54"
      },
      "source": [
        "fig,(ax1, ax2, ax3, ax4) = plt.subplots(1,4, figsize=(30,8))\n",
        "plt.suptitle('Testes no estado do Maranhão', weight = 'bold', size = 22)\n",
        "\n",
        "ax1.bar(result_ma.index, result_ma.values, color = ('g', 'r', 'y'))\n",
        "ax1.set_title('Maranhão ao todo', weight = 'bold', size = 15)\n",
        "ax1.set_xlabel('Resultado', weight = 'bold', size = 12)\n",
        "ax1.set_ylabel('Quantidade de testes', weight = 'bold', size = 12)\n",
        "\n",
        "ax2.bar(result_slz.index, result_slz.values, color = ('g', 'r', 'y'))\n",
        "ax2.set_title('São Luís', weight = 'bold', size = 15)\n",
        "ax2.set_xlabel('Resultado', weight = 'bold', size = 12)\n",
        "ax2.set_ylabel('Quantidade de testes', weight = 'bold', size = 12)\n",
        "\n",
        "ax3.bar(result_acai.index, result_acai.values, color = ('g', 'r', 'y'))\n",
        "ax3.set_title('Açailândia', weight = 'bold', size = 15)\n",
        "ax3.set_xlabel('Resultado', weight = 'bold', size = 12)\n",
        "ax3.set_ylabel('Quantidade de testes', weight = 'bold', size = 12)\n",
        "\n",
        "ax4.bar(result_itz.index, result_itz.values, color = ('g', 'r', 'y'))\n",
        "ax4.set_title('Imperatriz', weight = 'bold', size = 15)\n",
        "ax4.set_xlabel('Resultado', weight = 'bold', size = 12)\n",
        "ax4.set_ylabel('Quantidade de testes', weight = 'bold', size = 12)\n",
        "plt.show()"
      ],
      "execution_count": 253,
      "outputs": [
        {
          "output_type": "display_data",
          "data": {
            "image/png": "[encoded data removed]",
            "text/plain": [
              "<Figure size 2160x576 with 4 Axes>"
            ]
          },
          "metadata": {
            "tags": [],
            "needs_background": "light"
          }
        }
      ]
    }
  ]
}