{
  "nbformat": 4,
  "nbformat_minor": 0,
  "metadata": {
    "colab": {
      "name": "covid_ma.ipynb",
      "provenance": [],
      "collapsed_sections": [],
      "authorship_tag": "ABX9TyMVABccT54OX+CUT+xJOkVt",
      "include_colab_link": true
    },
    "kernelspec": {
      "display_name": "Python 3",
      "name": "python3"
    },
    "language_info": {
      "name": "python"
    }
  },
  "cells": [
    {
      "cell_type": "markdown",
      "metadata": {
        "id": "view-in-github",
        "colab_type": "text"
      },
      "source": [
        "<a href=\"https://colab.research.google.com/github/cecellhax/analises_covid19/blob/main/covid_ma.ipynb\" target=\"_parent\"><img src=\"https://colab.research.google.com/assets/colab-badge.svg\" alt=\"Open In Colab\"/></a>"
      ]
    },
    {
      "cell_type": "markdown",
      "metadata": {
        "id": "x7PXgTkYlzia"
      },
      "source": [
        "# **Análise exploratória dos dados da COVID-19 no estado do Maranhão**\n",
        "\n",
        "Dados de todo o estado e de algumas de suas principais cidades.\n",
        "\n",
        "## **Cidades analisadas**\n",
        "- São Luís - Capital do Maranhão;\n",
        "- Açailândia;\n",
        "- Imperatriz.\n",
        "\n",
        "## **Informações apresentadas:**\n",
        "\n",
        "1.   Testes realizados;\n",
        "\n",
        "2.   Situação dos profissionais da saúde;\n",
        "\n",
        "3.   Sexo dos infectados;\n",
        "\n",
        "4.   Idade dos infectados.\n",
        "\n",
        "**Obs:** Algumas idades foram desconsideradas da análise pois eram outliers, por exemplo, idades acima de 200 anos. Também foram excluidas as idades com o valor '0' pois esses valores são dados faltantes.\n",
        "\n",
        "**Fonte:**  https://datasus.saude.gov.br/\n",
        "\n",
        "**Dados disponíveis em:** https://s3-sa-east-1.amazonaws.com/ckan.saude.gov.br/dados-ma.csv"
      ]
    },
    {
      "cell_type": "code",
      "metadata": {
        "id": "x1FCOqE_V13b"
      },
      "source": [
        "import pandas as pd\n",
        "import matplotlib.pyplot as plt"
      ],
      "execution_count": null,
      "outputs": []
    },
    {
      "cell_type": "code",
      "metadata": {
        "id": "cZPM4QPsYBh7"
      },
      "source": [
        "covid_ma = pd.read_csv('https://s3-sa-east-1.amazonaws.com/ckan.saude.gov.br/dados-ma.csv', encoding='latin1', sep=';')"
      ],
      "execution_count": null,
      "outputs": []
    },
    {
      "cell_type": "code",
      "metadata": {
        "colab": {
          "base_uri": "https://localhost:8080/",
          "height": 417
        },
        "id": "-Gj5gdtPfE3Q",
        "outputId": "cd8e9a5c-8eb1-4f77-b941-93cc97840cd3"
      },
      "source": [
        "covid_ma.head()"
      ],
      "execution_count": null,
      "outputs": [
        {
          "output_type": "execute_result",
          "data": {
            "text/html": [
              "<div>\n",
              "<style scoped>\n",
              "    .dataframe tbody tr th:only-of-type {\n",
              "        vertical-align: middle;\n",
              "    }\n",
              "\n",
              "    .dataframe tbody tr th {\n",
              "        vertical-align: top;\n",
              "    }\n",
              "\n",
              "    .dataframe thead th {\n",
              "        text-align: right;\n",
              "    }\n",
              "</style>\n",
              "<table border=\"1\" class=\"dataframe\">\n",
              "  <thead>\n",
              "    <tr style=\"text-align: right;\">\n",
              "      <th></th>\n",
              "      <th>ÿid</th>\n",
              "      <th>dataNotificacao</th>\n",
              "      <th>dataInicioSintomas</th>\n",
              "      <th>dataNascimento</th>\n",
              "      <th>sintomas</th>\n",
              "      <th>profissionalSaude</th>\n",
              "      <th>cbo</th>\n",
              "      <th>condicoes</th>\n",
              "      <th>estadoTeste</th>\n",
              "      <th>dataTeste</th>\n",
              "      <th>tipoTeste</th>\n",
              "      <th>resultadoTeste</th>\n",
              "      <th>paisOrigem</th>\n",
              "      <th>sexo</th>\n",
              "      <th>estado</th>\n",
              "      <th>estadoIBGE</th>\n",
              "      <th>municipio</th>\n",
              "      <th>municipioIBGE</th>\n",
              "      <th>origem</th>\n",
              "      <th>estadoNotificacao</th>\n",
              "      <th>estadoNotificacaoIBGE</th>\n",
              "      <th>municipioNotificacao</th>\n",
              "      <th>municipioNotificacaoIBGE</th>\n",
              "      <th>excluido</th>\n",
              "      <th>validado</th>\n",
              "      <th>idade</th>\n",
              "      <th>dataEncerramento</th>\n",
              "      <th>evolucaoCaso</th>\n",
              "      <th>classificacaoFinal</th>\n",
              "    </tr>\n",
              "  </thead>\n",
              "  <tbody>\n",
              "    <tr>\n",
              "      <th>0</th>\n",
              "      <td>AbEVo5S4nX</td>\n",
              "      <td>2020-03-30T03:00:00.000Z</td>\n",
              "      <td>2020-03-29T03:00:00.000Z</td>\n",
              "      <td>undefined</td>\n",
              "      <td>Tosse</td>\n",
              "      <td>Sim</td>\n",
              "      <td>2235 - Enfermeiro</td>\n",
              "      <td>NaN</td>\n",
              "      <td>Coletado</td>\n",
              "      <td>2020-03-30T03:00:00.000Z</td>\n",
              "      <td>NaN</td>\n",
              "      <td>NaN</td>\n",
              "      <td>undefined</td>\n",
              "      <td>Masculino</td>\n",
              "      <td>MARANHÃO</td>\n",
              "      <td>21</td>\n",
              "      <td>São Luís</td>\n",
              "      <td>2111300.0</td>\n",
              "      <td>undefined</td>\n",
              "      <td>MARANHÃO</td>\n",
              "      <td>21.0</td>\n",
              "      <td>São Luís</td>\n",
              "      <td>2111300.0</td>\n",
              "      <td>undefined</td>\n",
              "      <td>undefined</td>\n",
              "      <td>55.0</td>\n",
              "      <td>NaN</td>\n",
              "      <td>NaN</td>\n",
              "      <td>NaN</td>\n",
              "    </tr>\n",
              "    <tr>\n",
              "      <th>1</th>\n",
              "      <td>ozHhVSzSdq</td>\n",
              "      <td>2020-04-06T13:17:27.512Z</td>\n",
              "      <td>2020-03-22T03:00:00.000Z</td>\n",
              "      <td>undefined</td>\n",
              "      <td>Febre, Tosse, Dispneia, Outros</td>\n",
              "      <td>Não</td>\n",
              "      <td>NaN</td>\n",
              "      <td>NaN</td>\n",
              "      <td>Coletado</td>\n",
              "      <td>2020-04-06T03:00:00.000Z</td>\n",
              "      <td>NaN</td>\n",
              "      <td>NaN</td>\n",
              "      <td>undefined</td>\n",
              "      <td>Masculino</td>\n",
              "      <td>MARANHÃO</td>\n",
              "      <td>21</td>\n",
              "      <td>Imperatriz</td>\n",
              "      <td>2105302.0</td>\n",
              "      <td>undefined</td>\n",
              "      <td>MARANHÃO</td>\n",
              "      <td>21.0</td>\n",
              "      <td>Imperatriz</td>\n",
              "      <td>2105302.0</td>\n",
              "      <td>undefined</td>\n",
              "      <td>undefined</td>\n",
              "      <td>47.0</td>\n",
              "      <td>NaN</td>\n",
              "      <td>NaN</td>\n",
              "      <td>NaN</td>\n",
              "    </tr>\n",
              "    <tr>\n",
              "      <th>2</th>\n",
              "      <td>6KJS2Qdpq2</td>\n",
              "      <td>2020-04-01T03:00:00.000Z</td>\n",
              "      <td>2020-03-26T03:00:00.000Z</td>\n",
              "      <td>undefined</td>\n",
              "      <td>Dor de Garganta, Dispneia, Febre, Tosse</td>\n",
              "      <td>Sim</td>\n",
              "      <td>2235 - Enfermeiro</td>\n",
              "      <td>NaN</td>\n",
              "      <td>Coletado</td>\n",
              "      <td>2020-04-02T03:00:00.000Z</td>\n",
              "      <td>NaN</td>\n",
              "      <td>NaN</td>\n",
              "      <td>undefined</td>\n",
              "      <td>Feminino</td>\n",
              "      <td>MARANHÃO</td>\n",
              "      <td>21</td>\n",
              "      <td>São Luís</td>\n",
              "      <td>2111300.0</td>\n",
              "      <td>undefined</td>\n",
              "      <td>MARANHÃO</td>\n",
              "      <td>21.0</td>\n",
              "      <td>São Luís</td>\n",
              "      <td>2111300.0</td>\n",
              "      <td>undefined</td>\n",
              "      <td>undefined</td>\n",
              "      <td>37.0</td>\n",
              "      <td>NaN</td>\n",
              "      <td>NaN</td>\n",
              "      <td>NaN</td>\n",
              "    </tr>\n",
              "    <tr>\n",
              "      <th>3</th>\n",
              "      <td>SXtw57busW</td>\n",
              "      <td>2020-04-01T03:00:00.000Z</td>\n",
              "      <td>2020-03-31T03:00:00.000Z</td>\n",
              "      <td>undefined</td>\n",
              "      <td>Dispneia, Tosse</td>\n",
              "      <td>Não</td>\n",
              "      <td>NaN</td>\n",
              "      <td>NaN</td>\n",
              "      <td>Coletado</td>\n",
              "      <td>2020-04-01T03:00:00.000Z</td>\n",
              "      <td>NaN</td>\n",
              "      <td>NaN</td>\n",
              "      <td>undefined</td>\n",
              "      <td>Feminino</td>\n",
              "      <td>MARANHÃO</td>\n",
              "      <td>21</td>\n",
              "      <td>São José de Ribamar</td>\n",
              "      <td>2111201.0</td>\n",
              "      <td>undefined</td>\n",
              "      <td>MARANHÃO</td>\n",
              "      <td>21.0</td>\n",
              "      <td>São Luís</td>\n",
              "      <td>2111300.0</td>\n",
              "      <td>undefined</td>\n",
              "      <td>undefined</td>\n",
              "      <td>33.0</td>\n",
              "      <td>NaN</td>\n",
              "      <td>NaN</td>\n",
              "      <td>NaN</td>\n",
              "    </tr>\n",
              "    <tr>\n",
              "      <th>4</th>\n",
              "      <td>NgKU8QKx0X</td>\n",
              "      <td>2020-04-06T07:23:33.348Z</td>\n",
              "      <td>2020-04-04T04:00:00.000Z</td>\n",
              "      <td>undefined</td>\n",
              "      <td>Tosse, Outros</td>\n",
              "      <td>Não</td>\n",
              "      <td>NaN</td>\n",
              "      <td>NaN</td>\n",
              "      <td>NaN</td>\n",
              "      <td>NaN</td>\n",
              "      <td>NaN</td>\n",
              "      <td>NaN</td>\n",
              "      <td>undefined</td>\n",
              "      <td>Masculino</td>\n",
              "      <td>MARANHÃO</td>\n",
              "      <td>21</td>\n",
              "      <td>São Luís</td>\n",
              "      <td>2111300.0</td>\n",
              "      <td>undefined</td>\n",
              "      <td>MARANHÃO</td>\n",
              "      <td>21.0</td>\n",
              "      <td>São Luís</td>\n",
              "      <td>2111300.0</td>\n",
              "      <td>undefined</td>\n",
              "      <td>undefined</td>\n",
              "      <td>56.0</td>\n",
              "      <td>NaN</td>\n",
              "      <td>NaN</td>\n",
              "      <td>NaN</td>\n",
              "    </tr>\n",
              "  </tbody>\n",
              "</table>\n",
              "</div>"
            ],
            "text/plain": [
              "          ÿid           dataNotificacao  ... evolucaoCaso classificacaoFinal\n",
              "0  AbEVo5S4nX  2020-03-30T03:00:00.000Z  ...          NaN                NaN\n",
              "1  ozHhVSzSdq  2020-04-06T13:17:27.512Z  ...          NaN                NaN\n",
              "2  6KJS2Qdpq2  2020-04-01T03:00:00.000Z  ...          NaN                NaN\n",
              "3  SXtw57busW  2020-04-01T03:00:00.000Z  ...          NaN                NaN\n",
              "4  NgKU8QKx0X  2020-04-06T07:23:33.348Z  ...          NaN                NaN\n",
              "\n",
              "[5 rows x 29 columns]"
            ]
          },
          "metadata": {
            "tags": []
          },
          "execution_count": 3
        }
      ]
    },
    {
      "cell_type": "code",
      "metadata": {
        "colab": {
          "base_uri": "https://localhost:8080/"
        },
        "id": "sFmfvKNf7Q7S",
        "outputId": "7289a4a1-cb9a-4237-eaae-6d3a874b501b"
      },
      "source": [
        "covid_ma.info()"
      ],
      "execution_count": null,
      "outputs": [
        {
          "output_type": "stream",
          "text": [
            "<class 'pandas.core.frame.DataFrame'>\n",
            "RangeIndex: 833496 entries, 0 to 833495\n",
            "Data columns (total 29 columns):\n",
            " #   Column                    Non-Null Count   Dtype  \n",
            "---  ------                    --------------   -----  \n",
            " 0   ÿid                       833496 non-null  object \n",
            " 1   dataNotificacao           832716 non-null  object \n",
            " 2   dataInicioSintomas        828081 non-null  object \n",
            " 3   dataNascimento            833496 non-null  object \n",
            " 4   sintomas                  833054 non-null  object \n",
            " 5   profissionalSaude         831898 non-null  object \n",
            " 6   cbo                       46573 non-null   object \n",
            " 7   condicoes                 78937 non-null   object \n",
            " 8   estadoTeste               802426 non-null  object \n",
            " 9   dataTeste                 659170 non-null  object \n",
            " 10  tipoTeste                 657105 non-null  object \n",
            " 11  resultadoTeste            596383 non-null  object \n",
            " 12  paisOrigem                833496 non-null  object \n",
            " 13  sexo                      833490 non-null  object \n",
            " 14  estado                    833496 non-null  object \n",
            " 15  estadoIBGE                833496 non-null  int64  \n",
            " 16  municipio                 833490 non-null  object \n",
            " 17  municipioIBGE             833414 non-null  float64\n",
            " 18  origem                    833496 non-null  object \n",
            " 19  estadoNotificacao         833494 non-null  object \n",
            " 20  estadoNotificacaoIBGE     833494 non-null  float64\n",
            " 21  municipioNotificacao      833475 non-null  object \n",
            " 22  municipioNotificacaoIBGE  832638 non-null  float64\n",
            " 23  excluido                  833496 non-null  object \n",
            " 24  validado                  833496 non-null  object \n",
            " 25  idade                     833492 non-null  float64\n",
            " 26  dataEncerramento          170059 non-null  object \n",
            " 27  evolucaoCaso              184394 non-null  object \n",
            " 28  classificacaoFinal        189673 non-null  object \n",
            "dtypes: float64(4), int64(1), object(24)\n",
            "memory usage: 184.4+ MB\n"
          ],
          "name": "stdout"
        }
      ]
    },
    {
      "cell_type": "code",
      "metadata": {
        "id": "IAxn_DcZf8GF"
      },
      "source": [
        "testes_ma = covid_ma.value_counts('resultadoTeste').sum()"
      ],
      "execution_count": null,
      "outputs": []
    },
    {
      "cell_type": "code",
      "metadata": {
        "colab": {
          "base_uri": "https://localhost:8080/"
        },
        "id": "CZrSiQEceA9G",
        "outputId": "eff5d066-9ea5-4bf2-cf93-9a79daadb9ee"
      },
      "source": [
        "testes_ma"
      ],
      "execution_count": null,
      "outputs": [
        {
          "output_type": "execute_result",
          "data": {
            "text/plain": [
              "596383"
            ]
          },
          "metadata": {
            "tags": []
          },
          "execution_count": 6
        }
      ]
    },
    {
      "cell_type": "code",
      "metadata": {
        "colab": {
          "base_uri": "https://localhost:8080/"
        },
        "id": "7wxgNKsSmiKg",
        "outputId": "7336b296-6832-4020-c756-df0c793439af"
      },
      "source": [
        "covid_ma.value_counts('resultadoTeste')"
      ],
      "execution_count": null,
      "outputs": [
        {
          "output_type": "execute_result",
          "data": {
            "text/plain": [
              "resultadoTeste\n",
              "Negativo                         327835\n",
              "Positivo                         268241\n",
              "Inconclusivo ou Indeterminado       307\n",
              "dtype: int64"
            ]
          },
          "metadata": {
            "tags": []
          },
          "execution_count": 7
        }
      ]
    },
    {
      "cell_type": "code",
      "metadata": {
        "id": "VmdF2-Ajfw8m"
      },
      "source": [
        "result_ma = covid_ma.value_counts('resultadoTeste')"
      ],
      "execution_count": null,
      "outputs": []
    },
    {
      "cell_type": "code",
      "metadata": {
        "id": "ykaSMIWsnydR"
      },
      "source": [
        "result_ma = result_ma.drop('Inconclusivo ou Indeterminado')"
      ],
      "execution_count": null,
      "outputs": []
    },
    {
      "cell_type": "code",
      "metadata": {
        "colab": {
          "base_uri": "https://localhost:8080/"
        },
        "id": "T0QN0DtFn2Ib",
        "outputId": "25754012-95b1-4e61-f1dd-72181f3d2d13"
      },
      "source": [
        "result_ma"
      ],
      "execution_count": null,
      "outputs": [
        {
          "output_type": "execute_result",
          "data": {
            "text/plain": [
              "resultadoTeste\n",
              "Negativo    327835\n",
              "Positivo    268241\n",
              "dtype: int64"
            ]
          },
          "metadata": {
            "tags": []
          },
          "execution_count": 10
        }
      ]
    },
    {
      "cell_type": "markdown",
      "metadata": {
        "id": "HdbC9YrCvGub"
      },
      "source": [
        "\n",
        "\n",
        "\n",
        "**Profissionais da saúde infectados no Maranhão**"
      ]
    },
    {
      "cell_type": "code",
      "metadata": {
        "id": "PbaB8BI4vEG8"
      },
      "source": [
        "pi_ma = covid_ma.query('profissionalSaude == \"Sim\" & resultadoTeste == \"Positivo\"')"
      ],
      "execution_count": null,
      "outputs": []
    },
    {
      "cell_type": "code",
      "metadata": {
        "id": "IKrG7CwbvlFU"
      },
      "source": [
        "tpi_ma = pi_ma.value_counts('resultadoTeste')"
      ],
      "execution_count": null,
      "outputs": []
    },
    {
      "cell_type": "code",
      "metadata": {
        "colab": {
          "base_uri": "https://localhost:8080/"
        },
        "id": "SiHjsW2BwHEi",
        "outputId": "912af975-0404-41ae-fe7c-a39ac7db15bc"
      },
      "source": [
        "tpi_ma"
      ],
      "execution_count": null,
      "outputs": [
        {
          "output_type": "execute_result",
          "data": {
            "text/plain": [
              "resultadoTeste\n",
              "Positivo    10820\n",
              "dtype: int64"
            ]
          },
          "metadata": {
            "tags": []
          },
          "execution_count": 13
        }
      ]
    },
    {
      "cell_type": "markdown",
      "metadata": {
        "id": "4BU6RSBRnlz_"
      },
      "source": [
        "**Sexo dos infectados no Maranhão**"
      ]
    },
    {
      "cell_type": "code",
      "metadata": {
        "id": "kp8gi3AonkAl"
      },
      "source": [
        "positivo_df = covid_ma.query('resultadoTeste == \"Positivo\"')"
      ],
      "execution_count": null,
      "outputs": []
    },
    {
      "cell_type": "code",
      "metadata": {
        "id": "rj56JKZZn7Uh"
      },
      "source": [
        "positivos_sexo_ma = positivo_df.value_counts('sexo')"
      ],
      "execution_count": null,
      "outputs": []
    },
    {
      "cell_type": "code",
      "metadata": {
        "colab": {
          "base_uri": "https://localhost:8080/"
        },
        "id": "EcBXwX0xseIm",
        "outputId": "718396ef-d21b-46fb-8274-84523562b603"
      },
      "source": [
        "positivos_sexo_ma"
      ],
      "execution_count": null,
      "outputs": [
        {
          "output_type": "execute_result",
          "data": {
            "text/plain": [
              "sexo\n",
              "Feminino      149106\n",
              "Masculino     118964\n",
              "Indefinido       171\n",
              "dtype: int64"
            ]
          },
          "metadata": {
            "tags": []
          },
          "execution_count": 16
        }
      ]
    },
    {
      "cell_type": "markdown",
      "metadata": {
        "id": "vLL2vuokVOBG"
      },
      "source": [
        "**Idade dos infectados no Maranhão**"
      ]
    },
    {
      "cell_type": "code",
      "metadata": {
        "id": "ViPKngaVVVos"
      },
      "source": [
        "idade_filtrada = positivo_df.query('idade > 0 & idade <= 100')"
      ],
      "execution_count": null,
      "outputs": []
    },
    {
      "cell_type": "code",
      "metadata": {
        "colab": {
          "base_uri": "https://localhost:8080/"
        },
        "id": "8aphJgf0W0g5",
        "outputId": "0b3769d9-4d3c-4038-b8df-c8e7459bb504"
      },
      "source": [
        "idade_filtrada['idade'] = idade_filtrada['idade'].astype(int)"
      ],
      "execution_count": null,
      "outputs": [
        {
          "output_type": "stream",
          "text": [
            "/usr/local/lib/python3.7/dist-packages/ipykernel_launcher.py:1: SettingWithCopyWarning: \n",
            "A value is trying to be set on a copy of a slice from a DataFrame.\n",
            "Try using .loc[row_indexer,col_indexer] = value instead\n",
            "\n",
            "See the caveats in the documentation: https://pandas.pydata.org/pandas-docs/stable/user_guide/indexing.html#returning-a-view-versus-a-copy\n",
            "  \"\"\"Entry point for launching an IPython kernel.\n"
          ],
          "name": "stderr"
        }
      ]
    },
    {
      "cell_type": "code",
      "metadata": {
        "id": "qacpC9oJXAgl"
      },
      "source": [
        "idades_ma = idade_filtrada.value_counts('idade')"
      ],
      "execution_count": null,
      "outputs": []
    },
    {
      "cell_type": "code",
      "metadata": {
        "colab": {
          "base_uri": "https://localhost:8080/"
        },
        "id": "R0tFGX_Roxht",
        "outputId": "c7fc3bc3-fa54-4598-bcde-ee31749fe972"
      },
      "source": [
        "idades_ma"
      ],
      "execution_count": null,
      "outputs": [
        {
          "output_type": "execute_result",
          "data": {
            "text/plain": [
              "idade\n",
              "37     6386\n",
              "35     6302\n",
              "36     6299\n",
              "39     6248\n",
              "38     6243\n",
              "       ... \n",
              "95       83\n",
              "98       68\n",
              "97       58\n",
              "100      46\n",
              "99       44\n",
              "Length: 100, dtype: int64"
            ]
          },
          "metadata": {
            "tags": []
          },
          "execution_count": 131
        }
      ]
    },
    {
      "cell_type": "markdown",
      "metadata": {
        "id": "XGAdvBbTdLOF"
      },
      "source": [
        "### **São Luís -  Capital**"
      ]
    },
    {
      "cell_type": "code",
      "metadata": {
        "id": "RPOooPgYdH6k"
      },
      "source": [
        "covid_slz = covid_ma.query('municipio == \"São Luís\"')"
      ],
      "execution_count": null,
      "outputs": []
    },
    {
      "cell_type": "code",
      "metadata": {
        "colab": {
          "base_uri": "https://localhost:8080/",
          "height": 417
        },
        "id": "SoGCsPCGdVpp",
        "outputId": "4c2c4d7b-b700-47e0-93cf-7c5a62f3e09a"
      },
      "source": [
        "covid_slz.head()"
      ],
      "execution_count": null,
      "outputs": [
        {
          "output_type": "execute_result",
          "data": {
            "text/html": [
              "<div>\n",
              "<style scoped>\n",
              "    .dataframe tbody tr th:only-of-type {\n",
              "        vertical-align: middle;\n",
              "    }\n",
              "\n",
              "    .dataframe tbody tr th {\n",
              "        vertical-align: top;\n",
              "    }\n",
              "\n",
              "    .dataframe thead th {\n",
              "        text-align: right;\n",
              "    }\n",
              "</style>\n",
              "<table border=\"1\" class=\"dataframe\">\n",
              "  <thead>\n",
              "    <tr style=\"text-align: right;\">\n",
              "      <th></th>\n",
              "      <th>ÿid</th>\n",
              "      <th>dataNotificacao</th>\n",
              "      <th>dataInicioSintomas</th>\n",
              "      <th>dataNascimento</th>\n",
              "      <th>sintomas</th>\n",
              "      <th>profissionalSaude</th>\n",
              "      <th>cbo</th>\n",
              "      <th>condicoes</th>\n",
              "      <th>estadoTeste</th>\n",
              "      <th>dataTeste</th>\n",
              "      <th>tipoTeste</th>\n",
              "      <th>resultadoTeste</th>\n",
              "      <th>paisOrigem</th>\n",
              "      <th>sexo</th>\n",
              "      <th>estado</th>\n",
              "      <th>estadoIBGE</th>\n",
              "      <th>municipio</th>\n",
              "      <th>municipioIBGE</th>\n",
              "      <th>origem</th>\n",
              "      <th>estadoNotificacao</th>\n",
              "      <th>estadoNotificacaoIBGE</th>\n",
              "      <th>municipioNotificacao</th>\n",
              "      <th>municipioNotificacaoIBGE</th>\n",
              "      <th>excluido</th>\n",
              "      <th>validado</th>\n",
              "      <th>idade</th>\n",
              "      <th>dataEncerramento</th>\n",
              "      <th>evolucaoCaso</th>\n",
              "      <th>classificacaoFinal</th>\n",
              "    </tr>\n",
              "  </thead>\n",
              "  <tbody>\n",
              "    <tr>\n",
              "      <th>0</th>\n",
              "      <td>AbEVo5S4nX</td>\n",
              "      <td>2020-03-30T03:00:00.000Z</td>\n",
              "      <td>2020-03-29T03:00:00.000Z</td>\n",
              "      <td>undefined</td>\n",
              "      <td>Tosse</td>\n",
              "      <td>Sim</td>\n",
              "      <td>2235 - Enfermeiro</td>\n",
              "      <td>NaN</td>\n",
              "      <td>Coletado</td>\n",
              "      <td>2020-03-30T03:00:00.000Z</td>\n",
              "      <td>NaN</td>\n",
              "      <td>NaN</td>\n",
              "      <td>undefined</td>\n",
              "      <td>Masculino</td>\n",
              "      <td>MARANHÃO</td>\n",
              "      <td>21</td>\n",
              "      <td>São Luís</td>\n",
              "      <td>2111300.0</td>\n",
              "      <td>undefined</td>\n",
              "      <td>MARANHÃO</td>\n",
              "      <td>21.0</td>\n",
              "      <td>São Luís</td>\n",
              "      <td>2111300.0</td>\n",
              "      <td>undefined</td>\n",
              "      <td>undefined</td>\n",
              "      <td>55.0</td>\n",
              "      <td>NaN</td>\n",
              "      <td>NaN</td>\n",
              "      <td>NaN</td>\n",
              "    </tr>\n",
              "    <tr>\n",
              "      <th>2</th>\n",
              "      <td>6KJS2Qdpq2</td>\n",
              "      <td>2020-04-01T03:00:00.000Z</td>\n",
              "      <td>2020-03-26T03:00:00.000Z</td>\n",
              "      <td>undefined</td>\n",
              "      <td>Dor de Garganta, Dispneia, Febre, Tosse</td>\n",
              "      <td>Sim</td>\n",
              "      <td>2235 - Enfermeiro</td>\n",
              "      <td>NaN</td>\n",
              "      <td>Coletado</td>\n",
              "      <td>2020-04-02T03:00:00.000Z</td>\n",
              "      <td>NaN</td>\n",
              "      <td>NaN</td>\n",
              "      <td>undefined</td>\n",
              "      <td>Feminino</td>\n",
              "      <td>MARANHÃO</td>\n",
              "      <td>21</td>\n",
              "      <td>São Luís</td>\n",
              "      <td>2111300.0</td>\n",
              "      <td>undefined</td>\n",
              "      <td>MARANHÃO</td>\n",
              "      <td>21.0</td>\n",
              "      <td>São Luís</td>\n",
              "      <td>2111300.0</td>\n",
              "      <td>undefined</td>\n",
              "      <td>undefined</td>\n",
              "      <td>37.0</td>\n",
              "      <td>NaN</td>\n",
              "      <td>NaN</td>\n",
              "      <td>NaN</td>\n",
              "    </tr>\n",
              "    <tr>\n",
              "      <th>4</th>\n",
              "      <td>NgKU8QKx0X</td>\n",
              "      <td>2020-04-06T07:23:33.348Z</td>\n",
              "      <td>2020-04-04T04:00:00.000Z</td>\n",
              "      <td>undefined</td>\n",
              "      <td>Tosse, Outros</td>\n",
              "      <td>Não</td>\n",
              "      <td>NaN</td>\n",
              "      <td>NaN</td>\n",
              "      <td>NaN</td>\n",
              "      <td>NaN</td>\n",
              "      <td>NaN</td>\n",
              "      <td>NaN</td>\n",
              "      <td>undefined</td>\n",
              "      <td>Masculino</td>\n",
              "      <td>MARANHÃO</td>\n",
              "      <td>21</td>\n",
              "      <td>São Luís</td>\n",
              "      <td>2111300.0</td>\n",
              "      <td>undefined</td>\n",
              "      <td>MARANHÃO</td>\n",
              "      <td>21.0</td>\n",
              "      <td>São Luís</td>\n",
              "      <td>2111300.0</td>\n",
              "      <td>undefined</td>\n",
              "      <td>undefined</td>\n",
              "      <td>56.0</td>\n",
              "      <td>NaN</td>\n",
              "      <td>NaN</td>\n",
              "      <td>NaN</td>\n",
              "    </tr>\n",
              "    <tr>\n",
              "      <th>5</th>\n",
              "      <td>Y5rlV9HJRa</td>\n",
              "      <td>2020-04-06T13:31:04.344Z</td>\n",
              "      <td>2020-03-03T03:00:00.000Z</td>\n",
              "      <td>undefined</td>\n",
              "      <td>Dor de Garganta, Dispneia, Febre, Tosse, Outros</td>\n",
              "      <td>Sim</td>\n",
              "      <td>3222 - Técnico ou Auxiliar em Enfermagem</td>\n",
              "      <td>NaN</td>\n",
              "      <td>Coletado</td>\n",
              "      <td>2020-04-06T03:00:00.000Z</td>\n",
              "      <td>NaN</td>\n",
              "      <td>NaN</td>\n",
              "      <td>undefined</td>\n",
              "      <td>Masculino</td>\n",
              "      <td>MARANHÃO</td>\n",
              "      <td>21</td>\n",
              "      <td>São Luís</td>\n",
              "      <td>2111300.0</td>\n",
              "      <td>undefined</td>\n",
              "      <td>MARANHÃO</td>\n",
              "      <td>21.0</td>\n",
              "      <td>São Luís</td>\n",
              "      <td>2111300.0</td>\n",
              "      <td>undefined</td>\n",
              "      <td>undefined</td>\n",
              "      <td>33.0</td>\n",
              "      <td>NaN</td>\n",
              "      <td>NaN</td>\n",
              "      <td>NaN</td>\n",
              "    </tr>\n",
              "    <tr>\n",
              "      <th>6</th>\n",
              "      <td>SepJKM9O3F</td>\n",
              "      <td>2020-04-06T13:17:10.116Z</td>\n",
              "      <td>2020-03-29T03:00:00.000Z</td>\n",
              "      <td>undefined</td>\n",
              "      <td>Tosse</td>\n",
              "      <td>Não</td>\n",
              "      <td>NaN</td>\n",
              "      <td>NaN</td>\n",
              "      <td>Coletado</td>\n",
              "      <td>2020-04-01T03:00:00.000Z</td>\n",
              "      <td>NaN</td>\n",
              "      <td>NaN</td>\n",
              "      <td>undefined</td>\n",
              "      <td>Feminino</td>\n",
              "      <td>MARANHÃO</td>\n",
              "      <td>21</td>\n",
              "      <td>São Luís</td>\n",
              "      <td>2111300.0</td>\n",
              "      <td>undefined</td>\n",
              "      <td>MARANHÃO</td>\n",
              "      <td>21.0</td>\n",
              "      <td>São Luís</td>\n",
              "      <td>2111300.0</td>\n",
              "      <td>undefined</td>\n",
              "      <td>undefined</td>\n",
              "      <td>63.0</td>\n",
              "      <td>NaN</td>\n",
              "      <td>NaN</td>\n",
              "      <td>NaN</td>\n",
              "    </tr>\n",
              "  </tbody>\n",
              "</table>\n",
              "</div>"
            ],
            "text/plain": [
              "          ÿid           dataNotificacao  ... evolucaoCaso classificacaoFinal\n",
              "0  AbEVo5S4nX  2020-03-30T03:00:00.000Z  ...          NaN                NaN\n",
              "2  6KJS2Qdpq2  2020-04-01T03:00:00.000Z  ...          NaN                NaN\n",
              "4  NgKU8QKx0X  2020-04-06T07:23:33.348Z  ...          NaN                NaN\n",
              "5  Y5rlV9HJRa  2020-04-06T13:31:04.344Z  ...          NaN                NaN\n",
              "6  SepJKM9O3F  2020-04-06T13:17:10.116Z  ...          NaN                NaN\n",
              "\n",
              "[5 rows x 29 columns]"
            ]
          },
          "metadata": {
            "tags": []
          },
          "execution_count": 23
        }
      ]
    },
    {
      "cell_type": "code",
      "metadata": {
        "id": "jFZnefKqgPWv"
      },
      "source": [
        "testes_slz = covid_slz.value_counts('resultadoTeste').sum()"
      ],
      "execution_count": null,
      "outputs": []
    },
    {
      "cell_type": "code",
      "metadata": {
        "colab": {
          "base_uri": "https://localhost:8080/"
        },
        "id": "4sBT3-LwdtDo",
        "outputId": "cd2594c8-214e-49bc-8b17-f43b103c27d9"
      },
      "source": [
        "testes_slz"
      ],
      "execution_count": null,
      "outputs": [
        {
          "output_type": "execute_result",
          "data": {
            "text/plain": [
              "93913"
            ]
          },
          "metadata": {
            "tags": []
          },
          "execution_count": 25
        }
      ]
    },
    {
      "cell_type": "code",
      "metadata": {
        "colab": {
          "base_uri": "https://localhost:8080/"
        },
        "id": "BSEJfu72d4xd",
        "outputId": "efcc5279-a30b-4a04-827e-3455fc023bc0"
      },
      "source": [
        "covid_slz.value_counts('resultadoTeste')"
      ],
      "execution_count": null,
      "outputs": [
        {
          "output_type": "execute_result",
          "data": {
            "text/plain": [
              "resultadoTeste\n",
              "Negativo                         63058\n",
              "Positivo                         30833\n",
              "Inconclusivo ou Indeterminado       22\n",
              "dtype: int64"
            ]
          },
          "metadata": {
            "tags": []
          },
          "execution_count": 26
        }
      ]
    },
    {
      "cell_type": "code",
      "metadata": {
        "id": "hCoH_M0QgT2q"
      },
      "source": [
        "result_slz = covid_slz.value_counts('resultadoTeste')"
      ],
      "execution_count": null,
      "outputs": []
    },
    {
      "cell_type": "code",
      "metadata": {
        "id": "h6HaWGdYnmzV"
      },
      "source": [
        "result_slz = result_slz.drop('Inconclusivo ou Indeterminado')"
      ],
      "execution_count": null,
      "outputs": []
    },
    {
      "cell_type": "code",
      "metadata": {
        "colab": {
          "base_uri": "https://localhost:8080/"
        },
        "id": "uI54DVNWnq7L",
        "outputId": "a9743acf-6b94-42c7-917f-b9ef90810bbd"
      },
      "source": [
        "result_slz"
      ],
      "execution_count": null,
      "outputs": [
        {
          "output_type": "execute_result",
          "data": {
            "text/plain": [
              "resultadoTeste\n",
              "Negativo    63058\n",
              "Positivo    30833\n",
              "dtype: int64"
            ]
          },
          "metadata": {
            "tags": []
          },
          "execution_count": 29
        }
      ]
    },
    {
      "cell_type": "markdown",
      "metadata": {
        "id": "vXrtvLujwkgR"
      },
      "source": [
        "**Profissionais da saúde infectados em São Luís**\n",
        "\n",
        "\n",
        "\n",
        "\n",
        "\n"
      ]
    },
    {
      "cell_type": "code",
      "metadata": {
        "id": "IE0McIHNwcQ6"
      },
      "source": [
        "pi_slz = covid_slz.query('profissionalSaude == \"Sim\" & resultadoTeste == \"Positivo\"')"
      ],
      "execution_count": null,
      "outputs": []
    },
    {
      "cell_type": "code",
      "metadata": {
        "id": "xDr5y1iuw17F"
      },
      "source": [
        "tpi_slz = pi_slz.value_counts('resultadoTeste')"
      ],
      "execution_count": null,
      "outputs": []
    },
    {
      "cell_type": "code",
      "metadata": {
        "colab": {
          "base_uri": "https://localhost:8080/"
        },
        "id": "hMQxJumCw6PN",
        "outputId": "9ec4f67e-eaad-4355-bd13-4d45483fdf4a"
      },
      "source": [
        "tpi_slz"
      ],
      "execution_count": null,
      "outputs": [
        {
          "output_type": "execute_result",
          "data": {
            "text/plain": [
              "resultadoTeste\n",
              "Positivo    2883\n",
              "dtype: int64"
            ]
          },
          "metadata": {
            "tags": []
          },
          "execution_count": 32
        }
      ]
    },
    {
      "cell_type": "markdown",
      "metadata": {
        "id": "bDP0YfQmo0Gp"
      },
      "source": [
        "**Sexo dos infectados em São Luís**\n",
        "\n",
        "*   Item da lista\n",
        "*   Item da lista\n",
        "\n"
      ]
    },
    {
      "cell_type": "code",
      "metadata": {
        "id": "T3rVdjeroZyA"
      },
      "source": [
        "positivo_slz = covid_slz.query('resultadoTeste == \"Positivo\"')"
      ],
      "execution_count": null,
      "outputs": []
    },
    {
      "cell_type": "code",
      "metadata": {
        "id": "Thr2XE0booV4"
      },
      "source": [
        "positivos_sexo_slz = positivo_slz.value_counts('sexo')"
      ],
      "execution_count": null,
      "outputs": []
    },
    {
      "cell_type": "code",
      "metadata": {
        "colab": {
          "base_uri": "https://localhost:8080/"
        },
        "id": "1b0jgNX7stM8",
        "outputId": "48acd550-25d0-4bdf-d1f6-aff0cd252e68"
      },
      "source": [
        "positivos_sexo_slz"
      ],
      "execution_count": null,
      "outputs": [
        {
          "output_type": "execute_result",
          "data": {
            "text/plain": [
              "sexo\n",
              "Masculino     15809\n",
              "Feminino      14927\n",
              "Indefinido       97\n",
              "dtype: int64"
            ]
          },
          "metadata": {
            "tags": []
          },
          "execution_count": 35
        }
      ]
    },
    {
      "cell_type": "markdown",
      "metadata": {
        "id": "6pfKD-_LrAh6"
      },
      "source": [
        "**Idade dos infectados em São Luís**"
      ]
    },
    {
      "cell_type": "code",
      "metadata": {
        "id": "d8SrMPfJrYS6"
      },
      "source": [
        "idade_filtrada_slz = idade_filtrada.query('municipio == \"São Luís\"')"
      ],
      "execution_count": null,
      "outputs": []
    },
    {
      "cell_type": "code",
      "metadata": {
        "id": "bHK0QhtxrzG9"
      },
      "source": [
        "idades_slz = idade_filtrada_slz.value_counts('idade')"
      ],
      "execution_count": null,
      "outputs": []
    },
    {
      "cell_type": "code",
      "metadata": {
        "colab": {
          "base_uri": "https://localhost:8080/"
        },
        "id": "JsvGw25_sYiK",
        "outputId": "0f3485b3-815f-4b4f-8699-b29bbcd1873e"
      },
      "source": [
        "idades_slz"
      ],
      "execution_count": null,
      "outputs": [
        {
          "output_type": "execute_result",
          "data": {
            "text/plain": [
              "idade\n",
              "37    815\n",
              "36    808\n",
              "39    767\n",
              "38    764\n",
              "35    760\n",
              "     ... \n",
              "95     10\n",
              "96      9\n",
              "97      6\n",
              "98      5\n",
              "99      1\n",
              "Length: 99, dtype: int64"
            ]
          },
          "metadata": {
            "tags": []
          },
          "execution_count": 135
        }
      ]
    },
    {
      "cell_type": "markdown",
      "metadata": {
        "id": "EL5T97vSc8YQ"
      },
      "source": [
        "# **Açailândia**"
      ]
    },
    {
      "cell_type": "code",
      "metadata": {
        "id": "ufE-nWrKo996"
      },
      "source": [
        "covid_acai = covid_ma.query('municipio == \"Açailândia\"')"
      ],
      "execution_count": null,
      "outputs": []
    },
    {
      "cell_type": "code",
      "metadata": {
        "colab": {
          "base_uri": "https://localhost:8080/",
          "height": 383
        },
        "id": "uljSMdvApGF3",
        "outputId": "b23d16ab-4f3e-402d-e17b-a006cf4c6ddf"
      },
      "source": [
        "covid_acai.head()"
      ],
      "execution_count": null,
      "outputs": [
        {
          "output_type": "execute_result",
          "data": {
            "text/html": [
              "<div>\n",
              "<style scoped>\n",
              "    .dataframe tbody tr th:only-of-type {\n",
              "        vertical-align: middle;\n",
              "    }\n",
              "\n",
              "    .dataframe tbody tr th {\n",
              "        vertical-align: top;\n",
              "    }\n",
              "\n",
              "    .dataframe thead th {\n",
              "        text-align: right;\n",
              "    }\n",
              "</style>\n",
              "<table border=\"1\" class=\"dataframe\">\n",
              "  <thead>\n",
              "    <tr style=\"text-align: right;\">\n",
              "      <th></th>\n",
              "      <th>ÿid</th>\n",
              "      <th>dataNotificacao</th>\n",
              "      <th>dataInicioSintomas</th>\n",
              "      <th>dataNascimento</th>\n",
              "      <th>sintomas</th>\n",
              "      <th>profissionalSaude</th>\n",
              "      <th>cbo</th>\n",
              "      <th>condicoes</th>\n",
              "      <th>estadoTeste</th>\n",
              "      <th>dataTeste</th>\n",
              "      <th>tipoTeste</th>\n",
              "      <th>resultadoTeste</th>\n",
              "      <th>paisOrigem</th>\n",
              "      <th>sexo</th>\n",
              "      <th>estado</th>\n",
              "      <th>estadoIBGE</th>\n",
              "      <th>municipio</th>\n",
              "      <th>municipioIBGE</th>\n",
              "      <th>origem</th>\n",
              "      <th>estadoNotificacao</th>\n",
              "      <th>estadoNotificacaoIBGE</th>\n",
              "      <th>municipioNotificacao</th>\n",
              "      <th>municipioNotificacaoIBGE</th>\n",
              "      <th>excluido</th>\n",
              "      <th>validado</th>\n",
              "      <th>idade</th>\n",
              "      <th>dataEncerramento</th>\n",
              "      <th>evolucaoCaso</th>\n",
              "      <th>classificacaoFinal</th>\n",
              "    </tr>\n",
              "  </thead>\n",
              "  <tbody>\n",
              "    <tr>\n",
              "      <th>72</th>\n",
              "      <td>HSeQP58XwJ</td>\n",
              "      <td>2020-04-05T03:00:00.000Z</td>\n",
              "      <td>2020-03-13T03:00:00.000Z</td>\n",
              "      <td>undefined</td>\n",
              "      <td>Dor de Garganta, Dispneia, Tosse</td>\n",
              "      <td>Não</td>\n",
              "      <td>NaN</td>\n",
              "      <td>Doenças cardíacas crônicas</td>\n",
              "      <td>NaN</td>\n",
              "      <td>NaN</td>\n",
              "      <td>NaN</td>\n",
              "      <td>NaN</td>\n",
              "      <td>undefined</td>\n",
              "      <td>Masculino</td>\n",
              "      <td>MARANHÃO</td>\n",
              "      <td>21</td>\n",
              "      <td>Açailândia</td>\n",
              "      <td>2100055.0</td>\n",
              "      <td>undefined</td>\n",
              "      <td>MARANHÃO</td>\n",
              "      <td>21.0</td>\n",
              "      <td>Açailândia</td>\n",
              "      <td>2100055.0</td>\n",
              "      <td>undefined</td>\n",
              "      <td>undefined</td>\n",
              "      <td>45.0</td>\n",
              "      <td>NaN</td>\n",
              "      <td>NaN</td>\n",
              "      <td>NaN</td>\n",
              "    </tr>\n",
              "    <tr>\n",
              "      <th>373</th>\n",
              "      <td>0ggNmmd4d8</td>\n",
              "      <td>2020-04-04T03:00:00.000Z</td>\n",
              "      <td>2020-03-30T03:00:00.000Z</td>\n",
              "      <td>undefined</td>\n",
              "      <td>Tosse, Febre, Dispneia</td>\n",
              "      <td>Não</td>\n",
              "      <td>NaN</td>\n",
              "      <td>Doenças respiratórias crônicas descompensadas</td>\n",
              "      <td>NaN</td>\n",
              "      <td>NaN</td>\n",
              "      <td>NaN</td>\n",
              "      <td>NaN</td>\n",
              "      <td>undefined</td>\n",
              "      <td>Masculino</td>\n",
              "      <td>MARANHÃO</td>\n",
              "      <td>21</td>\n",
              "      <td>Açailândia</td>\n",
              "      <td>2100055.0</td>\n",
              "      <td>undefined</td>\n",
              "      <td>MARANHÃO</td>\n",
              "      <td>21.0</td>\n",
              "      <td>Açailândia</td>\n",
              "      <td>2100055.0</td>\n",
              "      <td>undefined</td>\n",
              "      <td>undefined</td>\n",
              "      <td>40.0</td>\n",
              "      <td>NaN</td>\n",
              "      <td>NaN</td>\n",
              "      <td>NaN</td>\n",
              "    </tr>\n",
              "    <tr>\n",
              "      <th>719</th>\n",
              "      <td>XMTKArMD4Z</td>\n",
              "      <td>2020-04-03T20:15:20.670Z</td>\n",
              "      <td>2020-03-28T03:00:00.000Z</td>\n",
              "      <td>undefined</td>\n",
              "      <td>Febre,Tosse,Dispneia</td>\n",
              "      <td>Não</td>\n",
              "      <td>NaN</td>\n",
              "      <td>NaN</td>\n",
              "      <td>NaN</td>\n",
              "      <td>NaN</td>\n",
              "      <td>NaN</td>\n",
              "      <td>NaN</td>\n",
              "      <td>undefined</td>\n",
              "      <td>Feminino</td>\n",
              "      <td>MARANHÃO</td>\n",
              "      <td>21</td>\n",
              "      <td>Açailândia</td>\n",
              "      <td>2100055.0</td>\n",
              "      <td>undefined</td>\n",
              "      <td>MARANHÃO</td>\n",
              "      <td>21.0</td>\n",
              "      <td>Açailândia</td>\n",
              "      <td>2100055.0</td>\n",
              "      <td>undefined</td>\n",
              "      <td>undefined</td>\n",
              "      <td>39.0</td>\n",
              "      <td>NaN</td>\n",
              "      <td>NaN</td>\n",
              "      <td>NaN</td>\n",
              "    </tr>\n",
              "    <tr>\n",
              "      <th>794</th>\n",
              "      <td>FrXtr4D2Me</td>\n",
              "      <td>2020-04-04T16:01:30.910Z</td>\n",
              "      <td>2020-04-04T03:00:00.000Z</td>\n",
              "      <td>undefined</td>\n",
              "      <td>Dor de Garganta,Dispneia,Febre</td>\n",
              "      <td>Não</td>\n",
              "      <td>NaN</td>\n",
              "      <td>NaN</td>\n",
              "      <td>NaN</td>\n",
              "      <td>NaN</td>\n",
              "      <td>NaN</td>\n",
              "      <td>NaN</td>\n",
              "      <td>undefined</td>\n",
              "      <td>Feminino</td>\n",
              "      <td>MARANHÃO</td>\n",
              "      <td>21</td>\n",
              "      <td>Açailândia</td>\n",
              "      <td>2100055.0</td>\n",
              "      <td>undefined</td>\n",
              "      <td>MARANHÃO</td>\n",
              "      <td>21.0</td>\n",
              "      <td>Açailândia</td>\n",
              "      <td>2100055.0</td>\n",
              "      <td>undefined</td>\n",
              "      <td>undefined</td>\n",
              "      <td>29.0</td>\n",
              "      <td>NaN</td>\n",
              "      <td>NaN</td>\n",
              "      <td>NaN</td>\n",
              "    </tr>\n",
              "    <tr>\n",
              "      <th>824</th>\n",
              "      <td>DYMCe6QVBa</td>\n",
              "      <td>2020-04-05T15:47:12.970Z</td>\n",
              "      <td>2020-03-24T03:00:00.000Z</td>\n",
              "      <td>undefined</td>\n",
              "      <td>Tosse, Febre, Dispneia, Dor de Garganta</td>\n",
              "      <td>Sim</td>\n",
              "      <td>3222 - Técnico ou Auxiliar em Enfermagem</td>\n",
              "      <td>NaN</td>\n",
              "      <td>Solicitado</td>\n",
              "      <td>NaN</td>\n",
              "      <td>NaN</td>\n",
              "      <td>NaN</td>\n",
              "      <td>undefined</td>\n",
              "      <td>Feminino</td>\n",
              "      <td>MARANHÃO</td>\n",
              "      <td>21</td>\n",
              "      <td>Açailândia</td>\n",
              "      <td>2100055.0</td>\n",
              "      <td>undefined</td>\n",
              "      <td>MARANHÃO</td>\n",
              "      <td>21.0</td>\n",
              "      <td>Açailândia</td>\n",
              "      <td>2100055.0</td>\n",
              "      <td>undefined</td>\n",
              "      <td>undefined</td>\n",
              "      <td>45.0</td>\n",
              "      <td>NaN</td>\n",
              "      <td>NaN</td>\n",
              "      <td>NaN</td>\n",
              "    </tr>\n",
              "  </tbody>\n",
              "</table>\n",
              "</div>"
            ],
            "text/plain": [
              "            ÿid           dataNotificacao  ... evolucaoCaso classificacaoFinal\n",
              "72   HSeQP58XwJ  2020-04-05T03:00:00.000Z  ...          NaN                NaN\n",
              "373  0ggNmmd4d8  2020-04-04T03:00:00.000Z  ...          NaN                NaN\n",
              "719  XMTKArMD4Z  2020-04-03T20:15:20.670Z  ...          NaN                NaN\n",
              "794  FrXtr4D2Me  2020-04-04T16:01:30.910Z  ...          NaN                NaN\n",
              "824  DYMCe6QVBa  2020-04-05T15:47:12.970Z  ...          NaN                NaN\n",
              "\n",
              "[5 rows x 29 columns]"
            ]
          },
          "metadata": {
            "tags": []
          },
          "execution_count": 37
        }
      ]
    },
    {
      "cell_type": "code",
      "metadata": {
        "id": "fltduQ33gdKk"
      },
      "source": [
        "testes_acai = covid_acai.value_counts('resultadoTeste').sum()"
      ],
      "execution_count": null,
      "outputs": []
    },
    {
      "cell_type": "code",
      "metadata": {
        "colab": {
          "base_uri": "https://localhost:8080/"
        },
        "id": "Ox-YQ3VcZrFe",
        "outputId": "f6ba2a27-abd4-4e34-d623-e7e8f816245d"
      },
      "source": [
        "testes_acai"
      ],
      "execution_count": null,
      "outputs": [
        {
          "output_type": "execute_result",
          "data": {
            "text/plain": [
              "12227"
            ]
          },
          "metadata": {
            "tags": []
          },
          "execution_count": 39
        }
      ]
    },
    {
      "cell_type": "code",
      "metadata": {
        "id": "47Yls1-uhjgV"
      },
      "source": [
        "result_acai = covid_acai.value_counts('resultadoTeste')"
      ],
      "execution_count": null,
      "outputs": []
    },
    {
      "cell_type": "code",
      "metadata": {
        "colab": {
          "base_uri": "https://localhost:8080/"
        },
        "id": "ygv4qB0QpM9C",
        "outputId": "6943ce23-70bf-4d22-a94a-eee566aa7881"
      },
      "source": [
        "result_acai"
      ],
      "execution_count": null,
      "outputs": [
        {
          "output_type": "execute_result",
          "data": {
            "text/plain": [
              "resultadoTeste\n",
              "Negativo    7387\n",
              "Positivo    4840\n",
              "dtype: int64"
            ]
          },
          "metadata": {
            "tags": []
          },
          "execution_count": 41
        }
      ]
    },
    {
      "cell_type": "markdown",
      "metadata": {
        "id": "H6sRDVjzxbHJ"
      },
      "source": [
        "**Profissionais da saúde infectados em Açailândia**"
      ]
    },
    {
      "cell_type": "code",
      "metadata": {
        "id": "vbH2SG7RxY6A"
      },
      "source": [
        "pi_acai = covid_acai.query('profissionalSaude == \"Sim\" & resultadoTeste == \"Positivo\"')"
      ],
      "execution_count": null,
      "outputs": []
    },
    {
      "cell_type": "code",
      "metadata": {
        "id": "FiQLbfGQxZxh"
      },
      "source": [
        "tpi_acai = pi_acai.value_counts('resultadoTeste')"
      ],
      "execution_count": null,
      "outputs": []
    },
    {
      "cell_type": "code",
      "metadata": {
        "colab": {
          "base_uri": "https://localhost:8080/"
        },
        "id": "N_FfhhFnxaNe",
        "outputId": "62143929-0ed6-4a01-9662-23014b1aae0c"
      },
      "source": [
        "tpi_acai"
      ],
      "execution_count": null,
      "outputs": [
        {
          "output_type": "execute_result",
          "data": {
            "text/plain": [
              "resultadoTeste\n",
              "Positivo    41\n",
              "dtype: int64"
            ]
          },
          "metadata": {
            "tags": []
          },
          "execution_count": 44
        }
      ]
    },
    {
      "cell_type": "markdown",
      "metadata": {
        "id": "KU7tdFeMpIex"
      },
      "source": [
        "**Sexo dos infectados em Açailândia**"
      ]
    },
    {
      "cell_type": "code",
      "metadata": {
        "id": "tRfxwsLYpO4T"
      },
      "source": [
        "positivo_acai = covid_acai.query('resultadoTeste == \"Positivo\"')"
      ],
      "execution_count": null,
      "outputs": []
    },
    {
      "cell_type": "code",
      "metadata": {
        "id": "wWoIGBigpYDb"
      },
      "source": [
        "positivos_sexo_acai = positivo_acai.value_counts('sexo')"
      ],
      "execution_count": null,
      "outputs": []
    },
    {
      "cell_type": "code",
      "metadata": {
        "colab": {
          "base_uri": "https://localhost:8080/"
        },
        "id": "6Gh-Z9wos34L",
        "outputId": "94cd43a2-95b7-4560-ce61-3aec7a18e9fc"
      },
      "source": [
        "positivos_sexo_acai"
      ],
      "execution_count": null,
      "outputs": [
        {
          "output_type": "execute_result",
          "data": {
            "text/plain": [
              "sexo\n",
              "Masculino     2455\n",
              "Feminino      2380\n",
              "Indefinido       5\n",
              "dtype: int64"
            ]
          },
          "metadata": {
            "tags": []
          },
          "execution_count": 47
        }
      ]
    },
    {
      "cell_type": "markdown",
      "metadata": {
        "id": "Mw8BURLCu1Ux"
      },
      "source": [
        "**Idade dos infectados em Açilândia**"
      ]
    },
    {
      "cell_type": "code",
      "metadata": {
        "id": "KGboX3nrtNsD"
      },
      "source": [
        "idade_filtrada_acai = idade_filtrada.query('municipio == \"Açailândia\"')"
      ],
      "execution_count": null,
      "outputs": []
    },
    {
      "cell_type": "code",
      "metadata": {
        "id": "vZQcpmEhtX-l"
      },
      "source": [
        "idades_acai = idade_filtrada_acai.value_counts('idade')"
      ],
      "execution_count": null,
      "outputs": []
    },
    {
      "cell_type": "code",
      "metadata": {
        "colab": {
          "base_uri": "https://localhost:8080/"
        },
        "id": "uU4TMMdNtekH",
        "outputId": "64c402c9-b761-467d-d3b7-bd2ca05b1bb0"
      },
      "source": [
        "idades_acai"
      ],
      "execution_count": null,
      "outputs": [
        {
          "output_type": "execute_result",
          "data": {
            "text/plain": [
              "idade\n",
              "33     137\n",
              "38     132\n",
              "36     131\n",
              "35     130\n",
              "32     121\n",
              "      ... \n",
              "93       3\n",
              "95       2\n",
              "97       2\n",
              "94       2\n",
              "100      1\n",
              "Length: 97, dtype: int64"
            ]
          },
          "metadata": {
            "tags": []
          },
          "execution_count": 142
        }
      ]
    },
    {
      "cell_type": "markdown",
      "metadata": {
        "id": "vVzOdhj2dDf3"
      },
      "source": [
        "# **Imperatriz**"
      ]
    },
    {
      "cell_type": "code",
      "metadata": {
        "id": "kYdq_5pS77CA"
      },
      "source": [
        "covid_itz = covid_ma.query('municipio == \"Imperatriz\"')"
      ],
      "execution_count": null,
      "outputs": []
    },
    {
      "cell_type": "code",
      "metadata": {
        "colab": {
          "base_uri": "https://localhost:8080/",
          "height": 400
        },
        "id": "85rkef85cjTW",
        "outputId": "2db8acca-f360-4ead-8dad-cd68d4f4778f"
      },
      "source": [
        "covid_itz.head()"
      ],
      "execution_count": null,
      "outputs": [
        {
          "output_type": "execute_result",
          "data": {
            "text/html": [
              "<div>\n",
              "<style scoped>\n",
              "    .dataframe tbody tr th:only-of-type {\n",
              "        vertical-align: middle;\n",
              "    }\n",
              "\n",
              "    .dataframe tbody tr th {\n",
              "        vertical-align: top;\n",
              "    }\n",
              "\n",
              "    .dataframe thead th {\n",
              "        text-align: right;\n",
              "    }\n",
              "</style>\n",
              "<table border=\"1\" class=\"dataframe\">\n",
              "  <thead>\n",
              "    <tr style=\"text-align: right;\">\n",
              "      <th></th>\n",
              "      <th>ÿid</th>\n",
              "      <th>dataNotificacao</th>\n",
              "      <th>dataInicioSintomas</th>\n",
              "      <th>dataNascimento</th>\n",
              "      <th>sintomas</th>\n",
              "      <th>profissionalSaude</th>\n",
              "      <th>cbo</th>\n",
              "      <th>condicoes</th>\n",
              "      <th>estadoTeste</th>\n",
              "      <th>dataTeste</th>\n",
              "      <th>tipoTeste</th>\n",
              "      <th>resultadoTeste</th>\n",
              "      <th>paisOrigem</th>\n",
              "      <th>sexo</th>\n",
              "      <th>estado</th>\n",
              "      <th>estadoIBGE</th>\n",
              "      <th>municipio</th>\n",
              "      <th>municipioIBGE</th>\n",
              "      <th>origem</th>\n",
              "      <th>estadoNotificacao</th>\n",
              "      <th>estadoNotificacaoIBGE</th>\n",
              "      <th>municipioNotificacao</th>\n",
              "      <th>municipioNotificacaoIBGE</th>\n",
              "      <th>excluido</th>\n",
              "      <th>validado</th>\n",
              "      <th>idade</th>\n",
              "      <th>dataEncerramento</th>\n",
              "      <th>evolucaoCaso</th>\n",
              "      <th>classificacaoFinal</th>\n",
              "    </tr>\n",
              "  </thead>\n",
              "  <tbody>\n",
              "    <tr>\n",
              "      <th>1</th>\n",
              "      <td>ozHhVSzSdq</td>\n",
              "      <td>2020-04-06T13:17:27.512Z</td>\n",
              "      <td>2020-03-22T03:00:00.000Z</td>\n",
              "      <td>undefined</td>\n",
              "      <td>Febre, Tosse, Dispneia, Outros</td>\n",
              "      <td>Não</td>\n",
              "      <td>NaN</td>\n",
              "      <td>NaN</td>\n",
              "      <td>Coletado</td>\n",
              "      <td>2020-04-06T03:00:00.000Z</td>\n",
              "      <td>NaN</td>\n",
              "      <td>NaN</td>\n",
              "      <td>undefined</td>\n",
              "      <td>Masculino</td>\n",
              "      <td>MARANHÃO</td>\n",
              "      <td>21</td>\n",
              "      <td>Imperatriz</td>\n",
              "      <td>2105302.0</td>\n",
              "      <td>undefined</td>\n",
              "      <td>MARANHÃO</td>\n",
              "      <td>21.0</td>\n",
              "      <td>Imperatriz</td>\n",
              "      <td>2105302.0</td>\n",
              "      <td>undefined</td>\n",
              "      <td>undefined</td>\n",
              "      <td>47.0</td>\n",
              "      <td>NaN</td>\n",
              "      <td>NaN</td>\n",
              "      <td>NaN</td>\n",
              "    </tr>\n",
              "    <tr>\n",
              "      <th>52</th>\n",
              "      <td>C0ya737eMv</td>\n",
              "      <td>2020-04-06T03:00:00.000Z</td>\n",
              "      <td>2020-03-30T03:00:00.000Z</td>\n",
              "      <td>undefined</td>\n",
              "      <td>Dor de Garganta, Febre, Tosse</td>\n",
              "      <td>Não</td>\n",
              "      <td>NaN</td>\n",
              "      <td>NaN</td>\n",
              "      <td>NaN</td>\n",
              "      <td>NaN</td>\n",
              "      <td>NaN</td>\n",
              "      <td>NaN</td>\n",
              "      <td>undefined</td>\n",
              "      <td>Feminino</td>\n",
              "      <td>MARANHÃO</td>\n",
              "      <td>21</td>\n",
              "      <td>Imperatriz</td>\n",
              "      <td>2105302.0</td>\n",
              "      <td>undefined</td>\n",
              "      <td>MARANHÃO</td>\n",
              "      <td>21.0</td>\n",
              "      <td>Governador Edison Lobão</td>\n",
              "      <td>2104552.0</td>\n",
              "      <td>undefined</td>\n",
              "      <td>undefined</td>\n",
              "      <td>26.0</td>\n",
              "      <td>NaN</td>\n",
              "      <td>NaN</td>\n",
              "      <td>NaN</td>\n",
              "    </tr>\n",
              "    <tr>\n",
              "      <th>57</th>\n",
              "      <td>JUzKNcyiIH</td>\n",
              "      <td>2020-04-06T03:00:00.000Z</td>\n",
              "      <td>2020-04-05T03:00:00.000Z</td>\n",
              "      <td>undefined</td>\n",
              "      <td>Tosse</td>\n",
              "      <td>Não</td>\n",
              "      <td>NaN</td>\n",
              "      <td>NaN</td>\n",
              "      <td>NaN</td>\n",
              "      <td>NaN</td>\n",
              "      <td>NaN</td>\n",
              "      <td>NaN</td>\n",
              "      <td>undefined</td>\n",
              "      <td>Masculino</td>\n",
              "      <td>MARANHÃO</td>\n",
              "      <td>21</td>\n",
              "      <td>Imperatriz</td>\n",
              "      <td>2105302.0</td>\n",
              "      <td>undefined</td>\n",
              "      <td>MARANHÃO</td>\n",
              "      <td>21.0</td>\n",
              "      <td>Governador Edison Lobão</td>\n",
              "      <td>2104552.0</td>\n",
              "      <td>undefined</td>\n",
              "      <td>undefined</td>\n",
              "      <td>30.0</td>\n",
              "      <td>NaN</td>\n",
              "      <td>NaN</td>\n",
              "      <td>NaN</td>\n",
              "    </tr>\n",
              "    <tr>\n",
              "      <th>63</th>\n",
              "      <td>ECYrdK7ZN6</td>\n",
              "      <td>2020-04-06T03:00:00.000Z</td>\n",
              "      <td>2020-04-04T03:00:00.000Z</td>\n",
              "      <td>undefined</td>\n",
              "      <td>Dispneia, Febre</td>\n",
              "      <td>Não</td>\n",
              "      <td>NaN</td>\n",
              "      <td>NaN</td>\n",
              "      <td>NaN</td>\n",
              "      <td>NaN</td>\n",
              "      <td>NaN</td>\n",
              "      <td>NaN</td>\n",
              "      <td>undefined</td>\n",
              "      <td>Feminino</td>\n",
              "      <td>MARANHÃO</td>\n",
              "      <td>21</td>\n",
              "      <td>Imperatriz</td>\n",
              "      <td>2105302.0</td>\n",
              "      <td>undefined</td>\n",
              "      <td>MARANHÃO</td>\n",
              "      <td>21.0</td>\n",
              "      <td>Governador Edison Lobão</td>\n",
              "      <td>2104552.0</td>\n",
              "      <td>undefined</td>\n",
              "      <td>undefined</td>\n",
              "      <td>41.0</td>\n",
              "      <td>NaN</td>\n",
              "      <td>NaN</td>\n",
              "      <td>NaN</td>\n",
              "    </tr>\n",
              "    <tr>\n",
              "      <th>164</th>\n",
              "      <td>SsE6bE0dw8</td>\n",
              "      <td>2020-04-06T18:04:25.570Z</td>\n",
              "      <td>2020-04-06T03:00:00.000Z</td>\n",
              "      <td>undefined</td>\n",
              "      <td>Outros, Dispneia</td>\n",
              "      <td>Sim</td>\n",
              "      <td>225 - Médico</td>\n",
              "      <td>Doenças cardíacas crônicas</td>\n",
              "      <td>Coletado</td>\n",
              "      <td>2020-04-06T03:00:00.000Z</td>\n",
              "      <td>NaN</td>\n",
              "      <td>NaN</td>\n",
              "      <td>undefined</td>\n",
              "      <td>Masculino</td>\n",
              "      <td>MARANHÃO</td>\n",
              "      <td>21</td>\n",
              "      <td>Imperatriz</td>\n",
              "      <td>2105302.0</td>\n",
              "      <td>undefined</td>\n",
              "      <td>MARANHÃO</td>\n",
              "      <td>21.0</td>\n",
              "      <td>Imperatriz</td>\n",
              "      <td>2105302.0</td>\n",
              "      <td>undefined</td>\n",
              "      <td>undefined</td>\n",
              "      <td>70.0</td>\n",
              "      <td>NaN</td>\n",
              "      <td>NaN</td>\n",
              "      <td>NaN</td>\n",
              "    </tr>\n",
              "  </tbody>\n",
              "</table>\n",
              "</div>"
            ],
            "text/plain": [
              "            ÿid           dataNotificacao  ... evolucaoCaso classificacaoFinal\n",
              "1    ozHhVSzSdq  2020-04-06T13:17:27.512Z  ...          NaN                NaN\n",
              "52   C0ya737eMv  2020-04-06T03:00:00.000Z  ...          NaN                NaN\n",
              "57   JUzKNcyiIH  2020-04-06T03:00:00.000Z  ...          NaN                NaN\n",
              "63   ECYrdK7ZN6  2020-04-06T03:00:00.000Z  ...          NaN                NaN\n",
              "164  SsE6bE0dw8  2020-04-06T18:04:25.570Z  ...          NaN                NaN\n",
              "\n",
              "[5 rows x 29 columns]"
            ]
          },
          "metadata": {
            "tags": []
          },
          "execution_count": 49
        }
      ]
    },
    {
      "cell_type": "code",
      "metadata": {
        "id": "Sx89GKITh4JG"
      },
      "source": [
        "testes_itz = covid_itz.value_counts('resultadoTeste').sum()"
      ],
      "execution_count": null,
      "outputs": []
    },
    {
      "cell_type": "code",
      "metadata": {
        "colab": {
          "base_uri": "https://localhost:8080/"
        },
        "id": "anBpVm5ucuei",
        "outputId": "959c1700-6366-4eca-bd21-676331f96e8e"
      },
      "source": [
        "testes_itz"
      ],
      "execution_count": null,
      "outputs": [
        {
          "output_type": "execute_result",
          "data": {
            "text/plain": [
              "49195"
            ]
          },
          "metadata": {
            "tags": []
          },
          "execution_count": 51
        }
      ]
    },
    {
      "cell_type": "code",
      "metadata": {
        "id": "tdAKkTxTh-Lg"
      },
      "source": [
        "result_itz = covid_itz.value_counts('resultadoTeste')   "
      ],
      "execution_count": null,
      "outputs": []
    },
    {
      "cell_type": "code",
      "metadata": {
        "id": "KShuRSwrdz0h"
      },
      "source": [
        "result_itz = result_itz.drop('Inconclusivo ou Indeterminado')"
      ],
      "execution_count": null,
      "outputs": []
    },
    {
      "cell_type": "code",
      "metadata": {
        "colab": {
          "base_uri": "https://localhost:8080/"
        },
        "id": "niSim-fGnceX",
        "outputId": "d89a78e4-dd18-41c7-917c-85b1de1e5846"
      },
      "source": [
        "result_itz"
      ],
      "execution_count": null,
      "outputs": [
        {
          "output_type": "execute_result",
          "data": {
            "text/plain": [
              "resultadoTeste\n",
              "Negativo    31196\n",
              "Positivo    17982\n",
              "dtype: int64"
            ]
          },
          "metadata": {
            "tags": []
          },
          "execution_count": 54
        }
      ]
    },
    {
      "cell_type": "markdown",
      "metadata": {
        "id": "ZRF8dcAnygwy"
      },
      "source": [
        "**Profissionais da saúde infectados em Imperatriz**"
      ]
    },
    {
      "cell_type": "code",
      "metadata": {
        "id": "kBQRBvjdytTU"
      },
      "source": [
        "pi_itz = covid_itz.query('profissionalSaude == \"Sim\" & resultadoTeste == \"Positivo\"')"
      ],
      "execution_count": null,
      "outputs": []
    },
    {
      "cell_type": "code",
      "metadata": {
        "id": "g-wiuoMzytw5"
      },
      "source": [
        "tpi_itz = pi_itz.value_counts('resultadoTeste')"
      ],
      "execution_count": null,
      "outputs": []
    },
    {
      "cell_type": "code",
      "metadata": {
        "colab": {
          "base_uri": "https://localhost:8080/"
        },
        "id": "RYxeFbG9yuJs",
        "outputId": "18f1c573-b1b2-402c-fb13-046e05f8b425"
      },
      "source": [
        "tpi_itz"
      ],
      "execution_count": null,
      "outputs": [
        {
          "output_type": "execute_result",
          "data": {
            "text/plain": [
              "resultadoTeste\n",
              "Positivo    722\n",
              "dtype: int64"
            ]
          },
          "metadata": {
            "tags": []
          },
          "execution_count": 57
        }
      ]
    },
    {
      "cell_type": "markdown",
      "metadata": {
        "id": "cMyH6vJFpoKG"
      },
      "source": [
        "**Sexo dos infectados em Imperatriz**"
      ]
    },
    {
      "cell_type": "code",
      "metadata": {
        "id": "xn2tYBs3pucW"
      },
      "source": [
        "positivo_itz = covid_itz.query('resultadoTeste == \"Positivo\"')"
      ],
      "execution_count": null,
      "outputs": []
    },
    {
      "cell_type": "code",
      "metadata": {
        "id": "QzKb_HfHpzWk"
      },
      "source": [
        "positivos_sexo_itz = positivo_itz.value_counts('sexo')"
      ],
      "execution_count": null,
      "outputs": []
    },
    {
      "cell_type": "code",
      "metadata": {
        "colab": {
          "base_uri": "https://localhost:8080/"
        },
        "id": "6xMAiQ96tBd6",
        "outputId": "650282fc-9a90-4084-918f-a43dc9f2c588"
      },
      "source": [
        "positivos_sexo_itz.sort_index"
      ],
      "execution_count": null,
      "outputs": [
        {
          "output_type": "execute_result",
          "data": {
            "text/plain": [
              "<bound method Series.sort_index of sexo\n",
              "Feminino      9772\n",
              "Masculino     8203\n",
              "Indefinido       7\n",
              "dtype: int64>"
            ]
          },
          "metadata": {
            "tags": []
          },
          "execution_count": 61
        }
      ]
    },
    {
      "cell_type": "markdown",
      "metadata": {
        "id": "NJ_OhQjzvQNI"
      },
      "source": [
        "**Idade dos infectados em Imperatriz**"
      ]
    },
    {
      "cell_type": "code",
      "metadata": {
        "id": "-LKnqnt_vNZD"
      },
      "source": [
        "idade_filtrada_itz = idade_filtrada.query('municipio == \"Imperatriz\"')"
      ],
      "execution_count": null,
      "outputs": []
    },
    {
      "cell_type": "code",
      "metadata": {
        "id": "BOZP0q6EvOmO"
      },
      "source": [
        "idades_itz = idade_filtrada_itz.value_counts('idade')"
      ],
      "execution_count": null,
      "outputs": []
    },
    {
      "cell_type": "code",
      "metadata": {
        "colab": {
          "base_uri": "https://localhost:8080/"
        },
        "id": "_GtoREgTvoiB",
        "outputId": "5fdf4ad0-5f0b-4275-9eb0-e5ca1692fa61"
      },
      "source": [
        "idades_itz"
      ],
      "execution_count": null,
      "outputs": [
        {
          "output_type": "execute_result",
          "data": {
            "text/plain": [
              "idade\n",
              "33     467\n",
              "36     436\n",
              "34     436\n",
              "31     433\n",
              "38     433\n",
              "      ... \n",
              "97       6\n",
              "92       6\n",
              "100      5\n",
              "99       4\n",
              "95       4\n",
              "Length: 99, dtype: int64"
            ]
          },
          "metadata": {
            "tags": []
          },
          "execution_count": 152
        }
      ]
    },
    {
      "cell_type": "markdown",
      "metadata": {
        "id": "1qZOhHUFqHuZ"
      },
      "source": [
        "# **Visualização dos dados**"
      ]
    },
    {
      "cell_type": "code",
      "metadata": {
        "colab": {
          "base_uri": "https://localhost:8080/",
          "height": 411
        },
        "id": "jsOJl52vfM_K",
        "outputId": "50f33b91-d290-452f-99ae-fc8093862c97"
      },
      "source": [
        "#---------Testes da COVID-19 no estado do Maranhão---------\n",
        "cores = ['#7FFFD4', '#FA8072']\n",
        "legenda = ['Negativo', 'Positivo']\n",
        "\n",
        "fig,(ax1, ax2, ax3, ax4) = plt.subplots(1, 4, figsize=(20,6))\n",
        "plt.suptitle('Testes da COVID-19 no estado do Maranhão', weight='bold', size=22)\n",
        "\n",
        "ax1.pie(result_ma, labels=result_ma, autopct='%1.1f%%', shadow=True, explode=(0,0.05), colors=cores)\n",
        "ax1.set_title('Todo o estado', weight='bold', size=15)\n",
        "ax1.legend(legenda, title='Resultado', bbox_to_anchor=(1, 0))\n",
        "\n",
        "ax2.pie(result_slz, labels=result_slz, autopct='%1.1f%%', shadow=True, explode=(0,0.05), colors=cores)\n",
        "ax2.set_title('São Luís', weight='bold', size=15)\n",
        "ax2.legend(legenda, title='Resultado', bbox_to_anchor=(1, 0))\n",
        "\n",
        "ax3.pie(result_acai, labels=result_acai, autopct='%1.1f%%', shadow=True, explode=(0,0.05), colors=cores)\n",
        "ax3.set_title('Açailândia', weight='bold', size=15)\n",
        "ax3.legend(legenda, title='Resultado', bbox_to_anchor=(1, 0))\n",
        "\n",
        "ax4.pie(result_itz, labels=result_itz, autopct='%1.1f%%', shadow=True, explode=(0,0.05), colors=cores)\n",
        "ax4.set_title('Imperatriz', weight='bold', size=15)\n",
        "ax4.legend(legenda, title='Resultado', bbox_to_anchor=(1, 0))\n",
        "\n",
        "plt.show()"
      ],
      "execution_count": null,
      "outputs": [
        {
          "output_type": "display_data",
          "data": {
            "image/png": "[encoded data removed]",
            "text/plain": [
              "<Figure size 1440x432 with 4 Axes>"
            ]
          },
          "metadata": {
            "tags": []
          }
        }
      ]
    },
    {
      "cell_type": "code",
      "metadata": {
        "colab": {
          "base_uri": "https://localhost:8080/",
          "height": 401
        },
        "id": "qLLmGU-8zI_-",
        "outputId": "a58810bd-24d0-47ba-bd91-d1d13a4f0ab9"
      },
      "source": [
        "#---------Profissionais da saúde que testaram positivo a COVID-19---------\n",
        "cores = ['#B0E0E6', '#FF7F50']\n",
        "ma = (result_ma['Positivo'], tpi_ma['Positivo'])\n",
        "slz = (result_slz['Positivo'], tpi_slz['Positivo'])\n",
        "acai = (result_acai['Positivo'], tpi_acai['Positivo'])\n",
        "itz = (result_itz['Positivo'], tpi_itz['Positivo'])\n",
        "legenda = ('Não profissional', 'Profissional da saúde')\n",
        "\n",
        "fig,(ax1, ax2, ax3, ax4)= plt.subplots(1,4, figsize = (22,7))\n",
        "plt.suptitle('Profissionais da saúde que testaram positivo a COVID-19 no estado do Maranhão', weight='bold', size=22)\n",
        "\n",
        "ax1.pie(ma, labels=ma, autopct='%1.1f%%', shadow=True, explode=(0.1,0.1), colors=cores)\n",
        "ax1.set_title('Todo o estado', weight='bold', size=15)\n",
        "ax1.legend(legenda, bbox_to_anchor=(1, 0))\n",
        "\n",
        "ax2.pie(slz, labels=slz, autopct='%1.1f%%', shadow=True, explode=(0,0.1), colors=cores)\n",
        "ax2.set_title('São Luís', weight='bold', size=15)\n",
        "ax2.legend(legenda, bbox_to_anchor=(1, 0))\n",
        "\n",
        "ax3.pie(acai, labels=acai, autopct='%1.1f%%', shadow=True, explode=(0.2,0.2), colors=cores)\n",
        "ax3.set_title('Açailândia', weight='bold', size=15)\n",
        "ax3.legend(legenda, bbox_to_anchor=(1, 0))\n",
        "\n",
        "ax4.pie(itz, labels=itz, autopct='%1.1f%%', shadow=True, explode=(0.1,0.1), colors=cores)\n",
        "ax4.set_title('Imperatriz', weight='bold', size=15)\n",
        "ax4.legend(legenda, bbox_to_anchor=(1, 0))\n",
        "\n",
        "plt.show()"
      ],
      "execution_count": null,
      "outputs": [
        {
          "output_type": "display_data",
          "data": {
            "image/png": "[encoded data removed]",
            "text/plain": [
              "<Figure size 1584x504 with 4 Axes>"
            ]
          },
          "metadata": {
            "tags": []
          }
        }
      ]
    },
    {
      "cell_type": "code",
      "metadata": {
        "colab": {
          "base_uri": "https://localhost:8080/",
          "height": 387
        },
        "id": "Co0Kcskop-4m",
        "outputId": "7d97dcad-90c8-4074-89c4-4f5929fb4516"
      },
      "source": [
        "#---------Sexo das pessoa que testaram positivo a COVID-19---------\n",
        "\n",
        "cores = ('#F08080', '#B0C4DE', '#FF0000')\n",
        "legenda = ('Feminino', 'Masculino')\n",
        "ma = (positivos_sexo_ma['Feminino'], positivos_sexo_ma['Masculino'])\n",
        "slz = (positivos_sexo_slz['Feminino'], positivos_sexo_slz['Masculino'])\n",
        "acai = (positivos_sexo_acai['Feminino'], positivos_sexo_acai['Masculino'])\n",
        "itz = (positivos_sexo_itz['Feminino'], positivos_sexo_itz['Masculino'])\n",
        "\n",
        "fig,(ax1, ax2, ax3, ax4)= plt.subplots(1,4, figsize = (28,8))\n",
        "plt.suptitle('Sexo das pessoas que testaram positivo a COVID-19 no estado do Maranhão', weight='bold', size=22)\n",
        "\n",
        "ax1.bar(legenda, ma, color=cores)\n",
        "ax1.set_title('Todo o estado', weight='bold', size=15)\n",
        "ax1.set_ylabel('Quantidade de infectados', size=13)\n",
        "\n",
        "ax2.bar(legenda, slz, color=cores)\n",
        "ax2.set_title('São Luís', weight='bold', size=15)\n",
        "\n",
        "ax3.bar(legenda, acai, color=cores)\n",
        "ax3.set_title('Açailândia', weight='bold', size=15)\n",
        "\n",
        "ax4.bar(legenda, itz, color=cores)\n",
        "ax4.set_title('Imperatriz', weight='bold', size=15)\n",
        "\n",
        "plt.show()"
      ],
      "execution_count": null,
      "outputs": [
        {
          "output_type": "display_data",
          "data": {
            "image/png": "[encoded data removed]",
            "text/plain": [
              "<Figure size 2016x576 with 4 Axes>"
            ]
          },
          "metadata": {
            "tags": [],
            "needs_background": "light"
          }
        }
      ]
    },
    {
      "cell_type": "code",
      "metadata": {
        "id": "yXlxSEePtrBu"
      },
      "source": [
        "import seaborn as sns"
      ],
      "execution_count": null,
      "outputs": []
    },
    {
      "cell_type": "code",
      "metadata": {
        "colab": {
          "base_uri": "https://localhost:8080/",
          "height": 375
        },
        "id": "lxpKqjUPvBp0",
        "outputId": "5d2997da-869d-4d35-b027-a100e439d8af"
      },
      "source": [
        "#---------Idade das pessoa que testaram positivo a COVID-19---------\n",
        "plt.figure(figsize = (20,5))\n",
        "plt.suptitle('Idade das pessoas que testaram positivo a COVID-19 no estado do Maranhão', weight='bold', size=20)\n",
        "\n",
        "sns.barplot(x = idades_ma.index, y = idades_ma.values)\n",
        "plt.xlabel('Idade')\n",
        "plt.ylabel('Quantidade de infectados')\n",
        "plt.xticks(rotation=70)\n",
        "\n",
        "plt.show()"
      ],
      "execution_count": null,
      "outputs": [
        {
          "output_type": "display_data",
          "data": {
            "image/png": "[encoded data removed]",
            "text/plain": [
              "<Figure size 1440x360 with 1 Axes>"
            ]
          },
          "metadata": {
            "tags": [],
            "needs_background": "light"
          }
        }
      ]
    },
    {
      "cell_type": "code",
      "metadata": {
        "colab": {
          "base_uri": "https://localhost:8080/",
          "height": 371
        },
        "id": "MtthEx75srgV",
        "outputId": "c339e99b-ecff-4953-8150-9434108f66d0"
      },
      "source": [
        "plt.figure(figsize = (20,5))\n",
        "plt.suptitle('Idade das pessoas que testaram positivo a COVID-19 na cidade de São Luís', weight='bold', size=20)\n",
        "\n",
        "sns.barplot(x = idades_slz.index, y = idades_slz.values)\n",
        "plt.xlabel('Idade')\n",
        "plt.ylabel('Quantidade de infectados')\n",
        "plt.xticks(rotation=70)\n",
        "\n",
        "plt.show()"
      ],
      "execution_count": null,
      "outputs": [
        {
          "output_type": "display_data",
          "data": {
            "image/png": "[encoded data removed]",
            "text/plain": [
              "<Figure size 1440x360 with 1 Axes>"
            ]
          },
          "metadata": {
            "tags": [],
            "needs_background": "light"
          }
        }
      ]
    },
    {
      "cell_type": "code",
      "metadata": {
        "colab": {
          "base_uri": "https://localhost:8080/",
          "height": 377
        },
        "id": "5caJqPfDtyf3",
        "outputId": "41e3d655-839e-49f4-c5fb-3b606ae93afa"
      },
      "source": [
        "plt.figure(figsize = (20,5))\n",
        "plt.suptitle('Idade das pessoas que testaram positivo a COVID-19 na cidade de Açailândia', weight='bold', size=20)\n",
        "\n",
        "sns.barplot(x = idades_acai.index, y = idades_acai.values)\n",
        "plt.xlabel('Idade')\n",
        "plt.ylabel('Quantidade de infectados')\n",
        "plt.xticks(rotation=70)\n",
        "\n",
        "plt.show()"
      ],
      "execution_count": null,
      "outputs": [
        {
          "output_type": "display_data",
          "data": {
            "image/png": "[encoded data removed]",
            "text/plain": [
              "<Figure size 1440x360 with 1 Axes>"
            ]
          },
          "metadata": {
            "tags": [],
            "needs_background": "light"
          }
        }
      ]
    },
    {
      "cell_type": "code",
      "metadata": {
        "colab": {
          "base_uri": "https://localhost:8080/",
          "height": 377
        },
        "id": "CAo_yROcvyV0",
        "outputId": "137a1679-5d5f-4325-b425-22facc14f6ca"
      },
      "source": [
        "plt.figure(figsize = (20,5))\n",
        "plt.suptitle('Idade das pessoas que testaram positivo a COVID-19 na cidade de Imperatriz', weight='bold', size=20)\n",
        "\n",
        "sns.barplot(x=idades_itz.index, y=idades_itz.values)\n",
        "plt.xlabel('Idade')\n",
        "plt.ylabel('Quantidade de infectados')\n",
        "plt.xticks(rotation=70)\n",
        "\n",
        "plt.show()"
      ],
      "execution_count": null,
      "outputs": [
        {
          "output_type": "display_data",
          "data": {
            "image/png": "[encoded data removed]",
            "text/plain": [
              "<Figure size 1440x360 with 1 Axes>"
            ]
          },
          "metadata": {
            "tags": [],
            "needs_background": "light"
          }
        }
      ]
    }
  ]
}