{
  "nbformat": 4,
  "nbformat_minor": 0,
  "metadata": {
    "colab": {
      "name": "covid_ma.ipynb",
      "provenance": [],
      "collapsed_sections": [],
      "authorship_tag": "ABX9TyN2xnCSnn4m4Xmesrq4MRxk",
      "include_colab_link": true
    },
    "kernelspec": {
      "display_name": "Python 3",
      "name": "python3"
    },
    "language_info": {
      "name": "python"
    }
  },
  "cells": [
    {
      "cell_type": "markdown",
      "metadata": {
        "id": "view-in-github",
        "colab_type": "text"
      },
      "source": [
        "<a href=\"https://colab.research.google.com/github/cecellhax/analises_covid19/blob/main/covid_ma.ipynb\" target=\"_parent\"><img src=\"https://colab.research.google.com/assets/colab-badge.svg\" alt=\"Open In Colab\"/></a>"
      ]
    },
    {
      "cell_type": "markdown",
      "metadata": {
        "id": "x7PXgTkYlzia"
      },
      "source": [
        "# **Anális dos dados da COVID-19 no estado do Maranhão**\n",
        "\n",
        "Dados de todo o estado e de algumas de sua principais cidades.\n",
        "\n",
        "\n",
        "**1.   Testes realizados;**\n",
        "\n",
        "**2.   Profissionais da saúde.**\n",
        "\n",
        "Disponíveis em: https://s3-sa-east-1.amazonaws.com/ckan.saude.gov.br/dados-ma.csv"
      ]
    },
    {
      "cell_type": "code",
      "metadata": {
        "id": "x1FCOqE_V13b"
      },
      "source": [
        "import pandas as pd\n",
        "import matplotlib.pyplot as plt"
      ],
      "execution_count": null,
      "outputs": []
    },
    {
      "cell_type": "code",
      "metadata": {
        "id": "cZPM4QPsYBh7"
      },
      "source": [
        "covid_ma = pd.read_csv('https://s3-sa-east-1.amazonaws.com/ckan.saude.gov.br/dados-ma.csv', encoding='latin1', sep=';')"
      ],
      "execution_count": null,
      "outputs": []
    },
    {
      "cell_type": "code",
      "metadata": {
        "id": "-Gj5gdtPfE3Q",
        "colab": {
          "base_uri": "https://localhost:8080/",
          "height": 417
        },
        "outputId": "a66b402f-d3c9-4753-fda4-11e3f83644ee"
      },
      "source": [
        "covid_ma.head()"
      ],
      "execution_count": null,
      "outputs": [
        {
          "output_type": "execute_result",
          "data": {
            "text/html": [
              "<div>\n",
              "<style scoped>\n",
              "    .dataframe tbody tr th:only-of-type {\n",
              "        vertical-align: middle;\n",
              "    }\n",
              "\n",
              "    .dataframe tbody tr th {\n",
              "        vertical-align: top;\n",
              "    }\n",
              "\n",
              "    .dataframe thead th {\n",
              "        text-align: right;\n",
              "    }\n",
              "</style>\n",
              "<table border=\"1\" class=\"dataframe\">\n",
              "  <thead>\n",
              "    <tr style=\"text-align: right;\">\n",
              "      <th></th>\n",
              "      <th>ÿid</th>\n",
              "      <th>dataNotificacao</th>\n",
              "      <th>dataInicioSintomas</th>\n",
              "      <th>dataNascimento</th>\n",
              "      <th>sintomas</th>\n",
              "      <th>profissionalSaude</th>\n",
              "      <th>cbo</th>\n",
              "      <th>condicoes</th>\n",
              "      <th>estadoTeste</th>\n",
              "      <th>dataTeste</th>\n",
              "      <th>tipoTeste</th>\n",
              "      <th>resultadoTeste</th>\n",
              "      <th>paisOrigem</th>\n",
              "      <th>sexo</th>\n",
              "      <th>estado</th>\n",
              "      <th>estadoIBGE</th>\n",
              "      <th>municipio</th>\n",
              "      <th>municipioIBGE</th>\n",
              "      <th>origem</th>\n",
              "      <th>estadoNotificacao</th>\n",
              "      <th>estadoNotificacaoIBGE</th>\n",
              "      <th>municipioNotificacao</th>\n",
              "      <th>municipioNotificacaoIBGE</th>\n",
              "      <th>excluido</th>\n",
              "      <th>validado</th>\n",
              "      <th>idade</th>\n",
              "      <th>dataEncerramento</th>\n",
              "      <th>evolucaoCaso</th>\n",
              "      <th>classificacaoFinal</th>\n",
              "    </tr>\n",
              "  </thead>\n",
              "  <tbody>\n",
              "    <tr>\n",
              "      <th>0</th>\n",
              "      <td>AbEVo5S4nX</td>\n",
              "      <td>2020-03-30T03:00:00.000Z</td>\n",
              "      <td>2020-03-29T03:00:00.000Z</td>\n",
              "      <td>undefined</td>\n",
              "      <td>Tosse</td>\n",
              "      <td>Sim</td>\n",
              "      <td>2235 - Enfermeiro</td>\n",
              "      <td>NaN</td>\n",
              "      <td>Coletado</td>\n",
              "      <td>2020-03-30T03:00:00.000Z</td>\n",
              "      <td>NaN</td>\n",
              "      <td>NaN</td>\n",
              "      <td>undefined</td>\n",
              "      <td>Masculino</td>\n",
              "      <td>MARANHÃO</td>\n",
              "      <td>21</td>\n",
              "      <td>São Luís</td>\n",
              "      <td>2111300.0</td>\n",
              "      <td>undefined</td>\n",
              "      <td>MARANHÃO</td>\n",
              "      <td>21.0</td>\n",
              "      <td>São Luís</td>\n",
              "      <td>2111300.0</td>\n",
              "      <td>undefined</td>\n",
              "      <td>undefined</td>\n",
              "      <td>55.0</td>\n",
              "      <td>NaN</td>\n",
              "      <td>NaN</td>\n",
              "      <td>NaN</td>\n",
              "    </tr>\n",
              "    <tr>\n",
              "      <th>1</th>\n",
              "      <td>ozHhVSzSdq</td>\n",
              "      <td>2020-04-06T13:17:27.512Z</td>\n",
              "      <td>2020-03-22T03:00:00.000Z</td>\n",
              "      <td>undefined</td>\n",
              "      <td>Febre, Tosse, Dispneia, Outros</td>\n",
              "      <td>Não</td>\n",
              "      <td>NaN</td>\n",
              "      <td>NaN</td>\n",
              "      <td>Coletado</td>\n",
              "      <td>2020-04-06T03:00:00.000Z</td>\n",
              "      <td>NaN</td>\n",
              "      <td>NaN</td>\n",
              "      <td>undefined</td>\n",
              "      <td>Masculino</td>\n",
              "      <td>MARANHÃO</td>\n",
              "      <td>21</td>\n",
              "      <td>Imperatriz</td>\n",
              "      <td>2105302.0</td>\n",
              "      <td>undefined</td>\n",
              "      <td>MARANHÃO</td>\n",
              "      <td>21.0</td>\n",
              "      <td>Imperatriz</td>\n",
              "      <td>2105302.0</td>\n",
              "      <td>undefined</td>\n",
              "      <td>undefined</td>\n",
              "      <td>47.0</td>\n",
              "      <td>NaN</td>\n",
              "      <td>NaN</td>\n",
              "      <td>NaN</td>\n",
              "    </tr>\n",
              "    <tr>\n",
              "      <th>2</th>\n",
              "      <td>6KJS2Qdpq2</td>\n",
              "      <td>2020-04-01T03:00:00.000Z</td>\n",
              "      <td>2020-03-26T03:00:00.000Z</td>\n",
              "      <td>undefined</td>\n",
              "      <td>Dor de Garganta, Dispneia, Febre, Tosse</td>\n",
              "      <td>Sim</td>\n",
              "      <td>2235 - Enfermeiro</td>\n",
              "      <td>NaN</td>\n",
              "      <td>Coletado</td>\n",
              "      <td>2020-04-02T03:00:00.000Z</td>\n",
              "      <td>NaN</td>\n",
              "      <td>NaN</td>\n",
              "      <td>undefined</td>\n",
              "      <td>Feminino</td>\n",
              "      <td>MARANHÃO</td>\n",
              "      <td>21</td>\n",
              "      <td>São Luís</td>\n",
              "      <td>2111300.0</td>\n",
              "      <td>undefined</td>\n",
              "      <td>MARANHÃO</td>\n",
              "      <td>21.0</td>\n",
              "      <td>São Luís</td>\n",
              "      <td>2111300.0</td>\n",
              "      <td>undefined</td>\n",
              "      <td>undefined</td>\n",
              "      <td>37.0</td>\n",
              "      <td>NaN</td>\n",
              "      <td>NaN</td>\n",
              "      <td>NaN</td>\n",
              "    </tr>\n",
              "    <tr>\n",
              "      <th>3</th>\n",
              "      <td>SXtw57busW</td>\n",
              "      <td>2020-04-01T03:00:00.000Z</td>\n",
              "      <td>2020-03-31T03:00:00.000Z</td>\n",
              "      <td>undefined</td>\n",
              "      <td>Dispneia, Tosse</td>\n",
              "      <td>Não</td>\n",
              "      <td>NaN</td>\n",
              "      <td>NaN</td>\n",
              "      <td>Coletado</td>\n",
              "      <td>2020-04-01T03:00:00.000Z</td>\n",
              "      <td>NaN</td>\n",
              "      <td>NaN</td>\n",
              "      <td>undefined</td>\n",
              "      <td>Feminino</td>\n",
              "      <td>MARANHÃO</td>\n",
              "      <td>21</td>\n",
              "      <td>São José de Ribamar</td>\n",
              "      <td>2111201.0</td>\n",
              "      <td>undefined</td>\n",
              "      <td>MARANHÃO</td>\n",
              "      <td>21.0</td>\n",
              "      <td>São Luís</td>\n",
              "      <td>2111300.0</td>\n",
              "      <td>undefined</td>\n",
              "      <td>undefined</td>\n",
              "      <td>33.0</td>\n",
              "      <td>NaN</td>\n",
              "      <td>NaN</td>\n",
              "      <td>NaN</td>\n",
              "    </tr>\n",
              "    <tr>\n",
              "      <th>4</th>\n",
              "      <td>NgKU8QKx0X</td>\n",
              "      <td>2020-04-06T07:23:33.348Z</td>\n",
              "      <td>2020-04-04T04:00:00.000Z</td>\n",
              "      <td>undefined</td>\n",
              "      <td>Tosse, Outros</td>\n",
              "      <td>Não</td>\n",
              "      <td>NaN</td>\n",
              "      <td>NaN</td>\n",
              "      <td>NaN</td>\n",
              "      <td>NaN</td>\n",
              "      <td>NaN</td>\n",
              "      <td>NaN</td>\n",
              "      <td>undefined</td>\n",
              "      <td>Masculino</td>\n",
              "      <td>MARANHÃO</td>\n",
              "      <td>21</td>\n",
              "      <td>São Luís</td>\n",
              "      <td>2111300.0</td>\n",
              "      <td>undefined</td>\n",
              "      <td>MARANHÃO</td>\n",
              "      <td>21.0</td>\n",
              "      <td>São Luís</td>\n",
              "      <td>2111300.0</td>\n",
              "      <td>undefined</td>\n",
              "      <td>undefined</td>\n",
              "      <td>56.0</td>\n",
              "      <td>NaN</td>\n",
              "      <td>NaN</td>\n",
              "      <td>NaN</td>\n",
              "    </tr>\n",
              "  </tbody>\n",
              "</table>\n",
              "</div>"
            ],
            "text/plain": [
              "          ÿid           dataNotificacao  ... evolucaoCaso classificacaoFinal\n",
              "0  AbEVo5S4nX  2020-03-30T03:00:00.000Z  ...          NaN                NaN\n",
              "1  ozHhVSzSdq  2020-04-06T13:17:27.512Z  ...          NaN                NaN\n",
              "2  6KJS2Qdpq2  2020-04-01T03:00:00.000Z  ...          NaN                NaN\n",
              "3  SXtw57busW  2020-04-01T03:00:00.000Z  ...          NaN                NaN\n",
              "4  NgKU8QKx0X  2020-04-06T07:23:33.348Z  ...          NaN                NaN\n",
              "\n",
              "[5 rows x 29 columns]"
            ]
          },
          "metadata": {
            "tags": []
          },
          "execution_count": 110
        }
      ]
    },
    {
      "cell_type": "code",
      "metadata": {
        "id": "IAxn_DcZf8GF"
      },
      "source": [
        "testes_ma = covid_ma.value_counts('resultadoTeste').sum()"
      ],
      "execution_count": null,
      "outputs": []
    },
    {
      "cell_type": "code",
      "metadata": {
        "colab": {
          "base_uri": "https://localhost:8080/"
        },
        "id": "CZrSiQEceA9G",
        "outputId": "711fe1bd-a8cd-47a3-a5e1-62fbc6690fc9"
      },
      "source": [
        "testes_ma"
      ],
      "execution_count": null,
      "outputs": [
        {
          "output_type": "execute_result",
          "data": {
            "text/plain": [
              "568302"
            ]
          },
          "metadata": {
            "tags": []
          },
          "execution_count": 112
        }
      ]
    },
    {
      "cell_type": "code",
      "metadata": {
        "colab": {
          "base_uri": "https://localhost:8080/"
        },
        "id": "7wxgNKsSmiKg",
        "outputId": "4ab103ba-16b7-4ec4-93c3-0bef12799f77"
      },
      "source": [
        "covid_ma.value_counts('resultadoTeste')"
      ],
      "execution_count": null,
      "outputs": [
        {
          "output_type": "execute_result",
          "data": {
            "text/plain": [
              "resultadoTeste\n",
              "Negativo                         311666\n",
              "Positivo                         256367\n",
              "Inconclusivo ou Indeterminado       269\n",
              "dtype: int64"
            ]
          },
          "metadata": {
            "tags": []
          },
          "execution_count": 113
        }
      ]
    },
    {
      "cell_type": "code",
      "metadata": {
        "id": "VmdF2-Ajfw8m"
      },
      "source": [
        "result_ma = covid_ma.value_counts('resultadoTeste')"
      ],
      "execution_count": null,
      "outputs": []
    },
    {
      "cell_type": "code",
      "metadata": {
        "id": "ykaSMIWsnydR"
      },
      "source": [
        "result_ma = result_ma.drop('Inconclusivo ou Indeterminado')"
      ],
      "execution_count": null,
      "outputs": []
    },
    {
      "cell_type": "code",
      "metadata": {
        "colab": {
          "base_uri": "https://localhost:8080/"
        },
        "id": "T0QN0DtFn2Ib",
        "outputId": "c2809c9a-7220-4506-84f6-ae1dbd4ff745"
      },
      "source": [
        "result_ma"
      ],
      "execution_count": null,
      "outputs": [
        {
          "output_type": "execute_result",
          "data": {
            "text/plain": [
              "resultadoTeste\n",
              "Negativo    311666\n",
              "Positivo    256367\n",
              "dtype: int64"
            ]
          },
          "metadata": {
            "tags": []
          },
          "execution_count": 116
        }
      ]
    },
    {
      "cell_type": "markdown",
      "metadata": {
        "id": "HdbC9YrCvGub"
      },
      "source": [
        "\n",
        "\n",
        "```\n",
        "# Isto está formatado como código\n",
        "```\n",
        "\n",
        "**Profissionais da saúde infectados no Maranhão**"
      ]
    },
    {
      "cell_type": "code",
      "metadata": {
        "id": "PbaB8BI4vEG8"
      },
      "source": [
        "pi_ma = covid_ma.query('profissionalSaude == \"Sim\" & resultadoTeste == \"Positivo\"')"
      ],
      "execution_count": null,
      "outputs": []
    },
    {
      "cell_type": "code",
      "metadata": {
        "id": "IKrG7CwbvlFU"
      },
      "source": [
        "tpi_ma = pi_ma.value_counts('resultadoTeste')"
      ],
      "execution_count": null,
      "outputs": []
    },
    {
      "cell_type": "code",
      "metadata": {
        "colab": {
          "base_uri": "https://localhost:8080/"
        },
        "id": "SiHjsW2BwHEi",
        "outputId": "97b16a4d-7234-4de5-8710-2c2b872d4091"
      },
      "source": [
        "tpi_ma"
      ],
      "execution_count": null,
      "outputs": [
        {
          "output_type": "execute_result",
          "data": {
            "text/plain": [
              "resultadoTeste\n",
              "Positivo    10637\n",
              "dtype: int64"
            ]
          },
          "metadata": {
            "tags": []
          },
          "execution_count": 119
        }
      ]
    },
    {
      "cell_type": "markdown",
      "metadata": {
        "id": "XGAdvBbTdLOF"
      },
      "source": [
        "### **São Luís -  Capital**"
      ]
    },
    {
      "cell_type": "code",
      "metadata": {
        "id": "RPOooPgYdH6k"
      },
      "source": [
        "covid_slz = covid_ma.query('municipio == \"São Luís\"')"
      ],
      "execution_count": null,
      "outputs": []
    },
    {
      "cell_type": "code",
      "metadata": {
        "colab": {
          "base_uri": "https://localhost:8080/",
          "height": 417
        },
        "id": "SoGCsPCGdVpp",
        "outputId": "f98c8350-e65e-4dd7-8742-9607f3f38165"
      },
      "source": [
        "covid_slz.head()"
      ],
      "execution_count": null,
      "outputs": [
        {
          "output_type": "execute_result",
          "data": {
            "text/html": [
              "<div>\n",
              "<style scoped>\n",
              "    .dataframe tbody tr th:only-of-type {\n",
              "        vertical-align: middle;\n",
              "    }\n",
              "\n",
              "    .dataframe tbody tr th {\n",
              "        vertical-align: top;\n",
              "    }\n",
              "\n",
              "    .dataframe thead th {\n",
              "        text-align: right;\n",
              "    }\n",
              "</style>\n",
              "<table border=\"1\" class=\"dataframe\">\n",
              "  <thead>\n",
              "    <tr style=\"text-align: right;\">\n",
              "      <th></th>\n",
              "      <th>ÿid</th>\n",
              "      <th>dataNotificacao</th>\n",
              "      <th>dataInicioSintomas</th>\n",
              "      <th>dataNascimento</th>\n",
              "      <th>sintomas</th>\n",
              "      <th>profissionalSaude</th>\n",
              "      <th>cbo</th>\n",
              "      <th>condicoes</th>\n",
              "      <th>estadoTeste</th>\n",
              "      <th>dataTeste</th>\n",
              "      <th>tipoTeste</th>\n",
              "      <th>resultadoTeste</th>\n",
              "      <th>paisOrigem</th>\n",
              "      <th>sexo</th>\n",
              "      <th>estado</th>\n",
              "      <th>estadoIBGE</th>\n",
              "      <th>municipio</th>\n",
              "      <th>municipioIBGE</th>\n",
              "      <th>origem</th>\n",
              "      <th>estadoNotificacao</th>\n",
              "      <th>estadoNotificacaoIBGE</th>\n",
              "      <th>municipioNotificacao</th>\n",
              "      <th>municipioNotificacaoIBGE</th>\n",
              "      <th>excluido</th>\n",
              "      <th>validado</th>\n",
              "      <th>idade</th>\n",
              "      <th>dataEncerramento</th>\n",
              "      <th>evolucaoCaso</th>\n",
              "      <th>classificacaoFinal</th>\n",
              "    </tr>\n",
              "  </thead>\n",
              "  <tbody>\n",
              "    <tr>\n",
              "      <th>0</th>\n",
              "      <td>AbEVo5S4nX</td>\n",
              "      <td>2020-03-30T03:00:00.000Z</td>\n",
              "      <td>2020-03-29T03:00:00.000Z</td>\n",
              "      <td>undefined</td>\n",
              "      <td>Tosse</td>\n",
              "      <td>Sim</td>\n",
              "      <td>2235 - Enfermeiro</td>\n",
              "      <td>NaN</td>\n",
              "      <td>Coletado</td>\n",
              "      <td>2020-03-30T03:00:00.000Z</td>\n",
              "      <td>NaN</td>\n",
              "      <td>NaN</td>\n",
              "      <td>undefined</td>\n",
              "      <td>Masculino</td>\n",
              "      <td>MARANHÃO</td>\n",
              "      <td>21</td>\n",
              "      <td>São Luís</td>\n",
              "      <td>2111300.0</td>\n",
              "      <td>undefined</td>\n",
              "      <td>MARANHÃO</td>\n",
              "      <td>21.0</td>\n",
              "      <td>São Luís</td>\n",
              "      <td>2111300.0</td>\n",
              "      <td>undefined</td>\n",
              "      <td>undefined</td>\n",
              "      <td>55.0</td>\n",
              "      <td>NaN</td>\n",
              "      <td>NaN</td>\n",
              "      <td>NaN</td>\n",
              "    </tr>\n",
              "    <tr>\n",
              "      <th>2</th>\n",
              "      <td>6KJS2Qdpq2</td>\n",
              "      <td>2020-04-01T03:00:00.000Z</td>\n",
              "      <td>2020-03-26T03:00:00.000Z</td>\n",
              "      <td>undefined</td>\n",
              "      <td>Dor de Garganta, Dispneia, Febre, Tosse</td>\n",
              "      <td>Sim</td>\n",
              "      <td>2235 - Enfermeiro</td>\n",
              "      <td>NaN</td>\n",
              "      <td>Coletado</td>\n",
              "      <td>2020-04-02T03:00:00.000Z</td>\n",
              "      <td>NaN</td>\n",
              "      <td>NaN</td>\n",
              "      <td>undefined</td>\n",
              "      <td>Feminino</td>\n",
              "      <td>MARANHÃO</td>\n",
              "      <td>21</td>\n",
              "      <td>São Luís</td>\n",
              "      <td>2111300.0</td>\n",
              "      <td>undefined</td>\n",
              "      <td>MARANHÃO</td>\n",
              "      <td>21.0</td>\n",
              "      <td>São Luís</td>\n",
              "      <td>2111300.0</td>\n",
              "      <td>undefined</td>\n",
              "      <td>undefined</td>\n",
              "      <td>37.0</td>\n",
              "      <td>NaN</td>\n",
              "      <td>NaN</td>\n",
              "      <td>NaN</td>\n",
              "    </tr>\n",
              "    <tr>\n",
              "      <th>4</th>\n",
              "      <td>NgKU8QKx0X</td>\n",
              "      <td>2020-04-06T07:23:33.348Z</td>\n",
              "      <td>2020-04-04T04:00:00.000Z</td>\n",
              "      <td>undefined</td>\n",
              "      <td>Tosse, Outros</td>\n",
              "      <td>Não</td>\n",
              "      <td>NaN</td>\n",
              "      <td>NaN</td>\n",
              "      <td>NaN</td>\n",
              "      <td>NaN</td>\n",
              "      <td>NaN</td>\n",
              "      <td>NaN</td>\n",
              "      <td>undefined</td>\n",
              "      <td>Masculino</td>\n",
              "      <td>MARANHÃO</td>\n",
              "      <td>21</td>\n",
              "      <td>São Luís</td>\n",
              "      <td>2111300.0</td>\n",
              "      <td>undefined</td>\n",
              "      <td>MARANHÃO</td>\n",
              "      <td>21.0</td>\n",
              "      <td>São Luís</td>\n",
              "      <td>2111300.0</td>\n",
              "      <td>undefined</td>\n",
              "      <td>undefined</td>\n",
              "      <td>56.0</td>\n",
              "      <td>NaN</td>\n",
              "      <td>NaN</td>\n",
              "      <td>NaN</td>\n",
              "    </tr>\n",
              "    <tr>\n",
              "      <th>5</th>\n",
              "      <td>Y5rlV9HJRa</td>\n",
              "      <td>2020-04-06T13:31:04.344Z</td>\n",
              "      <td>2020-03-03T03:00:00.000Z</td>\n",
              "      <td>undefined</td>\n",
              "      <td>Dor de Garganta, Dispneia, Febre, Tosse, Outros</td>\n",
              "      <td>Sim</td>\n",
              "      <td>3222 - Técnico ou Auxiliar em Enfermagem</td>\n",
              "      <td>NaN</td>\n",
              "      <td>Coletado</td>\n",
              "      <td>2020-04-06T03:00:00.000Z</td>\n",
              "      <td>NaN</td>\n",
              "      <td>NaN</td>\n",
              "      <td>undefined</td>\n",
              "      <td>Masculino</td>\n",
              "      <td>MARANHÃO</td>\n",
              "      <td>21</td>\n",
              "      <td>São Luís</td>\n",
              "      <td>2111300.0</td>\n",
              "      <td>undefined</td>\n",
              "      <td>MARANHÃO</td>\n",
              "      <td>21.0</td>\n",
              "      <td>São Luís</td>\n",
              "      <td>2111300.0</td>\n",
              "      <td>undefined</td>\n",
              "      <td>undefined</td>\n",
              "      <td>33.0</td>\n",
              "      <td>NaN</td>\n",
              "      <td>NaN</td>\n",
              "      <td>NaN</td>\n",
              "    </tr>\n",
              "    <tr>\n",
              "      <th>6</th>\n",
              "      <td>SepJKM9O3F</td>\n",
              "      <td>2020-04-06T13:17:10.116Z</td>\n",
              "      <td>2020-03-29T03:00:00.000Z</td>\n",
              "      <td>undefined</td>\n",
              "      <td>Tosse</td>\n",
              "      <td>Não</td>\n",
              "      <td>NaN</td>\n",
              "      <td>NaN</td>\n",
              "      <td>Coletado</td>\n",
              "      <td>2020-04-01T03:00:00.000Z</td>\n",
              "      <td>NaN</td>\n",
              "      <td>NaN</td>\n",
              "      <td>undefined</td>\n",
              "      <td>Feminino</td>\n",
              "      <td>MARANHÃO</td>\n",
              "      <td>21</td>\n",
              "      <td>São Luís</td>\n",
              "      <td>2111300.0</td>\n",
              "      <td>undefined</td>\n",
              "      <td>MARANHÃO</td>\n",
              "      <td>21.0</td>\n",
              "      <td>São Luís</td>\n",
              "      <td>2111300.0</td>\n",
              "      <td>undefined</td>\n",
              "      <td>undefined</td>\n",
              "      <td>63.0</td>\n",
              "      <td>NaN</td>\n",
              "      <td>NaN</td>\n",
              "      <td>NaN</td>\n",
              "    </tr>\n",
              "  </tbody>\n",
              "</table>\n",
              "</div>"
            ],
            "text/plain": [
              "          ÿid           dataNotificacao  ... evolucaoCaso classificacaoFinal\n",
              "0  AbEVo5S4nX  2020-03-30T03:00:00.000Z  ...          NaN                NaN\n",
              "2  6KJS2Qdpq2  2020-04-01T03:00:00.000Z  ...          NaN                NaN\n",
              "4  NgKU8QKx0X  2020-04-06T07:23:33.348Z  ...          NaN                NaN\n",
              "5  Y5rlV9HJRa  2020-04-06T13:31:04.344Z  ...          NaN                NaN\n",
              "6  SepJKM9O3F  2020-04-06T13:17:10.116Z  ...          NaN                NaN\n",
              "\n",
              "[5 rows x 29 columns]"
            ]
          },
          "metadata": {
            "tags": []
          },
          "execution_count": 121
        }
      ]
    },
    {
      "cell_type": "code",
      "metadata": {
        "id": "jFZnefKqgPWv"
      },
      "source": [
        "testes_slz = covid_slz.value_counts('resultadoTeste').sum()"
      ],
      "execution_count": null,
      "outputs": []
    },
    {
      "cell_type": "code",
      "metadata": {
        "colab": {
          "base_uri": "https://localhost:8080/"
        },
        "id": "4sBT3-LwdtDo",
        "outputId": "eb55e44c-121f-4baa-b7cd-40a2130c239e"
      },
      "source": [
        "testes_slz"
      ],
      "execution_count": null,
      "outputs": [
        {
          "output_type": "execute_result",
          "data": {
            "text/plain": [
              "86928"
            ]
          },
          "metadata": {
            "tags": []
          },
          "execution_count": 123
        }
      ]
    },
    {
      "cell_type": "code",
      "metadata": {
        "colab": {
          "base_uri": "https://localhost:8080/"
        },
        "id": "BSEJfu72d4xd",
        "outputId": "c19e3945-4b39-4056-8f3c-2c899fb9d672"
      },
      "source": [
        "covid_slz.value_counts('resultadoTeste')"
      ],
      "execution_count": null,
      "outputs": [
        {
          "output_type": "execute_result",
          "data": {
            "text/plain": [
              "resultadoTeste\n",
              "Negativo                         58536\n",
              "Positivo                         28372\n",
              "Inconclusivo ou Indeterminado       20\n",
              "dtype: int64"
            ]
          },
          "metadata": {
            "tags": []
          },
          "execution_count": 124
        }
      ]
    },
    {
      "cell_type": "code",
      "metadata": {
        "id": "hCoH_M0QgT2q"
      },
      "source": [
        "result_slz = covid_slz.value_counts('resultadoTeste')"
      ],
      "execution_count": null,
      "outputs": []
    },
    {
      "cell_type": "code",
      "metadata": {
        "id": "h6HaWGdYnmzV"
      },
      "source": [
        "result_slz = result_slz.drop('Inconclusivo ou Indeterminado')"
      ],
      "execution_count": null,
      "outputs": []
    },
    {
      "cell_type": "code",
      "metadata": {
        "colab": {
          "base_uri": "https://localhost:8080/"
        },
        "id": "uI54DVNWnq7L",
        "outputId": "34e31246-83c3-4ae0-ffc1-a7157f177cf8"
      },
      "source": [
        "result_slz"
      ],
      "execution_count": null,
      "outputs": [
        {
          "output_type": "execute_result",
          "data": {
            "text/plain": [
              "resultadoTeste\n",
              "Negativo    58536\n",
              "Positivo    28372\n",
              "dtype: int64"
            ]
          },
          "metadata": {
            "tags": []
          },
          "execution_count": 127
        }
      ]
    },
    {
      "cell_type": "markdown",
      "metadata": {
        "id": "vXrtvLujwkgR"
      },
      "source": [
        "**Profissionais da saúde infectados em São Luís**\n",
        "\n",
        "\n",
        "\n",
        "\n",
        "\n"
      ]
    },
    {
      "cell_type": "code",
      "metadata": {
        "id": "IE0McIHNwcQ6"
      },
      "source": [
        "pi_slz = covid_slz.query('profissionalSaude == \"Sim\" & resultadoTeste == \"Positivo\"')"
      ],
      "execution_count": null,
      "outputs": []
    },
    {
      "cell_type": "code",
      "metadata": {
        "id": "xDr5y1iuw17F"
      },
      "source": [
        "tpi_slz = pi_slz.value_counts('resultadoTeste')"
      ],
      "execution_count": null,
      "outputs": []
    },
    {
      "cell_type": "code",
      "metadata": {
        "colab": {
          "base_uri": "https://localhost:8080/"
        },
        "id": "hMQxJumCw6PN",
        "outputId": "69559acb-78a9-4609-d5e8-8f8bc392f032"
      },
      "source": [
        "tpi_slz"
      ],
      "execution_count": null,
      "outputs": [
        {
          "output_type": "execute_result",
          "data": {
            "text/plain": [
              "resultadoTeste\n",
              "Positivo    2793\n",
              "dtype: int64"
            ]
          },
          "metadata": {
            "tags": []
          },
          "execution_count": 130
        }
      ]
    },
    {
      "cell_type": "markdown",
      "metadata": {
        "id": "EL5T97vSc8YQ"
      },
      "source": [
        "# **Açailândia**"
      ]
    },
    {
      "cell_type": "code",
      "metadata": {
        "id": "ufE-nWrKo996"
      },
      "source": [
        "covid_acai = covid_ma.query('municipio == \"Açailândia\"')"
      ],
      "execution_count": null,
      "outputs": []
    },
    {
      "cell_type": "code",
      "metadata": {
        "colab": {
          "base_uri": "https://localhost:8080/",
          "height": 383
        },
        "id": "uljSMdvApGF3",
        "outputId": "6c754335-215c-4c00-ff93-339c325b8c20"
      },
      "source": [
        "covid_acai.head()"
      ],
      "execution_count": null,
      "outputs": [
        {
          "output_type": "execute_result",
          "data": {
            "text/html": [
              "<div>\n",
              "<style scoped>\n",
              "    .dataframe tbody tr th:only-of-type {\n",
              "        vertical-align: middle;\n",
              "    }\n",
              "\n",
              "    .dataframe tbody tr th {\n",
              "        vertical-align: top;\n",
              "    }\n",
              "\n",
              "    .dataframe thead th {\n",
              "        text-align: right;\n",
              "    }\n",
              "</style>\n",
              "<table border=\"1\" class=\"dataframe\">\n",
              "  <thead>\n",
              "    <tr style=\"text-align: right;\">\n",
              "      <th></th>\n",
              "      <th>ÿid</th>\n",
              "      <th>dataNotificacao</th>\n",
              "      <th>dataInicioSintomas</th>\n",
              "      <th>dataNascimento</th>\n",
              "      <th>sintomas</th>\n",
              "      <th>profissionalSaude</th>\n",
              "      <th>cbo</th>\n",
              "      <th>condicoes</th>\n",
              "      <th>estadoTeste</th>\n",
              "      <th>dataTeste</th>\n",
              "      <th>tipoTeste</th>\n",
              "      <th>resultadoTeste</th>\n",
              "      <th>paisOrigem</th>\n",
              "      <th>sexo</th>\n",
              "      <th>estado</th>\n",
              "      <th>estadoIBGE</th>\n",
              "      <th>municipio</th>\n",
              "      <th>municipioIBGE</th>\n",
              "      <th>origem</th>\n",
              "      <th>estadoNotificacao</th>\n",
              "      <th>estadoNotificacaoIBGE</th>\n",
              "      <th>municipioNotificacao</th>\n",
              "      <th>municipioNotificacaoIBGE</th>\n",
              "      <th>excluido</th>\n",
              "      <th>validado</th>\n",
              "      <th>idade</th>\n",
              "      <th>dataEncerramento</th>\n",
              "      <th>evolucaoCaso</th>\n",
              "      <th>classificacaoFinal</th>\n",
              "    </tr>\n",
              "  </thead>\n",
              "  <tbody>\n",
              "    <tr>\n",
              "      <th>72</th>\n",
              "      <td>HSeQP58XwJ</td>\n",
              "      <td>2020-04-05T03:00:00.000Z</td>\n",
              "      <td>2020-03-13T03:00:00.000Z</td>\n",
              "      <td>undefined</td>\n",
              "      <td>Dor de Garganta, Dispneia, Tosse</td>\n",
              "      <td>Não</td>\n",
              "      <td>NaN</td>\n",
              "      <td>Doenças cardíacas crônicas</td>\n",
              "      <td>NaN</td>\n",
              "      <td>NaN</td>\n",
              "      <td>NaN</td>\n",
              "      <td>NaN</td>\n",
              "      <td>undefined</td>\n",
              "      <td>Masculino</td>\n",
              "      <td>MARANHÃO</td>\n",
              "      <td>21</td>\n",
              "      <td>Açailândia</td>\n",
              "      <td>2100055.0</td>\n",
              "      <td>undefined</td>\n",
              "      <td>MARANHÃO</td>\n",
              "      <td>21.0</td>\n",
              "      <td>Açailândia</td>\n",
              "      <td>2100055.0</td>\n",
              "      <td>undefined</td>\n",
              "      <td>undefined</td>\n",
              "      <td>45.0</td>\n",
              "      <td>NaN</td>\n",
              "      <td>NaN</td>\n",
              "      <td>NaN</td>\n",
              "    </tr>\n",
              "    <tr>\n",
              "      <th>373</th>\n",
              "      <td>0ggNmmd4d8</td>\n",
              "      <td>2020-04-04T03:00:00.000Z</td>\n",
              "      <td>2020-03-30T03:00:00.000Z</td>\n",
              "      <td>undefined</td>\n",
              "      <td>Tosse, Febre, Dispneia</td>\n",
              "      <td>Não</td>\n",
              "      <td>NaN</td>\n",
              "      <td>Doenças respiratórias crônicas descompensadas</td>\n",
              "      <td>NaN</td>\n",
              "      <td>NaN</td>\n",
              "      <td>NaN</td>\n",
              "      <td>NaN</td>\n",
              "      <td>undefined</td>\n",
              "      <td>Masculino</td>\n",
              "      <td>MARANHÃO</td>\n",
              "      <td>21</td>\n",
              "      <td>Açailândia</td>\n",
              "      <td>2100055.0</td>\n",
              "      <td>undefined</td>\n",
              "      <td>MARANHÃO</td>\n",
              "      <td>21.0</td>\n",
              "      <td>Açailândia</td>\n",
              "      <td>2100055.0</td>\n",
              "      <td>undefined</td>\n",
              "      <td>undefined</td>\n",
              "      <td>40.0</td>\n",
              "      <td>NaN</td>\n",
              "      <td>NaN</td>\n",
              "      <td>NaN</td>\n",
              "    </tr>\n",
              "    <tr>\n",
              "      <th>720</th>\n",
              "      <td>XMTKArMD4Z</td>\n",
              "      <td>2020-04-03T20:15:20.670Z</td>\n",
              "      <td>2020-03-28T03:00:00.000Z</td>\n",
              "      <td>undefined</td>\n",
              "      <td>Febre,Tosse,Dispneia</td>\n",
              "      <td>Não</td>\n",
              "      <td>NaN</td>\n",
              "      <td>NaN</td>\n",
              "      <td>NaN</td>\n",
              "      <td>NaN</td>\n",
              "      <td>NaN</td>\n",
              "      <td>NaN</td>\n",
              "      <td>undefined</td>\n",
              "      <td>Feminino</td>\n",
              "      <td>MARANHÃO</td>\n",
              "      <td>21</td>\n",
              "      <td>Açailândia</td>\n",
              "      <td>2100055.0</td>\n",
              "      <td>undefined</td>\n",
              "      <td>MARANHÃO</td>\n",
              "      <td>21.0</td>\n",
              "      <td>Açailândia</td>\n",
              "      <td>2100055.0</td>\n",
              "      <td>undefined</td>\n",
              "      <td>undefined</td>\n",
              "      <td>39.0</td>\n",
              "      <td>NaN</td>\n",
              "      <td>NaN</td>\n",
              "      <td>NaN</td>\n",
              "    </tr>\n",
              "    <tr>\n",
              "      <th>795</th>\n",
              "      <td>FrXtr4D2Me</td>\n",
              "      <td>2020-04-04T16:01:30.910Z</td>\n",
              "      <td>2020-04-04T03:00:00.000Z</td>\n",
              "      <td>undefined</td>\n",
              "      <td>Dor de Garganta,Dispneia,Febre</td>\n",
              "      <td>Não</td>\n",
              "      <td>NaN</td>\n",
              "      <td>NaN</td>\n",
              "      <td>NaN</td>\n",
              "      <td>NaN</td>\n",
              "      <td>NaN</td>\n",
              "      <td>NaN</td>\n",
              "      <td>undefined</td>\n",
              "      <td>Feminino</td>\n",
              "      <td>MARANHÃO</td>\n",
              "      <td>21</td>\n",
              "      <td>Açailândia</td>\n",
              "      <td>2100055.0</td>\n",
              "      <td>undefined</td>\n",
              "      <td>MARANHÃO</td>\n",
              "      <td>21.0</td>\n",
              "      <td>Açailândia</td>\n",
              "      <td>2100055.0</td>\n",
              "      <td>undefined</td>\n",
              "      <td>undefined</td>\n",
              "      <td>29.0</td>\n",
              "      <td>NaN</td>\n",
              "      <td>NaN</td>\n",
              "      <td>NaN</td>\n",
              "    </tr>\n",
              "    <tr>\n",
              "      <th>825</th>\n",
              "      <td>DYMCe6QVBa</td>\n",
              "      <td>2020-04-05T15:47:12.970Z</td>\n",
              "      <td>2020-03-24T03:00:00.000Z</td>\n",
              "      <td>undefined</td>\n",
              "      <td>Tosse, Febre, Dispneia, Dor de Garganta</td>\n",
              "      <td>Sim</td>\n",
              "      <td>3222 - Técnico ou Auxiliar em Enfermagem</td>\n",
              "      <td>NaN</td>\n",
              "      <td>Solicitado</td>\n",
              "      <td>NaN</td>\n",
              "      <td>NaN</td>\n",
              "      <td>NaN</td>\n",
              "      <td>undefined</td>\n",
              "      <td>Feminino</td>\n",
              "      <td>MARANHÃO</td>\n",
              "      <td>21</td>\n",
              "      <td>Açailândia</td>\n",
              "      <td>2100055.0</td>\n",
              "      <td>undefined</td>\n",
              "      <td>MARANHÃO</td>\n",
              "      <td>21.0</td>\n",
              "      <td>Açailândia</td>\n",
              "      <td>2100055.0</td>\n",
              "      <td>undefined</td>\n",
              "      <td>undefined</td>\n",
              "      <td>45.0</td>\n",
              "      <td>NaN</td>\n",
              "      <td>NaN</td>\n",
              "      <td>NaN</td>\n",
              "    </tr>\n",
              "  </tbody>\n",
              "</table>\n",
              "</div>"
            ],
            "text/plain": [
              "            ÿid           dataNotificacao  ... evolucaoCaso classificacaoFinal\n",
              "72   HSeQP58XwJ  2020-04-05T03:00:00.000Z  ...          NaN                NaN\n",
              "373  0ggNmmd4d8  2020-04-04T03:00:00.000Z  ...          NaN                NaN\n",
              "720  XMTKArMD4Z  2020-04-03T20:15:20.670Z  ...          NaN                NaN\n",
              "795  FrXtr4D2Me  2020-04-04T16:01:30.910Z  ...          NaN                NaN\n",
              "825  DYMCe6QVBa  2020-04-05T15:47:12.970Z  ...          NaN                NaN\n",
              "\n",
              "[5 rows x 29 columns]"
            ]
          },
          "metadata": {
            "tags": []
          },
          "execution_count": 132
        }
      ]
    },
    {
      "cell_type": "code",
      "metadata": {
        "id": "fltduQ33gdKk"
      },
      "source": [
        "testes_acai = covid_acai.value_counts('resultadoTeste').sum()"
      ],
      "execution_count": null,
      "outputs": []
    },
    {
      "cell_type": "code",
      "metadata": {
        "colab": {
          "base_uri": "https://localhost:8080/"
        },
        "id": "Ox-YQ3VcZrFe",
        "outputId": "c4bebe67-ba84-4542-b015-ad7261a2a241"
      },
      "source": [
        "testes_acai"
      ],
      "execution_count": null,
      "outputs": [
        {
          "output_type": "execute_result",
          "data": {
            "text/plain": [
              "11829"
            ]
          },
          "metadata": {
            "tags": []
          },
          "execution_count": 134
        }
      ]
    },
    {
      "cell_type": "code",
      "metadata": {
        "id": "47Yls1-uhjgV"
      },
      "source": [
        "result_acai = covid_acai.value_counts('resultadoTeste')"
      ],
      "execution_count": null,
      "outputs": []
    },
    {
      "cell_type": "code",
      "metadata": {
        "colab": {
          "base_uri": "https://localhost:8080/"
        },
        "id": "ygv4qB0QpM9C",
        "outputId": "e580f1d3-ad0e-423c-c3ce-8c95bd2c7b8a"
      },
      "source": [
        "result_acai"
      ],
      "execution_count": null,
      "outputs": [
        {
          "output_type": "execute_result",
          "data": {
            "text/plain": [
              "resultadoTeste\n",
              "Negativo    7103\n",
              "Positivo    4726\n",
              "dtype: int64"
            ]
          },
          "metadata": {
            "tags": []
          },
          "execution_count": 136
        }
      ]
    },
    {
      "cell_type": "markdown",
      "metadata": {
        "id": "H6sRDVjzxbHJ"
      },
      "source": [
        "**Profissionais da saúde infectados em Açailândia**"
      ]
    },
    {
      "cell_type": "code",
      "metadata": {
        "id": "vbH2SG7RxY6A"
      },
      "source": [
        "pi_acai = covid_acai.query('profissionalSaude == \"Sim\" & resultadoTeste == \"Positivo\"')"
      ],
      "execution_count": null,
      "outputs": []
    },
    {
      "cell_type": "code",
      "metadata": {
        "id": "FiQLbfGQxZxh"
      },
      "source": [
        "tpi_acai = pi_acai.value_counts('resultadoTeste')"
      ],
      "execution_count": null,
      "outputs": []
    },
    {
      "cell_type": "code",
      "metadata": {
        "colab": {
          "base_uri": "https://localhost:8080/"
        },
        "id": "N_FfhhFnxaNe",
        "outputId": "b00415ed-1ee3-4f46-cb12-babce5e048c2"
      },
      "source": [
        "tpi_acai"
      ],
      "execution_count": null,
      "outputs": [
        {
          "output_type": "execute_result",
          "data": {
            "text/plain": [
              "resultadoTeste\n",
              "Positivo    40\n",
              "dtype: int64"
            ]
          },
          "metadata": {
            "tags": []
          },
          "execution_count": 140
        }
      ]
    },
    {
      "cell_type": "markdown",
      "metadata": {
        "id": "vVzOdhj2dDf3"
      },
      "source": [
        "# **Imperatriz**"
      ]
    },
    {
      "cell_type": "code",
      "metadata": {
        "id": "kYdq_5pS77CA"
      },
      "source": [
        "covid_itz = covid_ma.query('municipio == \"Imperatriz\"')"
      ],
      "execution_count": null,
      "outputs": []
    },
    {
      "cell_type": "code",
      "metadata": {
        "colab": {
          "base_uri": "https://localhost:8080/",
          "height": 400
        },
        "id": "85rkef85cjTW",
        "outputId": "8aa78c4d-52dc-46ed-b3a9-6be03caa0bc8"
      },
      "source": [
        "covid_itz.head()"
      ],
      "execution_count": null,
      "outputs": [
        {
          "output_type": "execute_result",
          "data": {
            "text/html": [
              "<div>\n",
              "<style scoped>\n",
              "    .dataframe tbody tr th:only-of-type {\n",
              "        vertical-align: middle;\n",
              "    }\n",
              "\n",
              "    .dataframe tbody tr th {\n",
              "        vertical-align: top;\n",
              "    }\n",
              "\n",
              "    .dataframe thead th {\n",
              "        text-align: right;\n",
              "    }\n",
              "</style>\n",
              "<table border=\"1\" class=\"dataframe\">\n",
              "  <thead>\n",
              "    <tr style=\"text-align: right;\">\n",
              "      <th></th>\n",
              "      <th>ÿid</th>\n",
              "      <th>dataNotificacao</th>\n",
              "      <th>dataInicioSintomas</th>\n",
              "      <th>dataNascimento</th>\n",
              "      <th>sintomas</th>\n",
              "      <th>profissionalSaude</th>\n",
              "      <th>cbo</th>\n",
              "      <th>condicoes</th>\n",
              "      <th>estadoTeste</th>\n",
              "      <th>dataTeste</th>\n",
              "      <th>tipoTeste</th>\n",
              "      <th>resultadoTeste</th>\n",
              "      <th>paisOrigem</th>\n",
              "      <th>sexo</th>\n",
              "      <th>estado</th>\n",
              "      <th>estadoIBGE</th>\n",
              "      <th>municipio</th>\n",
              "      <th>municipioIBGE</th>\n",
              "      <th>origem</th>\n",
              "      <th>estadoNotificacao</th>\n",
              "      <th>estadoNotificacaoIBGE</th>\n",
              "      <th>municipioNotificacao</th>\n",
              "      <th>municipioNotificacaoIBGE</th>\n",
              "      <th>excluido</th>\n",
              "      <th>validado</th>\n",
              "      <th>idade</th>\n",
              "      <th>dataEncerramento</th>\n",
              "      <th>evolucaoCaso</th>\n",
              "      <th>classificacaoFinal</th>\n",
              "    </tr>\n",
              "  </thead>\n",
              "  <tbody>\n",
              "    <tr>\n",
              "      <th>1</th>\n",
              "      <td>ozHhVSzSdq</td>\n",
              "      <td>2020-04-06T13:17:27.512Z</td>\n",
              "      <td>2020-03-22T03:00:00.000Z</td>\n",
              "      <td>undefined</td>\n",
              "      <td>Febre, Tosse, Dispneia, Outros</td>\n",
              "      <td>Não</td>\n",
              "      <td>NaN</td>\n",
              "      <td>NaN</td>\n",
              "      <td>Coletado</td>\n",
              "      <td>2020-04-06T03:00:00.000Z</td>\n",
              "      <td>NaN</td>\n",
              "      <td>NaN</td>\n",
              "      <td>undefined</td>\n",
              "      <td>Masculino</td>\n",
              "      <td>MARANHÃO</td>\n",
              "      <td>21</td>\n",
              "      <td>Imperatriz</td>\n",
              "      <td>2105302.0</td>\n",
              "      <td>undefined</td>\n",
              "      <td>MARANHÃO</td>\n",
              "      <td>21.0</td>\n",
              "      <td>Imperatriz</td>\n",
              "      <td>2105302.0</td>\n",
              "      <td>undefined</td>\n",
              "      <td>undefined</td>\n",
              "      <td>47.0</td>\n",
              "      <td>NaN</td>\n",
              "      <td>NaN</td>\n",
              "      <td>NaN</td>\n",
              "    </tr>\n",
              "    <tr>\n",
              "      <th>52</th>\n",
              "      <td>C0ya737eMv</td>\n",
              "      <td>2020-04-06T03:00:00.000Z</td>\n",
              "      <td>2020-03-30T03:00:00.000Z</td>\n",
              "      <td>undefined</td>\n",
              "      <td>Dor de Garganta, Febre, Tosse</td>\n",
              "      <td>Não</td>\n",
              "      <td>NaN</td>\n",
              "      <td>NaN</td>\n",
              "      <td>NaN</td>\n",
              "      <td>NaN</td>\n",
              "      <td>NaN</td>\n",
              "      <td>NaN</td>\n",
              "      <td>undefined</td>\n",
              "      <td>Feminino</td>\n",
              "      <td>MARANHÃO</td>\n",
              "      <td>21</td>\n",
              "      <td>Imperatriz</td>\n",
              "      <td>2105302.0</td>\n",
              "      <td>undefined</td>\n",
              "      <td>MARANHÃO</td>\n",
              "      <td>21.0</td>\n",
              "      <td>Governador Edison Lobão</td>\n",
              "      <td>2104552.0</td>\n",
              "      <td>undefined</td>\n",
              "      <td>undefined</td>\n",
              "      <td>26.0</td>\n",
              "      <td>NaN</td>\n",
              "      <td>NaN</td>\n",
              "      <td>NaN</td>\n",
              "    </tr>\n",
              "    <tr>\n",
              "      <th>57</th>\n",
              "      <td>JUzKNcyiIH</td>\n",
              "      <td>2020-04-06T03:00:00.000Z</td>\n",
              "      <td>2020-04-05T03:00:00.000Z</td>\n",
              "      <td>undefined</td>\n",
              "      <td>Tosse</td>\n",
              "      <td>Não</td>\n",
              "      <td>NaN</td>\n",
              "      <td>NaN</td>\n",
              "      <td>NaN</td>\n",
              "      <td>NaN</td>\n",
              "      <td>NaN</td>\n",
              "      <td>NaN</td>\n",
              "      <td>undefined</td>\n",
              "      <td>Masculino</td>\n",
              "      <td>MARANHÃO</td>\n",
              "      <td>21</td>\n",
              "      <td>Imperatriz</td>\n",
              "      <td>2105302.0</td>\n",
              "      <td>undefined</td>\n",
              "      <td>MARANHÃO</td>\n",
              "      <td>21.0</td>\n",
              "      <td>Governador Edison Lobão</td>\n",
              "      <td>2104552.0</td>\n",
              "      <td>undefined</td>\n",
              "      <td>undefined</td>\n",
              "      <td>30.0</td>\n",
              "      <td>NaN</td>\n",
              "      <td>NaN</td>\n",
              "      <td>NaN</td>\n",
              "    </tr>\n",
              "    <tr>\n",
              "      <th>63</th>\n",
              "      <td>ECYrdK7ZN6</td>\n",
              "      <td>2020-04-06T03:00:00.000Z</td>\n",
              "      <td>2020-04-04T03:00:00.000Z</td>\n",
              "      <td>undefined</td>\n",
              "      <td>Dispneia, Febre</td>\n",
              "      <td>Não</td>\n",
              "      <td>NaN</td>\n",
              "      <td>NaN</td>\n",
              "      <td>NaN</td>\n",
              "      <td>NaN</td>\n",
              "      <td>NaN</td>\n",
              "      <td>NaN</td>\n",
              "      <td>undefined</td>\n",
              "      <td>Feminino</td>\n",
              "      <td>MARANHÃO</td>\n",
              "      <td>21</td>\n",
              "      <td>Imperatriz</td>\n",
              "      <td>2105302.0</td>\n",
              "      <td>undefined</td>\n",
              "      <td>MARANHÃO</td>\n",
              "      <td>21.0</td>\n",
              "      <td>Governador Edison Lobão</td>\n",
              "      <td>2104552.0</td>\n",
              "      <td>undefined</td>\n",
              "      <td>undefined</td>\n",
              "      <td>41.0</td>\n",
              "      <td>NaN</td>\n",
              "      <td>NaN</td>\n",
              "      <td>NaN</td>\n",
              "    </tr>\n",
              "    <tr>\n",
              "      <th>164</th>\n",
              "      <td>SsE6bE0dw8</td>\n",
              "      <td>2020-04-06T18:04:25.570Z</td>\n",
              "      <td>2020-04-06T03:00:00.000Z</td>\n",
              "      <td>undefined</td>\n",
              "      <td>Outros, Dispneia</td>\n",
              "      <td>Sim</td>\n",
              "      <td>225 - Médico</td>\n",
              "      <td>Doenças cardíacas crônicas</td>\n",
              "      <td>Coletado</td>\n",
              "      <td>2020-04-06T03:00:00.000Z</td>\n",
              "      <td>NaN</td>\n",
              "      <td>NaN</td>\n",
              "      <td>undefined</td>\n",
              "      <td>Masculino</td>\n",
              "      <td>MARANHÃO</td>\n",
              "      <td>21</td>\n",
              "      <td>Imperatriz</td>\n",
              "      <td>2105302.0</td>\n",
              "      <td>undefined</td>\n",
              "      <td>MARANHÃO</td>\n",
              "      <td>21.0</td>\n",
              "      <td>Imperatriz</td>\n",
              "      <td>2105302.0</td>\n",
              "      <td>undefined</td>\n",
              "      <td>undefined</td>\n",
              "      <td>70.0</td>\n",
              "      <td>NaN</td>\n",
              "      <td>NaN</td>\n",
              "      <td>NaN</td>\n",
              "    </tr>\n",
              "  </tbody>\n",
              "</table>\n",
              "</div>"
            ],
            "text/plain": [
              "            ÿid           dataNotificacao  ... evolucaoCaso classificacaoFinal\n",
              "1    ozHhVSzSdq  2020-04-06T13:17:27.512Z  ...          NaN                NaN\n",
              "52   C0ya737eMv  2020-04-06T03:00:00.000Z  ...          NaN                NaN\n",
              "57   JUzKNcyiIH  2020-04-06T03:00:00.000Z  ...          NaN                NaN\n",
              "63   ECYrdK7ZN6  2020-04-06T03:00:00.000Z  ...          NaN                NaN\n",
              "164  SsE6bE0dw8  2020-04-06T18:04:25.570Z  ...          NaN                NaN\n",
              "\n",
              "[5 rows x 29 columns]"
            ]
          },
          "metadata": {
            "tags": []
          },
          "execution_count": 142
        }
      ]
    },
    {
      "cell_type": "code",
      "metadata": {
        "id": "Sx89GKITh4JG"
      },
      "source": [
        "testes_itz = covid_itz.value_counts('resultadoTeste').sum()"
      ],
      "execution_count": null,
      "outputs": []
    },
    {
      "cell_type": "code",
      "metadata": {
        "colab": {
          "base_uri": "https://localhost:8080/"
        },
        "id": "anBpVm5ucuei",
        "outputId": "b8cc53c5-d0e6-4a4e-b688-4cd3098f47bb"
      },
      "source": [
        "testes_itz"
      ],
      "execution_count": null,
      "outputs": [
        {
          "output_type": "execute_result",
          "data": {
            "text/plain": [
              "46517"
            ]
          },
          "metadata": {
            "tags": []
          },
          "execution_count": 144
        }
      ]
    },
    {
      "cell_type": "code",
      "metadata": {
        "id": "tdAKkTxTh-Lg"
      },
      "source": [
        "result_itz = covid_itz.value_counts('resultadoTeste')   "
      ],
      "execution_count": null,
      "outputs": []
    },
    {
      "cell_type": "code",
      "metadata": {
        "id": "KShuRSwrdz0h"
      },
      "source": [
        "result_itz = result_itz.drop('Inconclusivo ou Indeterminado')"
      ],
      "execution_count": null,
      "outputs": []
    },
    {
      "cell_type": "code",
      "metadata": {
        "colab": {
          "base_uri": "https://localhost:8080/"
        },
        "id": "niSim-fGnceX",
        "outputId": "2cc2ea67-e57f-4d6e-a812-7acbaa7537a3"
      },
      "source": [
        "result_itz"
      ],
      "execution_count": null,
      "outputs": [
        {
          "output_type": "execute_result",
          "data": {
            "text/plain": [
              "resultadoTeste\n",
              "Negativo    29562\n",
              "Positivo    16938\n",
              "dtype: int64"
            ]
          },
          "metadata": {
            "tags": []
          },
          "execution_count": 147
        }
      ]
    },
    {
      "cell_type": "markdown",
      "metadata": {
        "id": "ZRF8dcAnygwy"
      },
      "source": [
        "**Profissionais da saúde infectados em Imperatriz**"
      ]
    },
    {
      "cell_type": "code",
      "metadata": {
        "id": "kBQRBvjdytTU"
      },
      "source": [
        "pi_itz = covid_itz.query('profissionalSaude == \"Sim\" & resultadoTeste == \"Positivo\"')"
      ],
      "execution_count": null,
      "outputs": []
    },
    {
      "cell_type": "code",
      "metadata": {
        "id": "g-wiuoMzytw5"
      },
      "source": [
        "tpi_itz = pi_itz.value_counts('resultadoTeste')"
      ],
      "execution_count": null,
      "outputs": []
    },
    {
      "cell_type": "code",
      "metadata": {
        "colab": {
          "base_uri": "https://localhost:8080/"
        },
        "id": "RYxeFbG9yuJs",
        "outputId": "6481daee-1164-4167-fc75-f18a27706af7"
      },
      "source": [
        "tpi_itz"
      ],
      "execution_count": null,
      "outputs": [
        {
          "output_type": "execute_result",
          "data": {
            "text/plain": [
              "resultadoTeste\n",
              "Positivo    706\n",
              "dtype: int64"
            ]
          },
          "metadata": {
            "tags": []
          },
          "execution_count": 150
        }
      ]
    },
    {
      "cell_type": "code",
      "metadata": {
        "colab": {
          "base_uri": "https://localhost:8080/",
          "height": 411
        },
        "id": "jsOJl52vfM_K",
        "outputId": "ff2fab4e-e2db-4789-b792-ddc115a8c935"
      },
      "source": [
        "cores = ['#7FFFD4', '#FA8072']\n",
        "fig,(ax1, ax2, ax3, ax4) = plt.subplots(1,4, figsize=(20,6))\n",
        "plt.suptitle('Testes da COVID-19 no estado do Maranhão', weight='bold', size=22)\n",
        "legenda1 = ['Negativo', 'Positivo']\n",
        "\n",
        "ax1.pie(result_ma, labels=result_ma, autopct='%1.1f%%', shadow=True, explode=(0,0.05), colors=cores)\n",
        "ax1.set_title('Todo o estado', weight='bold', size=15)\n",
        "ax1.legend(legenda1, title='Resultado', bbox_to_anchor=(1, 0))\n",
        "\n",
        "ax2.pie(result_slz, labels=result_slz, autopct='%1.1f%%', shadow=True, explode=(0,0.05), colors=cores)\n",
        "ax2.set_title('São Luís', weight='bold', size=15)\n",
        "ax2.legend(legenda1, title='Resultado', bbox_to_anchor=(1, 0))\n",
        "\n",
        "ax3.pie(result_acai, labels=result_acai, autopct='%1.1f%%', shadow=True, explode=(0,0.05), colors=cores)\n",
        "ax3.set_title('Açailândia', weight='bold', size=15)\n",
        "ax3.legend(legenda1, title='Resultado', bbox_to_anchor=(1, 0))\n",
        "\n",
        "ax4.pie(result_itz, labels=result_itz, autopct='%1.1f%%', shadow=True, explode=(0,0.05), colors=cores)\n",
        "ax4.set_title('Imperatriz', weight='bold', size=15)\n",
        "ax4.legend(legenda1, title='Resultado', bbox_to_anchor=(1, 0))\n",
        "\n",
        "plt.show()"
      ],
      "execution_count": null,
      "outputs": [
        {
          "output_type": "display_data",
          "data": {
            "image/png": "[encoded data removed]",
            "text/plain": [
              "<Figure size 1440x432 with 4 Axes>"
            ]
          },
          "metadata": {
            "tags": []
          }
        }
      ]
    },
    {
      "cell_type": "code",
      "metadata": {
        "colab": {
          "base_uri": "https://localhost:8080/",
          "height": 460
        },
        "id": "qLLmGU-8zI_-",
        "outputId": "44cf1ca1-d64e-4f77-de5c-c2714f586538"
      },
      "source": [
        "cores2 = ['#B0E0E6', '#FF7F50']\n",
        "ma = (result_ma['Positivo'], tpi_ma['Positivo'])\n",
        "slz = (result_slz['Positivo'], tpi_slz['Positivo'])\n",
        "acai = (result_acai['Positivo'], tpi_acai['Positivo'])\n",
        "itz = (result_itz['Positivo'], tpi_itz['Positivo'])\n",
        "legenda = ('Não profissional', 'Profissional da saúde')\n",
        "\n",
        "fig,(ax1, ax2, ax3, ax4)= plt.subplots(1,4, figsize = (22,7))\n",
        "plt.suptitle('Profissionais da saúde que testaram positivo a COVID-19 no estado do Maranhão', weight='bold', size=22)\n",
        "ax1.pie(ma, labels=ma, autopct='%1.1f%%', shadow=True, explode=(0.1,0.1), colors=cores2)\n",
        "ax1.set_title('Todo o estado', weight='bold', size=15)\n",
        "ax1.legend(legenda, bbox_to_anchor=(1, 0))\n",
        "\n",
        "ax2.pie(slz, labels=slz, autopct='%1.1f%%', shadow=True, explode=(0,0.1), colors=cores2)\n",
        "ax2.set_title('São Luís', weight='bold', size=15)\n",
        "ax2.legend(legenda, bbox_to_anchor=(1, 0))\n",
        "\n",
        "ax3.pie(acai, labels=acai, autopct='%1.1f%%', shadow=True, explode=(0.2,0.2), colors=cores2)\n",
        "ax3.set_title('Açailândia', weight='bold', size=15)\n",
        "ax3.legend(legenda, bbox_to_anchor=(1, 0))\n",
        "\n",
        "ax4.pie(itz, labels=itz, autopct='%1.1f%%', shadow=True, explode=(0.1,0.1), colors=cores2)\n",
        "ax4.set_title('Imperatriz', weight='bold', size=15)\n",
        "ax4.legend(legenda, bbox_to_anchor=(1, 0))\n",
        "\n",
        "#plt.barh(legenda_info, valores)"
      ],
      "execution_count": null,
      "outputs": [
        {
          "output_type": "execute_result",
          "data": {
            "text/plain": [
              "<matplotlib.legend.Legend at 0x7fcb1d78a850>"
            ]
          },
          "metadata": {
            "tags": []
          },
          "execution_count": 257
        },
        {
          "output_type": "display_data",
          "data": {
            "image/png": "[encoded data removed]",
            "text/plain": [
              "<Figure size 1584x504 with 4 Axes>"
            ]
          },
          "metadata": {
            "tags": []
          }
        }
      ]
    }
  ]
}