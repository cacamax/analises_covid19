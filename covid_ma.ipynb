{
  "nbformat": 4,
  "nbformat_minor": 0,
  "metadata": {
    "colab": {
      "name": "covid_ma.ipynb",
      "provenance": [],
      "collapsed_sections": [],
      "authorship_tag": "ABX9TyNIKXzETIHrFbDegke076wZ",
      "include_colab_link": true
    },
    "kernelspec": {
      "display_name": "Python 3",
      "name": "python3"
    },
    "language_info": {
      "name": "python"
    }
  },
  "cells": [
    {
      "cell_type": "markdown",
      "metadata": {
        "id": "view-in-github",
        "colab_type": "text"
      },
      "source": [
        "<a href=\"https://colab.research.google.com/github/cecellhax/analises_covid19/blob/main/covid_ma.ipynb\" target=\"_parent\"><img src=\"https://colab.research.google.com/assets/colab-badge.svg\" alt=\"Open In Colab\"/></a>"
      ]
    },
    {
      "cell_type": "markdown",
      "metadata": {
        "id": "x7PXgTkYlzia"
      },
      "source": [
        "# **Anális dos dados da COVID-19 no estado do Maranhão**\n",
        "\n",
        "Dados de todo o estado e de algumas de sua principais cidades.\n",
        "\n",
        "\n",
        "**1.   Testes realizados;**\n",
        "\n",
        "**2.   Profissionais da saúde.**\n",
        "\n",
        "Disponíveis em: https://s3-sa-east-1.amazonaws.com/ckan.saude.gov.br/dados-ma.csv"
      ]
    },
    {
      "cell_type": "code",
      "metadata": {
        "id": "x1FCOqE_V13b"
      },
      "source": [
        "import pandas as pd\n",
        "import matplotlib.pyplot as plt"
      ],
      "execution_count": 1,
      "outputs": []
    },
    {
      "cell_type": "code",
      "metadata": {
        "id": "cZPM4QPsYBh7"
      },
      "source": [
        "covid_ma = pd.read_csv('https://s3-sa-east-1.amazonaws.com/ckan.saude.gov.br/dados-ma.csv', encoding='latin1', sep=';')"
      ],
      "execution_count": 2,
      "outputs": []
    },
    {
      "cell_type": "code",
      "metadata": {
        "id": "-Gj5gdtPfE3Q",
        "colab": {
          "base_uri": "https://localhost:8080/",
          "height": 417
        },
        "outputId": "e2d1b6f9-713a-45d2-e359-06f91181c691"
      },
      "source": [
        "covid_ma.head()"
      ],
      "execution_count": 3,
      "outputs": [
        {
          "output_type": "execute_result",
          "data": {
            "text/html": [
              "<div>\n",
              "<style scoped>\n",
              "    .dataframe tbody tr th:only-of-type {\n",
              "        vertical-align: middle;\n",
              "    }\n",
              "\n",
              "    .dataframe tbody tr th {\n",
              "        vertical-align: top;\n",
              "    }\n",
              "\n",
              "    .dataframe thead th {\n",
              "        text-align: right;\n",
              "    }\n",
              "</style>\n",
              "<table border=\"1\" class=\"dataframe\">\n",
              "  <thead>\n",
              "    <tr style=\"text-align: right;\">\n",
              "      <th></th>\n",
              "      <th>ÿid</th>\n",
              "      <th>dataNotificacao</th>\n",
              "      <th>dataInicioSintomas</th>\n",
              "      <th>dataNascimento</th>\n",
              "      <th>sintomas</th>\n",
              "      <th>profissionalSaude</th>\n",
              "      <th>cbo</th>\n",
              "      <th>condicoes</th>\n",
              "      <th>estadoTeste</th>\n",
              "      <th>dataTeste</th>\n",
              "      <th>tipoTeste</th>\n",
              "      <th>resultadoTeste</th>\n",
              "      <th>paisOrigem</th>\n",
              "      <th>sexo</th>\n",
              "      <th>estado</th>\n",
              "      <th>estadoIBGE</th>\n",
              "      <th>municipio</th>\n",
              "      <th>municipioIBGE</th>\n",
              "      <th>origem</th>\n",
              "      <th>estadoNotificacao</th>\n",
              "      <th>estadoNotificacaoIBGE</th>\n",
              "      <th>municipioNotificacao</th>\n",
              "      <th>municipioNotificacaoIBGE</th>\n",
              "      <th>excluido</th>\n",
              "      <th>validado</th>\n",
              "      <th>idade</th>\n",
              "      <th>dataEncerramento</th>\n",
              "      <th>evolucaoCaso</th>\n",
              "      <th>classificacaoFinal</th>\n",
              "    </tr>\n",
              "  </thead>\n",
              "  <tbody>\n",
              "    <tr>\n",
              "      <th>0</th>\n",
              "      <td>AbEVo5S4nX</td>\n",
              "      <td>2020-03-30T03:00:00.000Z</td>\n",
              "      <td>2020-03-29T03:00:00.000Z</td>\n",
              "      <td>undefined</td>\n",
              "      <td>Tosse</td>\n",
              "      <td>Sim</td>\n",
              "      <td>2235 - Enfermeiro</td>\n",
              "      <td>NaN</td>\n",
              "      <td>Coletado</td>\n",
              "      <td>2020-03-30T03:00:00.000Z</td>\n",
              "      <td>NaN</td>\n",
              "      <td>NaN</td>\n",
              "      <td>undefined</td>\n",
              "      <td>Masculino</td>\n",
              "      <td>MARANHÃO</td>\n",
              "      <td>21</td>\n",
              "      <td>São Luís</td>\n",
              "      <td>2111300.0</td>\n",
              "      <td>undefined</td>\n",
              "      <td>MARANHÃO</td>\n",
              "      <td>21.0</td>\n",
              "      <td>São Luís</td>\n",
              "      <td>2111300.0</td>\n",
              "      <td>undefined</td>\n",
              "      <td>undefined</td>\n",
              "      <td>55.0</td>\n",
              "      <td>NaN</td>\n",
              "      <td>NaN</td>\n",
              "      <td>NaN</td>\n",
              "    </tr>\n",
              "    <tr>\n",
              "      <th>1</th>\n",
              "      <td>ozHhVSzSdq</td>\n",
              "      <td>2020-04-06T13:17:27.512Z</td>\n",
              "      <td>2020-03-22T03:00:00.000Z</td>\n",
              "      <td>undefined</td>\n",
              "      <td>Febre, Tosse, Dispneia, Outros</td>\n",
              "      <td>Não</td>\n",
              "      <td>NaN</td>\n",
              "      <td>NaN</td>\n",
              "      <td>Coletado</td>\n",
              "      <td>2020-04-06T03:00:00.000Z</td>\n",
              "      <td>NaN</td>\n",
              "      <td>NaN</td>\n",
              "      <td>undefined</td>\n",
              "      <td>Masculino</td>\n",
              "      <td>MARANHÃO</td>\n",
              "      <td>21</td>\n",
              "      <td>Imperatriz</td>\n",
              "      <td>2105302.0</td>\n",
              "      <td>undefined</td>\n",
              "      <td>MARANHÃO</td>\n",
              "      <td>21.0</td>\n",
              "      <td>Imperatriz</td>\n",
              "      <td>2105302.0</td>\n",
              "      <td>undefined</td>\n",
              "      <td>undefined</td>\n",
              "      <td>47.0</td>\n",
              "      <td>NaN</td>\n",
              "      <td>NaN</td>\n",
              "      <td>NaN</td>\n",
              "    </tr>\n",
              "    <tr>\n",
              "      <th>2</th>\n",
              "      <td>6KJS2Qdpq2</td>\n",
              "      <td>2020-04-01T03:00:00.000Z</td>\n",
              "      <td>2020-03-26T03:00:00.000Z</td>\n",
              "      <td>undefined</td>\n",
              "      <td>Dor de Garganta, Dispneia, Febre, Tosse</td>\n",
              "      <td>Sim</td>\n",
              "      <td>2235 - Enfermeiro</td>\n",
              "      <td>NaN</td>\n",
              "      <td>Coletado</td>\n",
              "      <td>2020-04-02T03:00:00.000Z</td>\n",
              "      <td>NaN</td>\n",
              "      <td>NaN</td>\n",
              "      <td>undefined</td>\n",
              "      <td>Feminino</td>\n",
              "      <td>MARANHÃO</td>\n",
              "      <td>21</td>\n",
              "      <td>São Luís</td>\n",
              "      <td>2111300.0</td>\n",
              "      <td>undefined</td>\n",
              "      <td>MARANHÃO</td>\n",
              "      <td>21.0</td>\n",
              "      <td>São Luís</td>\n",
              "      <td>2111300.0</td>\n",
              "      <td>undefined</td>\n",
              "      <td>undefined</td>\n",
              "      <td>37.0</td>\n",
              "      <td>NaN</td>\n",
              "      <td>NaN</td>\n",
              "      <td>NaN</td>\n",
              "    </tr>\n",
              "    <tr>\n",
              "      <th>3</th>\n",
              "      <td>SXtw57busW</td>\n",
              "      <td>2020-04-01T03:00:00.000Z</td>\n",
              "      <td>2020-03-31T03:00:00.000Z</td>\n",
              "      <td>undefined</td>\n",
              "      <td>Dispneia, Tosse</td>\n",
              "      <td>Não</td>\n",
              "      <td>NaN</td>\n",
              "      <td>NaN</td>\n",
              "      <td>Coletado</td>\n",
              "      <td>2020-04-01T03:00:00.000Z</td>\n",
              "      <td>NaN</td>\n",
              "      <td>NaN</td>\n",
              "      <td>undefined</td>\n",
              "      <td>Feminino</td>\n",
              "      <td>MARANHÃO</td>\n",
              "      <td>21</td>\n",
              "      <td>São José de Ribamar</td>\n",
              "      <td>2111201.0</td>\n",
              "      <td>undefined</td>\n",
              "      <td>MARANHÃO</td>\n",
              "      <td>21.0</td>\n",
              "      <td>São Luís</td>\n",
              "      <td>2111300.0</td>\n",
              "      <td>undefined</td>\n",
              "      <td>undefined</td>\n",
              "      <td>33.0</td>\n",
              "      <td>NaN</td>\n",
              "      <td>NaN</td>\n",
              "      <td>NaN</td>\n",
              "    </tr>\n",
              "    <tr>\n",
              "      <th>4</th>\n",
              "      <td>NgKU8QKx0X</td>\n",
              "      <td>2020-04-06T07:23:33.348Z</td>\n",
              "      <td>2020-04-04T04:00:00.000Z</td>\n",
              "      <td>undefined</td>\n",
              "      <td>Tosse, Outros</td>\n",
              "      <td>Não</td>\n",
              "      <td>NaN</td>\n",
              "      <td>NaN</td>\n",
              "      <td>NaN</td>\n",
              "      <td>NaN</td>\n",
              "      <td>NaN</td>\n",
              "      <td>NaN</td>\n",
              "      <td>undefined</td>\n",
              "      <td>Masculino</td>\n",
              "      <td>MARANHÃO</td>\n",
              "      <td>21</td>\n",
              "      <td>São Luís</td>\n",
              "      <td>2111300.0</td>\n",
              "      <td>undefined</td>\n",
              "      <td>MARANHÃO</td>\n",
              "      <td>21.0</td>\n",
              "      <td>São Luís</td>\n",
              "      <td>2111300.0</td>\n",
              "      <td>undefined</td>\n",
              "      <td>undefined</td>\n",
              "      <td>56.0</td>\n",
              "      <td>NaN</td>\n",
              "      <td>NaN</td>\n",
              "      <td>NaN</td>\n",
              "    </tr>\n",
              "  </tbody>\n",
              "</table>\n",
              "</div>"
            ],
            "text/plain": [
              "          ÿid           dataNotificacao  ... evolucaoCaso classificacaoFinal\n",
              "0  AbEVo5S4nX  2020-03-30T03:00:00.000Z  ...          NaN                NaN\n",
              "1  ozHhVSzSdq  2020-04-06T13:17:27.512Z  ...          NaN                NaN\n",
              "2  6KJS2Qdpq2  2020-04-01T03:00:00.000Z  ...          NaN                NaN\n",
              "3  SXtw57busW  2020-04-01T03:00:00.000Z  ...          NaN                NaN\n",
              "4  NgKU8QKx0X  2020-04-06T07:23:33.348Z  ...          NaN                NaN\n",
              "\n",
              "[5 rows x 29 columns]"
            ]
          },
          "metadata": {
            "tags": []
          },
          "execution_count": 3
        }
      ]
    },
    {
      "cell_type": "code",
      "metadata": {
        "id": "IAxn_DcZf8GF"
      },
      "source": [
        "testes_ma = covid_ma.value_counts('resultadoTeste').sum()"
      ],
      "execution_count": 4,
      "outputs": []
    },
    {
      "cell_type": "code",
      "metadata": {
        "colab": {
          "base_uri": "https://localhost:8080/"
        },
        "id": "CZrSiQEceA9G",
        "outputId": "5dcde6d2-3857-4f86-d731-ebea15308331"
      },
      "source": [
        "testes_ma"
      ],
      "execution_count": 5,
      "outputs": [
        {
          "output_type": "execute_result",
          "data": {
            "text/plain": [
              "578824"
            ]
          },
          "metadata": {
            "tags": []
          },
          "execution_count": 5
        }
      ]
    },
    {
      "cell_type": "code",
      "metadata": {
        "colab": {
          "base_uri": "https://localhost:8080/"
        },
        "id": "7wxgNKsSmiKg",
        "outputId": "64b7fff4-87a7-4bd9-d0dc-88fe30cd24a8"
      },
      "source": [
        "covid_ma.value_counts('resultadoTeste')"
      ],
      "execution_count": 6,
      "outputs": [
        {
          "output_type": "execute_result",
          "data": {
            "text/plain": [
              "resultadoTeste\n",
              "Negativo                         317675\n",
              "Positivo                         260862\n",
              "Inconclusivo ou Indeterminado       287\n",
              "dtype: int64"
            ]
          },
          "metadata": {
            "tags": []
          },
          "execution_count": 6
        }
      ]
    },
    {
      "cell_type": "code",
      "metadata": {
        "id": "VmdF2-Ajfw8m"
      },
      "source": [
        "result_ma = covid_ma.value_counts('resultadoTeste')"
      ],
      "execution_count": 7,
      "outputs": []
    },
    {
      "cell_type": "code",
      "metadata": {
        "id": "ykaSMIWsnydR"
      },
      "source": [
        "result_ma = result_ma.drop('Inconclusivo ou Indeterminado')"
      ],
      "execution_count": 8,
      "outputs": []
    },
    {
      "cell_type": "code",
      "metadata": {
        "colab": {
          "base_uri": "https://localhost:8080/"
        },
        "id": "T0QN0DtFn2Ib",
        "outputId": "ea43aedf-60f6-413b-c82e-162ed305d976"
      },
      "source": [
        "result_ma"
      ],
      "execution_count": 9,
      "outputs": [
        {
          "output_type": "execute_result",
          "data": {
            "text/plain": [
              "resultadoTeste\n",
              "Negativo    317675\n",
              "Positivo    260862\n",
              "dtype: int64"
            ]
          },
          "metadata": {
            "tags": []
          },
          "execution_count": 9
        }
      ]
    },
    {
      "cell_type": "markdown",
      "metadata": {
        "id": "HdbC9YrCvGub"
      },
      "source": [
        "\n",
        "\n",
        "\n",
        "**Profissionais da saúde infectados no Maranhão**"
      ]
    },
    {
      "cell_type": "code",
      "metadata": {
        "id": "PbaB8BI4vEG8"
      },
      "source": [
        "pi_ma = covid_ma.query('profissionalSaude == \"Sim\" & resultadoTeste == \"Positivo\"')"
      ],
      "execution_count": 10,
      "outputs": []
    },
    {
      "cell_type": "code",
      "metadata": {
        "id": "IKrG7CwbvlFU"
      },
      "source": [
        "tpi_ma = pi_ma.value_counts('resultadoTeste')"
      ],
      "execution_count": 11,
      "outputs": []
    },
    {
      "cell_type": "code",
      "metadata": {
        "colab": {
          "base_uri": "https://localhost:8080/"
        },
        "id": "SiHjsW2BwHEi",
        "outputId": "8a217f28-ed85-47b4-dd5a-6a98b23e8a51"
      },
      "source": [
        "tpi_ma"
      ],
      "execution_count": 12,
      "outputs": [
        {
          "output_type": "execute_result",
          "data": {
            "text/plain": [
              "resultadoTeste\n",
              "Positivo    10719\n",
              "dtype: int64"
            ]
          },
          "metadata": {
            "tags": []
          },
          "execution_count": 12
        }
      ]
    },
    {
      "cell_type": "markdown",
      "metadata": {
        "id": "4BU6RSBRnlz_"
      },
      "source": [
        "**Sexo dos infectados no Maranhão**"
      ]
    },
    {
      "cell_type": "code",
      "metadata": {
        "id": "kp8gi3AonkAl"
      },
      "source": [
        "positivo_df = covid_ma.query('resultadoTeste == \"Positivo\"')"
      ],
      "execution_count": 47,
      "outputs": []
    },
    {
      "cell_type": "code",
      "metadata": {
        "id": "rj56JKZZn7Uh"
      },
      "source": [
        "positivos_sexo_ma = positivo_df.value_counts('sexo')"
      ],
      "execution_count": 65,
      "outputs": []
    },
    {
      "cell_type": "code",
      "metadata": {
        "colab": {
          "base_uri": "https://localhost:8080/"
        },
        "id": "EcBXwX0xseIm",
        "outputId": "0e9c849f-85e4-4796-ef60-a20b98befc59"
      },
      "source": [
        "positivos_sexo_ma"
      ],
      "execution_count": 66,
      "outputs": [
        {
          "output_type": "execute_result",
          "data": {
            "text/plain": [
              "sexo\n",
              "Feminino      145046\n",
              "Masculino     115645\n",
              "Indefinido       171\n",
              "dtype: int64"
            ]
          },
          "metadata": {
            "tags": []
          },
          "execution_count": 66
        }
      ]
    },
    {
      "cell_type": "markdown",
      "metadata": {
        "id": "XGAdvBbTdLOF"
      },
      "source": [
        "### **São Luís -  Capital**"
      ]
    },
    {
      "cell_type": "code",
      "metadata": {
        "id": "RPOooPgYdH6k"
      },
      "source": [
        "covid_slz = covid_ma.query('municipio == \"São Luís\"')"
      ],
      "execution_count": 13,
      "outputs": []
    },
    {
      "cell_type": "code",
      "metadata": {
        "colab": {
          "base_uri": "https://localhost:8080/",
          "height": 417
        },
        "id": "SoGCsPCGdVpp",
        "outputId": "9be50e9b-b2f4-4191-d02e-dc289c154e3d"
      },
      "source": [
        "covid_slz.head()"
      ],
      "execution_count": 14,
      "outputs": [
        {
          "output_type": "execute_result",
          "data": {
            "text/html": [
              "<div>\n",
              "<style scoped>\n",
              "    .dataframe tbody tr th:only-of-type {\n",
              "        vertical-align: middle;\n",
              "    }\n",
              "\n",
              "    .dataframe tbody tr th {\n",
              "        vertical-align: top;\n",
              "    }\n",
              "\n",
              "    .dataframe thead th {\n",
              "        text-align: right;\n",
              "    }\n",
              "</style>\n",
              "<table border=\"1\" class=\"dataframe\">\n",
              "  <thead>\n",
              "    <tr style=\"text-align: right;\">\n",
              "      <th></th>\n",
              "      <th>ÿid</th>\n",
              "      <th>dataNotificacao</th>\n",
              "      <th>dataInicioSintomas</th>\n",
              "      <th>dataNascimento</th>\n",
              "      <th>sintomas</th>\n",
              "      <th>profissionalSaude</th>\n",
              "      <th>cbo</th>\n",
              "      <th>condicoes</th>\n",
              "      <th>estadoTeste</th>\n",
              "      <th>dataTeste</th>\n",
              "      <th>tipoTeste</th>\n",
              "      <th>resultadoTeste</th>\n",
              "      <th>paisOrigem</th>\n",
              "      <th>sexo</th>\n",
              "      <th>estado</th>\n",
              "      <th>estadoIBGE</th>\n",
              "      <th>municipio</th>\n",
              "      <th>municipioIBGE</th>\n",
              "      <th>origem</th>\n",
              "      <th>estadoNotificacao</th>\n",
              "      <th>estadoNotificacaoIBGE</th>\n",
              "      <th>municipioNotificacao</th>\n",
              "      <th>municipioNotificacaoIBGE</th>\n",
              "      <th>excluido</th>\n",
              "      <th>validado</th>\n",
              "      <th>idade</th>\n",
              "      <th>dataEncerramento</th>\n",
              "      <th>evolucaoCaso</th>\n",
              "      <th>classificacaoFinal</th>\n",
              "    </tr>\n",
              "  </thead>\n",
              "  <tbody>\n",
              "    <tr>\n",
              "      <th>0</th>\n",
              "      <td>AbEVo5S4nX</td>\n",
              "      <td>2020-03-30T03:00:00.000Z</td>\n",
              "      <td>2020-03-29T03:00:00.000Z</td>\n",
              "      <td>undefined</td>\n",
              "      <td>Tosse</td>\n",
              "      <td>Sim</td>\n",
              "      <td>2235 - Enfermeiro</td>\n",
              "      <td>NaN</td>\n",
              "      <td>Coletado</td>\n",
              "      <td>2020-03-30T03:00:00.000Z</td>\n",
              "      <td>NaN</td>\n",
              "      <td>NaN</td>\n",
              "      <td>undefined</td>\n",
              "      <td>Masculino</td>\n",
              "      <td>MARANHÃO</td>\n",
              "      <td>21</td>\n",
              "      <td>São Luís</td>\n",
              "      <td>2111300.0</td>\n",
              "      <td>undefined</td>\n",
              "      <td>MARANHÃO</td>\n",
              "      <td>21.0</td>\n",
              "      <td>São Luís</td>\n",
              "      <td>2111300.0</td>\n",
              "      <td>undefined</td>\n",
              "      <td>undefined</td>\n",
              "      <td>55.0</td>\n",
              "      <td>NaN</td>\n",
              "      <td>NaN</td>\n",
              "      <td>NaN</td>\n",
              "    </tr>\n",
              "    <tr>\n",
              "      <th>2</th>\n",
              "      <td>6KJS2Qdpq2</td>\n",
              "      <td>2020-04-01T03:00:00.000Z</td>\n",
              "      <td>2020-03-26T03:00:00.000Z</td>\n",
              "      <td>undefined</td>\n",
              "      <td>Dor de Garganta, Dispneia, Febre, Tosse</td>\n",
              "      <td>Sim</td>\n",
              "      <td>2235 - Enfermeiro</td>\n",
              "      <td>NaN</td>\n",
              "      <td>Coletado</td>\n",
              "      <td>2020-04-02T03:00:00.000Z</td>\n",
              "      <td>NaN</td>\n",
              "      <td>NaN</td>\n",
              "      <td>undefined</td>\n",
              "      <td>Feminino</td>\n",
              "      <td>MARANHÃO</td>\n",
              "      <td>21</td>\n",
              "      <td>São Luís</td>\n",
              "      <td>2111300.0</td>\n",
              "      <td>undefined</td>\n",
              "      <td>MARANHÃO</td>\n",
              "      <td>21.0</td>\n",
              "      <td>São Luís</td>\n",
              "      <td>2111300.0</td>\n",
              "      <td>undefined</td>\n",
              "      <td>undefined</td>\n",
              "      <td>37.0</td>\n",
              "      <td>NaN</td>\n",
              "      <td>NaN</td>\n",
              "      <td>NaN</td>\n",
              "    </tr>\n",
              "    <tr>\n",
              "      <th>4</th>\n",
              "      <td>NgKU8QKx0X</td>\n",
              "      <td>2020-04-06T07:23:33.348Z</td>\n",
              "      <td>2020-04-04T04:00:00.000Z</td>\n",
              "      <td>undefined</td>\n",
              "      <td>Tosse, Outros</td>\n",
              "      <td>Não</td>\n",
              "      <td>NaN</td>\n",
              "      <td>NaN</td>\n",
              "      <td>NaN</td>\n",
              "      <td>NaN</td>\n",
              "      <td>NaN</td>\n",
              "      <td>NaN</td>\n",
              "      <td>undefined</td>\n",
              "      <td>Masculino</td>\n",
              "      <td>MARANHÃO</td>\n",
              "      <td>21</td>\n",
              "      <td>São Luís</td>\n",
              "      <td>2111300.0</td>\n",
              "      <td>undefined</td>\n",
              "      <td>MARANHÃO</td>\n",
              "      <td>21.0</td>\n",
              "      <td>São Luís</td>\n",
              "      <td>2111300.0</td>\n",
              "      <td>undefined</td>\n",
              "      <td>undefined</td>\n",
              "      <td>56.0</td>\n",
              "      <td>NaN</td>\n",
              "      <td>NaN</td>\n",
              "      <td>NaN</td>\n",
              "    </tr>\n",
              "    <tr>\n",
              "      <th>5</th>\n",
              "      <td>Y5rlV9HJRa</td>\n",
              "      <td>2020-04-06T13:31:04.344Z</td>\n",
              "      <td>2020-03-03T03:00:00.000Z</td>\n",
              "      <td>undefined</td>\n",
              "      <td>Dor de Garganta, Dispneia, Febre, Tosse, Outros</td>\n",
              "      <td>Sim</td>\n",
              "      <td>3222 - Técnico ou Auxiliar em Enfermagem</td>\n",
              "      <td>NaN</td>\n",
              "      <td>Coletado</td>\n",
              "      <td>2020-04-06T03:00:00.000Z</td>\n",
              "      <td>NaN</td>\n",
              "      <td>NaN</td>\n",
              "      <td>undefined</td>\n",
              "      <td>Masculino</td>\n",
              "      <td>MARANHÃO</td>\n",
              "      <td>21</td>\n",
              "      <td>São Luís</td>\n",
              "      <td>2111300.0</td>\n",
              "      <td>undefined</td>\n",
              "      <td>MARANHÃO</td>\n",
              "      <td>21.0</td>\n",
              "      <td>São Luís</td>\n",
              "      <td>2111300.0</td>\n",
              "      <td>undefined</td>\n",
              "      <td>undefined</td>\n",
              "      <td>33.0</td>\n",
              "      <td>NaN</td>\n",
              "      <td>NaN</td>\n",
              "      <td>NaN</td>\n",
              "    </tr>\n",
              "    <tr>\n",
              "      <th>6</th>\n",
              "      <td>SepJKM9O3F</td>\n",
              "      <td>2020-04-06T13:17:10.116Z</td>\n",
              "      <td>2020-03-29T03:00:00.000Z</td>\n",
              "      <td>undefined</td>\n",
              "      <td>Tosse</td>\n",
              "      <td>Não</td>\n",
              "      <td>NaN</td>\n",
              "      <td>NaN</td>\n",
              "      <td>Coletado</td>\n",
              "      <td>2020-04-01T03:00:00.000Z</td>\n",
              "      <td>NaN</td>\n",
              "      <td>NaN</td>\n",
              "      <td>undefined</td>\n",
              "      <td>Feminino</td>\n",
              "      <td>MARANHÃO</td>\n",
              "      <td>21</td>\n",
              "      <td>São Luís</td>\n",
              "      <td>2111300.0</td>\n",
              "      <td>undefined</td>\n",
              "      <td>MARANHÃO</td>\n",
              "      <td>21.0</td>\n",
              "      <td>São Luís</td>\n",
              "      <td>2111300.0</td>\n",
              "      <td>undefined</td>\n",
              "      <td>undefined</td>\n",
              "      <td>63.0</td>\n",
              "      <td>NaN</td>\n",
              "      <td>NaN</td>\n",
              "      <td>NaN</td>\n",
              "    </tr>\n",
              "  </tbody>\n",
              "</table>\n",
              "</div>"
            ],
            "text/plain": [
              "          ÿid           dataNotificacao  ... evolucaoCaso classificacaoFinal\n",
              "0  AbEVo5S4nX  2020-03-30T03:00:00.000Z  ...          NaN                NaN\n",
              "2  6KJS2Qdpq2  2020-04-01T03:00:00.000Z  ...          NaN                NaN\n",
              "4  NgKU8QKx0X  2020-04-06T07:23:33.348Z  ...          NaN                NaN\n",
              "5  Y5rlV9HJRa  2020-04-06T13:31:04.344Z  ...          NaN                NaN\n",
              "6  SepJKM9O3F  2020-04-06T13:17:10.116Z  ...          NaN                NaN\n",
              "\n",
              "[5 rows x 29 columns]"
            ]
          },
          "metadata": {
            "tags": []
          },
          "execution_count": 14
        }
      ]
    },
    {
      "cell_type": "code",
      "metadata": {
        "id": "jFZnefKqgPWv"
      },
      "source": [
        "testes_slz = covid_slz.value_counts('resultadoTeste').sum()"
      ],
      "execution_count": 15,
      "outputs": []
    },
    {
      "cell_type": "code",
      "metadata": {
        "colab": {
          "base_uri": "https://localhost:8080/"
        },
        "id": "4sBT3-LwdtDo",
        "outputId": "280f8123-b592-4465-9f18-9354664e7dd5"
      },
      "source": [
        "testes_slz"
      ],
      "execution_count": 16,
      "outputs": [
        {
          "output_type": "execute_result",
          "data": {
            "text/plain": [
              "89179"
            ]
          },
          "metadata": {
            "tags": []
          },
          "execution_count": 16
        }
      ]
    },
    {
      "cell_type": "code",
      "metadata": {
        "colab": {
          "base_uri": "https://localhost:8080/"
        },
        "id": "BSEJfu72d4xd",
        "outputId": "f22ea6e4-7396-4d2e-9ec4-aceda44670f1"
      },
      "source": [
        "covid_slz.value_counts('resultadoTeste')"
      ],
      "execution_count": 17,
      "outputs": [
        {
          "output_type": "execute_result",
          "data": {
            "text/plain": [
              "resultadoTeste\n",
              "Negativo                         60068\n",
              "Positivo                         29090\n",
              "Inconclusivo ou Indeterminado       21\n",
              "dtype: int64"
            ]
          },
          "metadata": {
            "tags": []
          },
          "execution_count": 17
        }
      ]
    },
    {
      "cell_type": "code",
      "metadata": {
        "id": "hCoH_M0QgT2q"
      },
      "source": [
        "result_slz = covid_slz.value_counts('resultadoTeste')"
      ],
      "execution_count": 18,
      "outputs": []
    },
    {
      "cell_type": "code",
      "metadata": {
        "id": "h6HaWGdYnmzV"
      },
      "source": [
        "result_slz = result_slz.drop('Inconclusivo ou Indeterminado')"
      ],
      "execution_count": 19,
      "outputs": []
    },
    {
      "cell_type": "code",
      "metadata": {
        "colab": {
          "base_uri": "https://localhost:8080/"
        },
        "id": "uI54DVNWnq7L",
        "outputId": "5fb52f84-ab43-4b7e-c7ac-f58f2364ca07"
      },
      "source": [
        "result_slz"
      ],
      "execution_count": 20,
      "outputs": [
        {
          "output_type": "execute_result",
          "data": {
            "text/plain": [
              "resultadoTeste\n",
              "Negativo    60068\n",
              "Positivo    29090\n",
              "dtype: int64"
            ]
          },
          "metadata": {
            "tags": []
          },
          "execution_count": 20
        }
      ]
    },
    {
      "cell_type": "markdown",
      "metadata": {
        "id": "vXrtvLujwkgR"
      },
      "source": [
        "**Profissionais da saúde infectados em São Luís**\n",
        "\n",
        "\n",
        "\n",
        "\n",
        "\n"
      ]
    },
    {
      "cell_type": "code",
      "metadata": {
        "id": "IE0McIHNwcQ6"
      },
      "source": [
        "pi_slz = covid_slz.query('profissionalSaude == \"Sim\" & resultadoTeste == \"Positivo\"')"
      ],
      "execution_count": 21,
      "outputs": []
    },
    {
      "cell_type": "code",
      "metadata": {
        "id": "xDr5y1iuw17F"
      },
      "source": [
        "tpi_slz = pi_slz.value_counts('resultadoTeste')"
      ],
      "execution_count": 22,
      "outputs": []
    },
    {
      "cell_type": "code",
      "metadata": {
        "colab": {
          "base_uri": "https://localhost:8080/"
        },
        "id": "hMQxJumCw6PN",
        "outputId": "d2c5236a-169e-452d-b184-c7c5c38ce483"
      },
      "source": [
        "tpi_slz"
      ],
      "execution_count": 23,
      "outputs": [
        {
          "output_type": "execute_result",
          "data": {
            "text/plain": [
              "resultadoTeste\n",
              "Positivo    2829\n",
              "dtype: int64"
            ]
          },
          "metadata": {
            "tags": []
          },
          "execution_count": 23
        }
      ]
    },
    {
      "cell_type": "markdown",
      "metadata": {
        "id": "bDP0YfQmo0Gp"
      },
      "source": [
        "**Sexo dos infectados em São Luís**"
      ]
    },
    {
      "cell_type": "code",
      "metadata": {
        "id": "T3rVdjeroZyA"
      },
      "source": [
        "positivo_slz = covid_slz.query('resultadoTeste == \"Positivo\"')"
      ],
      "execution_count": 50,
      "outputs": []
    },
    {
      "cell_type": "code",
      "metadata": {
        "id": "Thr2XE0booV4"
      },
      "source": [
        "positivos_sexo_slz = positivo_slz.value_counts('sexo')"
      ],
      "execution_count": 67,
      "outputs": []
    },
    {
      "cell_type": "code",
      "metadata": {
        "id": "1b0jgNX7stM8",
        "outputId": "f6dd6938-4633-49d7-9c29-cf1df595abf8",
        "colab": {
          "base_uri": "https://localhost:8080/"
        }
      },
      "source": [
        "positivos_sexo_slz"
      ],
      "execution_count": 68,
      "outputs": [
        {
          "output_type": "execute_result",
          "data": {
            "text/plain": [
              "sexo\n",
              "Masculino     14935\n",
              "Feminino      14058\n",
              "Indefinido       97\n",
              "dtype: int64"
            ]
          },
          "metadata": {
            "tags": []
          },
          "execution_count": 68
        }
      ]
    },
    {
      "cell_type": "markdown",
      "metadata": {
        "id": "EL5T97vSc8YQ"
      },
      "source": [
        "# **Açailândia**"
      ]
    },
    {
      "cell_type": "code",
      "metadata": {
        "id": "ufE-nWrKo996"
      },
      "source": [
        "covid_acai = covid_ma.query('municipio == \"Açailândia\"')"
      ],
      "execution_count": 24,
      "outputs": []
    },
    {
      "cell_type": "code",
      "metadata": {
        "colab": {
          "base_uri": "https://localhost:8080/",
          "height": 383
        },
        "id": "uljSMdvApGF3",
        "outputId": "af66df1c-23b8-4446-8df8-6b09abf91cc5"
      },
      "source": [
        "covid_acai.head()"
      ],
      "execution_count": 25,
      "outputs": [
        {
          "output_type": "execute_result",
          "data": {
            "text/html": [
              "<div>\n",
              "<style scoped>\n",
              "    .dataframe tbody tr th:only-of-type {\n",
              "        vertical-align: middle;\n",
              "    }\n",
              "\n",
              "    .dataframe tbody tr th {\n",
              "        vertical-align: top;\n",
              "    }\n",
              "\n",
              "    .dataframe thead th {\n",
              "        text-align: right;\n",
              "    }\n",
              "</style>\n",
              "<table border=\"1\" class=\"dataframe\">\n",
              "  <thead>\n",
              "    <tr style=\"text-align: right;\">\n",
              "      <th></th>\n",
              "      <th>ÿid</th>\n",
              "      <th>dataNotificacao</th>\n",
              "      <th>dataInicioSintomas</th>\n",
              "      <th>dataNascimento</th>\n",
              "      <th>sintomas</th>\n",
              "      <th>profissionalSaude</th>\n",
              "      <th>cbo</th>\n",
              "      <th>condicoes</th>\n",
              "      <th>estadoTeste</th>\n",
              "      <th>dataTeste</th>\n",
              "      <th>tipoTeste</th>\n",
              "      <th>resultadoTeste</th>\n",
              "      <th>paisOrigem</th>\n",
              "      <th>sexo</th>\n",
              "      <th>estado</th>\n",
              "      <th>estadoIBGE</th>\n",
              "      <th>municipio</th>\n",
              "      <th>municipioIBGE</th>\n",
              "      <th>origem</th>\n",
              "      <th>estadoNotificacao</th>\n",
              "      <th>estadoNotificacaoIBGE</th>\n",
              "      <th>municipioNotificacao</th>\n",
              "      <th>municipioNotificacaoIBGE</th>\n",
              "      <th>excluido</th>\n",
              "      <th>validado</th>\n",
              "      <th>idade</th>\n",
              "      <th>dataEncerramento</th>\n",
              "      <th>evolucaoCaso</th>\n",
              "      <th>classificacaoFinal</th>\n",
              "    </tr>\n",
              "  </thead>\n",
              "  <tbody>\n",
              "    <tr>\n",
              "      <th>72</th>\n",
              "      <td>HSeQP58XwJ</td>\n",
              "      <td>2020-04-05T03:00:00.000Z</td>\n",
              "      <td>2020-03-13T03:00:00.000Z</td>\n",
              "      <td>undefined</td>\n",
              "      <td>Dor de Garganta, Dispneia, Tosse</td>\n",
              "      <td>Não</td>\n",
              "      <td>NaN</td>\n",
              "      <td>Doenças cardíacas crônicas</td>\n",
              "      <td>NaN</td>\n",
              "      <td>NaN</td>\n",
              "      <td>NaN</td>\n",
              "      <td>NaN</td>\n",
              "      <td>undefined</td>\n",
              "      <td>Masculino</td>\n",
              "      <td>MARANHÃO</td>\n",
              "      <td>21</td>\n",
              "      <td>Açailândia</td>\n",
              "      <td>2100055.0</td>\n",
              "      <td>undefined</td>\n",
              "      <td>MARANHÃO</td>\n",
              "      <td>21.0</td>\n",
              "      <td>Açailândia</td>\n",
              "      <td>2100055.0</td>\n",
              "      <td>undefined</td>\n",
              "      <td>undefined</td>\n",
              "      <td>45.0</td>\n",
              "      <td>NaN</td>\n",
              "      <td>NaN</td>\n",
              "      <td>NaN</td>\n",
              "    </tr>\n",
              "    <tr>\n",
              "      <th>373</th>\n",
              "      <td>0ggNmmd4d8</td>\n",
              "      <td>2020-04-04T03:00:00.000Z</td>\n",
              "      <td>2020-03-30T03:00:00.000Z</td>\n",
              "      <td>undefined</td>\n",
              "      <td>Tosse, Febre, Dispneia</td>\n",
              "      <td>Não</td>\n",
              "      <td>NaN</td>\n",
              "      <td>Doenças respiratórias crônicas descompensadas</td>\n",
              "      <td>NaN</td>\n",
              "      <td>NaN</td>\n",
              "      <td>NaN</td>\n",
              "      <td>NaN</td>\n",
              "      <td>undefined</td>\n",
              "      <td>Masculino</td>\n",
              "      <td>MARANHÃO</td>\n",
              "      <td>21</td>\n",
              "      <td>Açailândia</td>\n",
              "      <td>2100055.0</td>\n",
              "      <td>undefined</td>\n",
              "      <td>MARANHÃO</td>\n",
              "      <td>21.0</td>\n",
              "      <td>Açailândia</td>\n",
              "      <td>2100055.0</td>\n",
              "      <td>undefined</td>\n",
              "      <td>undefined</td>\n",
              "      <td>40.0</td>\n",
              "      <td>NaN</td>\n",
              "      <td>NaN</td>\n",
              "      <td>NaN</td>\n",
              "    </tr>\n",
              "    <tr>\n",
              "      <th>719</th>\n",
              "      <td>XMTKArMD4Z</td>\n",
              "      <td>2020-04-03T20:15:20.670Z</td>\n",
              "      <td>2020-03-28T03:00:00.000Z</td>\n",
              "      <td>undefined</td>\n",
              "      <td>Febre,Tosse,Dispneia</td>\n",
              "      <td>Não</td>\n",
              "      <td>NaN</td>\n",
              "      <td>NaN</td>\n",
              "      <td>NaN</td>\n",
              "      <td>NaN</td>\n",
              "      <td>NaN</td>\n",
              "      <td>NaN</td>\n",
              "      <td>undefined</td>\n",
              "      <td>Feminino</td>\n",
              "      <td>MARANHÃO</td>\n",
              "      <td>21</td>\n",
              "      <td>Açailândia</td>\n",
              "      <td>2100055.0</td>\n",
              "      <td>undefined</td>\n",
              "      <td>MARANHÃO</td>\n",
              "      <td>21.0</td>\n",
              "      <td>Açailândia</td>\n",
              "      <td>2100055.0</td>\n",
              "      <td>undefined</td>\n",
              "      <td>undefined</td>\n",
              "      <td>39.0</td>\n",
              "      <td>NaN</td>\n",
              "      <td>NaN</td>\n",
              "      <td>NaN</td>\n",
              "    </tr>\n",
              "    <tr>\n",
              "      <th>794</th>\n",
              "      <td>FrXtr4D2Me</td>\n",
              "      <td>2020-04-04T16:01:30.910Z</td>\n",
              "      <td>2020-04-04T03:00:00.000Z</td>\n",
              "      <td>undefined</td>\n",
              "      <td>Dor de Garganta,Dispneia,Febre</td>\n",
              "      <td>Não</td>\n",
              "      <td>NaN</td>\n",
              "      <td>NaN</td>\n",
              "      <td>NaN</td>\n",
              "      <td>NaN</td>\n",
              "      <td>NaN</td>\n",
              "      <td>NaN</td>\n",
              "      <td>undefined</td>\n",
              "      <td>Feminino</td>\n",
              "      <td>MARANHÃO</td>\n",
              "      <td>21</td>\n",
              "      <td>Açailândia</td>\n",
              "      <td>2100055.0</td>\n",
              "      <td>undefined</td>\n",
              "      <td>MARANHÃO</td>\n",
              "      <td>21.0</td>\n",
              "      <td>Açailândia</td>\n",
              "      <td>2100055.0</td>\n",
              "      <td>undefined</td>\n",
              "      <td>undefined</td>\n",
              "      <td>29.0</td>\n",
              "      <td>NaN</td>\n",
              "      <td>NaN</td>\n",
              "      <td>NaN</td>\n",
              "    </tr>\n",
              "    <tr>\n",
              "      <th>824</th>\n",
              "      <td>DYMCe6QVBa</td>\n",
              "      <td>2020-04-05T15:47:12.970Z</td>\n",
              "      <td>2020-03-24T03:00:00.000Z</td>\n",
              "      <td>undefined</td>\n",
              "      <td>Tosse, Febre, Dispneia, Dor de Garganta</td>\n",
              "      <td>Sim</td>\n",
              "      <td>3222 - Técnico ou Auxiliar em Enfermagem</td>\n",
              "      <td>NaN</td>\n",
              "      <td>Solicitado</td>\n",
              "      <td>NaN</td>\n",
              "      <td>NaN</td>\n",
              "      <td>NaN</td>\n",
              "      <td>undefined</td>\n",
              "      <td>Feminino</td>\n",
              "      <td>MARANHÃO</td>\n",
              "      <td>21</td>\n",
              "      <td>Açailândia</td>\n",
              "      <td>2100055.0</td>\n",
              "      <td>undefined</td>\n",
              "      <td>MARANHÃO</td>\n",
              "      <td>21.0</td>\n",
              "      <td>Açailândia</td>\n",
              "      <td>2100055.0</td>\n",
              "      <td>undefined</td>\n",
              "      <td>undefined</td>\n",
              "      <td>45.0</td>\n",
              "      <td>NaN</td>\n",
              "      <td>NaN</td>\n",
              "      <td>NaN</td>\n",
              "    </tr>\n",
              "  </tbody>\n",
              "</table>\n",
              "</div>"
            ],
            "text/plain": [
              "            ÿid           dataNotificacao  ... evolucaoCaso classificacaoFinal\n",
              "72   HSeQP58XwJ  2020-04-05T03:00:00.000Z  ...          NaN                NaN\n",
              "373  0ggNmmd4d8  2020-04-04T03:00:00.000Z  ...          NaN                NaN\n",
              "719  XMTKArMD4Z  2020-04-03T20:15:20.670Z  ...          NaN                NaN\n",
              "794  FrXtr4D2Me  2020-04-04T16:01:30.910Z  ...          NaN                NaN\n",
              "824  DYMCe6QVBa  2020-04-05T15:47:12.970Z  ...          NaN                NaN\n",
              "\n",
              "[5 rows x 29 columns]"
            ]
          },
          "metadata": {
            "tags": []
          },
          "execution_count": 25
        }
      ]
    },
    {
      "cell_type": "code",
      "metadata": {
        "id": "fltduQ33gdKk"
      },
      "source": [
        "testes_acai = covid_acai.value_counts('resultadoTeste').sum()"
      ],
      "execution_count": 27,
      "outputs": []
    },
    {
      "cell_type": "code",
      "metadata": {
        "colab": {
          "base_uri": "https://localhost:8080/"
        },
        "id": "Ox-YQ3VcZrFe",
        "outputId": "799d1b00-d21d-400f-bd57-45aeebaec9a0"
      },
      "source": [
        "testes_acai"
      ],
      "execution_count": 28,
      "outputs": [
        {
          "output_type": "execute_result",
          "data": {
            "text/plain": [
              "11986"
            ]
          },
          "metadata": {
            "tags": []
          },
          "execution_count": 28
        }
      ]
    },
    {
      "cell_type": "code",
      "metadata": {
        "id": "47Yls1-uhjgV"
      },
      "source": [
        "result_acai = covid_acai.value_counts('resultadoTeste')"
      ],
      "execution_count": 29,
      "outputs": []
    },
    {
      "cell_type": "code",
      "metadata": {
        "colab": {
          "base_uri": "https://localhost:8080/"
        },
        "id": "ygv4qB0QpM9C",
        "outputId": "e258c89b-9390-4221-a762-bdb9400d69f3"
      },
      "source": [
        "result_acai"
      ],
      "execution_count": 30,
      "outputs": [
        {
          "output_type": "execute_result",
          "data": {
            "text/plain": [
              "resultadoTeste\n",
              "Negativo    7205\n",
              "Positivo    4781\n",
              "dtype: int64"
            ]
          },
          "metadata": {
            "tags": []
          },
          "execution_count": 30
        }
      ]
    },
    {
      "cell_type": "markdown",
      "metadata": {
        "id": "H6sRDVjzxbHJ"
      },
      "source": [
        "**Profissionais da saúde infectados em Açailândia**"
      ]
    },
    {
      "cell_type": "code",
      "metadata": {
        "id": "vbH2SG7RxY6A"
      },
      "source": [
        "pi_acai = covid_acai.query('profissionalSaude == \"Sim\" & resultadoTeste == \"Positivo\"')"
      ],
      "execution_count": 31,
      "outputs": []
    },
    {
      "cell_type": "code",
      "metadata": {
        "id": "FiQLbfGQxZxh"
      },
      "source": [
        "tpi_acai = pi_acai.value_counts('resultadoTeste')"
      ],
      "execution_count": 32,
      "outputs": []
    },
    {
      "cell_type": "code",
      "metadata": {
        "colab": {
          "base_uri": "https://localhost:8080/"
        },
        "id": "N_FfhhFnxaNe",
        "outputId": "f69f8a9b-92e4-44db-8ca9-e17f8e47be92"
      },
      "source": [
        "tpi_acai"
      ],
      "execution_count": 33,
      "outputs": [
        {
          "output_type": "execute_result",
          "data": {
            "text/plain": [
              "resultadoTeste\n",
              "Positivo    41\n",
              "dtype: int64"
            ]
          },
          "metadata": {
            "tags": []
          },
          "execution_count": 33
        }
      ]
    },
    {
      "cell_type": "markdown",
      "metadata": {
        "id": "KU7tdFeMpIex"
      },
      "source": [
        "**Sexo dos infectados em Açailândia**"
      ]
    },
    {
      "cell_type": "code",
      "metadata": {
        "id": "tRfxwsLYpO4T"
      },
      "source": [
        "positivo_acai = covid_acai.query('resultadoTeste == \"Positivo\"')"
      ],
      "execution_count": 52,
      "outputs": []
    },
    {
      "cell_type": "code",
      "metadata": {
        "id": "wWoIGBigpYDb"
      },
      "source": [
        "positivos_sexo_acai = positivo_acai.value_counts('sexo')"
      ],
      "execution_count": 69,
      "outputs": []
    },
    {
      "cell_type": "code",
      "metadata": {
        "id": "6Gh-Z9wos34L",
        "outputId": "a4a20e87-a808-4ef8-b63a-199f6a4fd255",
        "colab": {
          "base_uri": "https://localhost:8080/"
        }
      },
      "source": [
        "positivos_sexo_acai"
      ],
      "execution_count": 70,
      "outputs": [
        {
          "output_type": "execute_result",
          "data": {
            "text/plain": [
              "sexo\n",
              "Masculino     2434\n",
              "Feminino      2342\n",
              "Indefinido       5\n",
              "dtype: int64"
            ]
          },
          "metadata": {
            "tags": []
          },
          "execution_count": 70
        }
      ]
    },
    {
      "cell_type": "markdown",
      "metadata": {
        "id": "vVzOdhj2dDf3"
      },
      "source": [
        "# **Imperatriz**"
      ]
    },
    {
      "cell_type": "code",
      "metadata": {
        "id": "kYdq_5pS77CA"
      },
      "source": [
        "covid_itz = covid_ma.query('municipio == \"Imperatriz\"')"
      ],
      "execution_count": 34,
      "outputs": []
    },
    {
      "cell_type": "code",
      "metadata": {
        "colab": {
          "base_uri": "https://localhost:8080/",
          "height": 400
        },
        "id": "85rkef85cjTW",
        "outputId": "0592c368-467d-43bd-8f75-11cc0f941bff"
      },
      "source": [
        "covid_itz.head()"
      ],
      "execution_count": 35,
      "outputs": [
        {
          "output_type": "execute_result",
          "data": {
            "text/html": [
              "<div>\n",
              "<style scoped>\n",
              "    .dataframe tbody tr th:only-of-type {\n",
              "        vertical-align: middle;\n",
              "    }\n",
              "\n",
              "    .dataframe tbody tr th {\n",
              "        vertical-align: top;\n",
              "    }\n",
              "\n",
              "    .dataframe thead th {\n",
              "        text-align: right;\n",
              "    }\n",
              "</style>\n",
              "<table border=\"1\" class=\"dataframe\">\n",
              "  <thead>\n",
              "    <tr style=\"text-align: right;\">\n",
              "      <th></th>\n",
              "      <th>ÿid</th>\n",
              "      <th>dataNotificacao</th>\n",
              "      <th>dataInicioSintomas</th>\n",
              "      <th>dataNascimento</th>\n",
              "      <th>sintomas</th>\n",
              "      <th>profissionalSaude</th>\n",
              "      <th>cbo</th>\n",
              "      <th>condicoes</th>\n",
              "      <th>estadoTeste</th>\n",
              "      <th>dataTeste</th>\n",
              "      <th>tipoTeste</th>\n",
              "      <th>resultadoTeste</th>\n",
              "      <th>paisOrigem</th>\n",
              "      <th>sexo</th>\n",
              "      <th>estado</th>\n",
              "      <th>estadoIBGE</th>\n",
              "      <th>municipio</th>\n",
              "      <th>municipioIBGE</th>\n",
              "      <th>origem</th>\n",
              "      <th>estadoNotificacao</th>\n",
              "      <th>estadoNotificacaoIBGE</th>\n",
              "      <th>municipioNotificacao</th>\n",
              "      <th>municipioNotificacaoIBGE</th>\n",
              "      <th>excluido</th>\n",
              "      <th>validado</th>\n",
              "      <th>idade</th>\n",
              "      <th>dataEncerramento</th>\n",
              "      <th>evolucaoCaso</th>\n",
              "      <th>classificacaoFinal</th>\n",
              "    </tr>\n",
              "  </thead>\n",
              "  <tbody>\n",
              "    <tr>\n",
              "      <th>1</th>\n",
              "      <td>ozHhVSzSdq</td>\n",
              "      <td>2020-04-06T13:17:27.512Z</td>\n",
              "      <td>2020-03-22T03:00:00.000Z</td>\n",
              "      <td>undefined</td>\n",
              "      <td>Febre, Tosse, Dispneia, Outros</td>\n",
              "      <td>Não</td>\n",
              "      <td>NaN</td>\n",
              "      <td>NaN</td>\n",
              "      <td>Coletado</td>\n",
              "      <td>2020-04-06T03:00:00.000Z</td>\n",
              "      <td>NaN</td>\n",
              "      <td>NaN</td>\n",
              "      <td>undefined</td>\n",
              "      <td>Masculino</td>\n",
              "      <td>MARANHÃO</td>\n",
              "      <td>21</td>\n",
              "      <td>Imperatriz</td>\n",
              "      <td>2105302.0</td>\n",
              "      <td>undefined</td>\n",
              "      <td>MARANHÃO</td>\n",
              "      <td>21.0</td>\n",
              "      <td>Imperatriz</td>\n",
              "      <td>2105302.0</td>\n",
              "      <td>undefined</td>\n",
              "      <td>undefined</td>\n",
              "      <td>47.0</td>\n",
              "      <td>NaN</td>\n",
              "      <td>NaN</td>\n",
              "      <td>NaN</td>\n",
              "    </tr>\n",
              "    <tr>\n",
              "      <th>52</th>\n",
              "      <td>C0ya737eMv</td>\n",
              "      <td>2020-04-06T03:00:00.000Z</td>\n",
              "      <td>2020-03-30T03:00:00.000Z</td>\n",
              "      <td>undefined</td>\n",
              "      <td>Dor de Garganta, Febre, Tosse</td>\n",
              "      <td>Não</td>\n",
              "      <td>NaN</td>\n",
              "      <td>NaN</td>\n",
              "      <td>NaN</td>\n",
              "      <td>NaN</td>\n",
              "      <td>NaN</td>\n",
              "      <td>NaN</td>\n",
              "      <td>undefined</td>\n",
              "      <td>Feminino</td>\n",
              "      <td>MARANHÃO</td>\n",
              "      <td>21</td>\n",
              "      <td>Imperatriz</td>\n",
              "      <td>2105302.0</td>\n",
              "      <td>undefined</td>\n",
              "      <td>MARANHÃO</td>\n",
              "      <td>21.0</td>\n",
              "      <td>Governador Edison Lobão</td>\n",
              "      <td>2104552.0</td>\n",
              "      <td>undefined</td>\n",
              "      <td>undefined</td>\n",
              "      <td>26.0</td>\n",
              "      <td>NaN</td>\n",
              "      <td>NaN</td>\n",
              "      <td>NaN</td>\n",
              "    </tr>\n",
              "    <tr>\n",
              "      <th>57</th>\n",
              "      <td>JUzKNcyiIH</td>\n",
              "      <td>2020-04-06T03:00:00.000Z</td>\n",
              "      <td>2020-04-05T03:00:00.000Z</td>\n",
              "      <td>undefined</td>\n",
              "      <td>Tosse</td>\n",
              "      <td>Não</td>\n",
              "      <td>NaN</td>\n",
              "      <td>NaN</td>\n",
              "      <td>NaN</td>\n",
              "      <td>NaN</td>\n",
              "      <td>NaN</td>\n",
              "      <td>NaN</td>\n",
              "      <td>undefined</td>\n",
              "      <td>Masculino</td>\n",
              "      <td>MARANHÃO</td>\n",
              "      <td>21</td>\n",
              "      <td>Imperatriz</td>\n",
              "      <td>2105302.0</td>\n",
              "      <td>undefined</td>\n",
              "      <td>MARANHÃO</td>\n",
              "      <td>21.0</td>\n",
              "      <td>Governador Edison Lobão</td>\n",
              "      <td>2104552.0</td>\n",
              "      <td>undefined</td>\n",
              "      <td>undefined</td>\n",
              "      <td>30.0</td>\n",
              "      <td>NaN</td>\n",
              "      <td>NaN</td>\n",
              "      <td>NaN</td>\n",
              "    </tr>\n",
              "    <tr>\n",
              "      <th>63</th>\n",
              "      <td>ECYrdK7ZN6</td>\n",
              "      <td>2020-04-06T03:00:00.000Z</td>\n",
              "      <td>2020-04-04T03:00:00.000Z</td>\n",
              "      <td>undefined</td>\n",
              "      <td>Dispneia, Febre</td>\n",
              "      <td>Não</td>\n",
              "      <td>NaN</td>\n",
              "      <td>NaN</td>\n",
              "      <td>NaN</td>\n",
              "      <td>NaN</td>\n",
              "      <td>NaN</td>\n",
              "      <td>NaN</td>\n",
              "      <td>undefined</td>\n",
              "      <td>Feminino</td>\n",
              "      <td>MARANHÃO</td>\n",
              "      <td>21</td>\n",
              "      <td>Imperatriz</td>\n",
              "      <td>2105302.0</td>\n",
              "      <td>undefined</td>\n",
              "      <td>MARANHÃO</td>\n",
              "      <td>21.0</td>\n",
              "      <td>Governador Edison Lobão</td>\n",
              "      <td>2104552.0</td>\n",
              "      <td>undefined</td>\n",
              "      <td>undefined</td>\n",
              "      <td>41.0</td>\n",
              "      <td>NaN</td>\n",
              "      <td>NaN</td>\n",
              "      <td>NaN</td>\n",
              "    </tr>\n",
              "    <tr>\n",
              "      <th>164</th>\n",
              "      <td>SsE6bE0dw8</td>\n",
              "      <td>2020-04-06T18:04:25.570Z</td>\n",
              "      <td>2020-04-06T03:00:00.000Z</td>\n",
              "      <td>undefined</td>\n",
              "      <td>Outros, Dispneia</td>\n",
              "      <td>Sim</td>\n",
              "      <td>225 - Médico</td>\n",
              "      <td>Doenças cardíacas crônicas</td>\n",
              "      <td>Coletado</td>\n",
              "      <td>2020-04-06T03:00:00.000Z</td>\n",
              "      <td>NaN</td>\n",
              "      <td>NaN</td>\n",
              "      <td>undefined</td>\n",
              "      <td>Masculino</td>\n",
              "      <td>MARANHÃO</td>\n",
              "      <td>21</td>\n",
              "      <td>Imperatriz</td>\n",
              "      <td>2105302.0</td>\n",
              "      <td>undefined</td>\n",
              "      <td>MARANHÃO</td>\n",
              "      <td>21.0</td>\n",
              "      <td>Imperatriz</td>\n",
              "      <td>2105302.0</td>\n",
              "      <td>undefined</td>\n",
              "      <td>undefined</td>\n",
              "      <td>70.0</td>\n",
              "      <td>NaN</td>\n",
              "      <td>NaN</td>\n",
              "      <td>NaN</td>\n",
              "    </tr>\n",
              "  </tbody>\n",
              "</table>\n",
              "</div>"
            ],
            "text/plain": [
              "            ÿid           dataNotificacao  ... evolucaoCaso classificacaoFinal\n",
              "1    ozHhVSzSdq  2020-04-06T13:17:27.512Z  ...          NaN                NaN\n",
              "52   C0ya737eMv  2020-04-06T03:00:00.000Z  ...          NaN                NaN\n",
              "57   JUzKNcyiIH  2020-04-06T03:00:00.000Z  ...          NaN                NaN\n",
              "63   ECYrdK7ZN6  2020-04-06T03:00:00.000Z  ...          NaN                NaN\n",
              "164  SsE6bE0dw8  2020-04-06T18:04:25.570Z  ...          NaN                NaN\n",
              "\n",
              "[5 rows x 29 columns]"
            ]
          },
          "metadata": {
            "tags": []
          },
          "execution_count": 35
        }
      ]
    },
    {
      "cell_type": "code",
      "metadata": {
        "id": "Sx89GKITh4JG"
      },
      "source": [
        "testes_itz = covid_itz.value_counts('resultadoTeste').sum()"
      ],
      "execution_count": 36,
      "outputs": []
    },
    {
      "cell_type": "code",
      "metadata": {
        "colab": {
          "base_uri": "https://localhost:8080/"
        },
        "id": "anBpVm5ucuei",
        "outputId": "ec81d8ae-dd32-42b7-8ae2-f39d4582a27a"
      },
      "source": [
        "testes_itz"
      ],
      "execution_count": 38,
      "outputs": [
        {
          "output_type": "execute_result",
          "data": {
            "text/plain": [
              "47281"
            ]
          },
          "metadata": {
            "tags": []
          },
          "execution_count": 38
        }
      ]
    },
    {
      "cell_type": "code",
      "metadata": {
        "id": "tdAKkTxTh-Lg"
      },
      "source": [
        "result_itz = covid_itz.value_counts('resultadoTeste')   "
      ],
      "execution_count": 39,
      "outputs": []
    },
    {
      "cell_type": "code",
      "metadata": {
        "id": "KShuRSwrdz0h"
      },
      "source": [
        "result_itz = result_itz.drop('Inconclusivo ou Indeterminado')"
      ],
      "execution_count": 40,
      "outputs": []
    },
    {
      "cell_type": "code",
      "metadata": {
        "colab": {
          "base_uri": "https://localhost:8080/"
        },
        "id": "niSim-fGnceX",
        "outputId": "478203d5-4977-4db7-9e52-d37a616e5269"
      },
      "source": [
        "result_itz"
      ],
      "execution_count": 41,
      "outputs": [
        {
          "output_type": "execute_result",
          "data": {
            "text/plain": [
              "resultadoTeste\n",
              "Negativo    29997\n",
              "Positivo    17267\n",
              "dtype: int64"
            ]
          },
          "metadata": {
            "tags": []
          },
          "execution_count": 41
        }
      ]
    },
    {
      "cell_type": "markdown",
      "metadata": {
        "id": "ZRF8dcAnygwy"
      },
      "source": [
        "**Profissionais da saúde infectados em Imperatriz**"
      ]
    },
    {
      "cell_type": "code",
      "metadata": {
        "id": "kBQRBvjdytTU"
      },
      "source": [
        "pi_itz = covid_itz.query('profissionalSaude == \"Sim\" & resultadoTeste == \"Positivo\"')"
      ],
      "execution_count": 42,
      "outputs": []
    },
    {
      "cell_type": "code",
      "metadata": {
        "id": "g-wiuoMzytw5"
      },
      "source": [
        "tpi_itz = pi_itz.value_counts('resultadoTeste')"
      ],
      "execution_count": 43,
      "outputs": []
    },
    {
      "cell_type": "code",
      "metadata": {
        "colab": {
          "base_uri": "https://localhost:8080/"
        },
        "id": "RYxeFbG9yuJs",
        "outputId": "fca328a0-6fb5-4b34-b6e4-a3adae3b962b"
      },
      "source": [
        "tpi_itz"
      ],
      "execution_count": 44,
      "outputs": [
        {
          "output_type": "execute_result",
          "data": {
            "text/plain": [
              "resultadoTeste\n",
              "Positivo    711\n",
              "dtype: int64"
            ]
          },
          "metadata": {
            "tags": []
          },
          "execution_count": 44
        }
      ]
    },
    {
      "cell_type": "markdown",
      "metadata": {
        "id": "cMyH6vJFpoKG"
      },
      "source": [
        "**Sexo dos infectados em Imperatriz**"
      ]
    },
    {
      "cell_type": "code",
      "metadata": {
        "id": "xn2tYBs3pucW"
      },
      "source": [
        "positivo_itz = covid_itz.query('resultadoTeste == \"Positivo\"')"
      ],
      "execution_count": 54,
      "outputs": []
    },
    {
      "cell_type": "code",
      "metadata": {
        "id": "QzKb_HfHpzWk"
      },
      "source": [
        "positivos_sexo_itz = positivo_itz.value_counts('sexo')"
      ],
      "execution_count": 71,
      "outputs": []
    },
    {
      "cell_type": "code",
      "metadata": {
        "id": "6xMAiQ96tBd6",
        "outputId": "c414c692-d098-47d4-8b8c-1985ce0417d4",
        "colab": {
          "base_uri": "https://localhost:8080/"
        }
      },
      "source": [
        "positivos_sexo_itz"
      ],
      "execution_count": 72,
      "outputs": [
        {
          "output_type": "execute_result",
          "data": {
            "text/plain": [
              "sexo\n",
              "Feminino      9373\n",
              "Masculino     7887\n",
              "Indefinido       7\n",
              "dtype: int64"
            ]
          },
          "metadata": {
            "tags": []
          },
          "execution_count": 72
        }
      ]
    },
    {
      "cell_type": "markdown",
      "metadata": {
        "id": "1qZOhHUFqHuZ"
      },
      "source": [
        "# **Visualização dos dados**"
      ]
    },
    {
      "cell_type": "code",
      "metadata": {
        "colab": {
          "base_uri": "https://localhost:8080/",
          "height": 411
        },
        "id": "jsOJl52vfM_K",
        "outputId": "d6768a53-02ff-4fe7-fe11-debae63ba4a9"
      },
      "source": [
        "#---------Testes da COVID-19 no estado do Maranhão---------\n",
        "cores = ['#7FFFD4', '#FA8072']\n",
        "fig,(ax1, ax2, ax3, ax4) = plt.subplots(1,4, figsize=(20,6))\n",
        "plt.suptitle('Testes da COVID-19 no estado do Maranhão', weight='bold', size=22)\n",
        "legenda1 = ['Negativo', 'Positivo']\n",
        "\n",
        "ax1.pie(result_ma, labels=result_ma, autopct='%1.1f%%', shadow=True, explode=(0,0.05), colors=cores)\n",
        "ax1.set_title('Todo o estado', weight='bold', size=15)\n",
        "ax1.legend(legenda1, title='Resultado', bbox_to_anchor=(1, 0))\n",
        "\n",
        "ax2.pie(result_slz, labels=result_slz, autopct='%1.1f%%', shadow=True, explode=(0,0.05), colors=cores)\n",
        "ax2.set_title('São Luís', weight='bold', size=15)\n",
        "ax2.legend(legenda1, title='Resultado', bbox_to_anchor=(1, 0))\n",
        "\n",
        "ax3.pie(result_acai, labels=result_acai, autopct='%1.1f%%', shadow=True, explode=(0,0.05), colors=cores)\n",
        "ax3.set_title('Açailândia', weight='bold', size=15)\n",
        "ax3.legend(legenda1, title='Resultado', bbox_to_anchor=(1, 0))\n",
        "\n",
        "ax4.pie(result_itz, labels=result_itz, autopct='%1.1f%%', shadow=True, explode=(0,0.05), colors=cores)\n",
        "ax4.set_title('Imperatriz', weight='bold', size=15)\n",
        "ax4.legend(legenda1, title='Resultado', bbox_to_anchor=(1, 0))\n",
        "\n",
        "plt.show()"
      ],
      "execution_count": 45,
      "outputs": [
        {
          "output_type": "display_data",
          "data": {
            "image/png": "[encoded data removed]",
            "text/plain": [
              "<Figure size 1440x432 with 4 Axes>"
            ]
          },
          "metadata": {
            "tags": []
          }
        }
      ]
    },
    {
      "cell_type": "code",
      "metadata": {
        "colab": {
          "base_uri": "https://localhost:8080/",
          "height": 443
        },
        "id": "qLLmGU-8zI_-",
        "outputId": "effabecc-9c8d-466b-fef4-235533021c41"
      },
      "source": [
        "#---------Profissionais da saúde que testaram positivo a COVID-19---------\n",
        "cores = ['#B0E0E6', '#FF7F50']\n",
        "ma = (result_ma['Positivo'], tpi_ma['Positivo'])\n",
        "slz = (result_slz['Positivo'], tpi_slz['Positivo'])\n",
        "acai = (result_acai['Positivo'], tpi_acai['Positivo'])\n",
        "itz = (result_itz['Positivo'], tpi_itz['Positivo'])\n",
        "legenda = ('Não profissional', 'Profissional da saúde')\n",
        "\n",
        "fig,(ax1, ax2, ax3, ax4)= plt.subplots(1,4, figsize = (22,7))\n",
        "plt.suptitle('Profissionais da saúde que testaram positivo a COVID-19 no estado do Maranhão', weight='bold', size=22)\n",
        "ax1.pie(ma, labels=ma, autopct='%1.1f%%', shadow=True, explode=(0.1,0.1), colors=cores)\n",
        "ax1.set_title('Todo o estado', weight='bold', size=15)\n",
        "ax1.legend(legenda, bbox_to_anchor=(1, 0))\n",
        "\n",
        "ax2.pie(slz, labels=slz, autopct='%1.1f%%', shadow=True, explode=(0,0.1), colors=cores)\n",
        "ax2.set_title('São Luís', weight='bold', size=15)\n",
        "ax2.legend(legenda, bbox_to_anchor=(1, 0))\n",
        "\n",
        "ax3.pie(acai, labels=acai, autopct='%1.1f%%', shadow=True, explode=(0.2,0.2), colors=cores)\n",
        "ax3.set_title('Açailândia', weight='bold', size=15)\n",
        "ax3.legend(legenda, bbox_to_anchor=(1, 0))\n",
        "\n",
        "ax4.pie(itz, labels=itz, autopct='%1.1f%%', shadow=True, explode=(0.1,0.1), colors=cores)\n",
        "ax4.set_title('Imperatriz', weight='bold', size=15)\n",
        "ax4.legend(legenda, bbox_to_anchor=(1, 0))\n",
        "\n",
        "plt.show()"
      ],
      "execution_count": 107,
      "outputs": [
        {
          "output_type": "display_data",
          "data": {
            "image/png": "[encoded data removed]",
            "text/plain": [
              "<Figure size 1584x504 with 4 Axes>"
            ]
          },
          "metadata": {
            "tags": []
          }
        }
      ]
    },
    {
      "cell_type": "code",
      "metadata": {
        "colab": {
          "base_uri": "https://localhost:8080/",
          "height": 557
        },
        "id": "Co0Kcskop-4m",
        "outputId": "091f695a-246a-41e9-f9b8-d86250ddc2a5"
      },
      "source": [
        "#---------Sexo das pessoa que testaram positivo a COVID-19---------\n",
        "cores = ['#CD5C5C', '#F08080', '#FF0000']\n",
        "\n",
        "fig,(ax1, ax2, ax3, ax4)= plt.subplots(1,4, figsize = (22,8))\n",
        "\n",
        "plt.suptitle('Sexo das pessoas que testaram positivo a COVID-19 no estado do Maranhão', weight='bold', size=22)\n",
        "ax1.bar(positivos_sexo_ma.index, positivos_sexo_ma.values, color=cores)\n",
        "ax1.set_title('Todo o estado', weight='bold', size=15)\n",
        "\n",
        "ax2.bar(positivos_sexo_slz.index, positivos_sexo_slz.values, color=cores)\n",
        "ax2.set_title('São Luís', weight='bold', size=15)\n",
        "\n",
        "ax3.bar(positivos_sexo_acai.index, positivos_sexo_acai.values, color=cores)\n",
        "ax3.set_title('Açailândia', weight='bold', size=15)\n",
        "\n",
        "ax4.bar(positivos_sexo_itz.index, positivos_sexo_itz.values, color=cores)\n",
        "ax4.set_title('Imperatriz', weight='bold', size=15)\n"
      ],
      "execution_count": 124,
      "outputs": [
        {
          "output_type": "execute_result",
          "data": {
            "text/plain": [
              "Text(0.5, 1.0, 'Imperatriz')"
            ]
          },
          "metadata": {
            "tags": []
          },
          "execution_count": 124
        },
        {
          "output_type": "display_data",
          "data": {
            "image/png": "[encoded data removed]",
            "text/plain": [
              "<Figure size 1584x576 with 4 Axes>"
            ]
          },
          "metadata": {
            "tags": [],
            "needs_background": "light"
          }
        }
      ]
    }
  ]
}