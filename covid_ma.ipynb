{
  "nbformat": 4,
  "nbformat_minor": 0,
  "metadata": {
    "colab": {
      "name": "covid_ma.ipynb",
      "provenance": [],
      "collapsed_sections": [],
      "authorship_tag": "ABX9TyNyGiHCZyiBYoAVCjZgLvQ+",
      "include_colab_link": true
    },
    "kernelspec": {
      "name": "python3",
      "display_name": "Python 3"
    },
    "language_info": {
      "name": "python"
    }
  },
  "cells": [
    {
      "cell_type": "markdown",
      "metadata": {
        "id": "view-in-github",
        "colab_type": "text"
      },
      "source": [
        "<a href=\"https://colab.research.google.com/github/cecellhax/analises_covid19/blob/main/covid_ma.ipynb\" target=\"_parent\"><img src=\"https://colab.research.google.com/assets/colab-badge.svg\" alt=\"Open In Colab\"/></a>"
      ]
    },
    {
      "cell_type": "markdown",
      "metadata": {
        "id": "raJTNfmx6VLc"
      },
      "source": [
        "# **Anális dos dados da COVID-19 no estado do Maranhão**\n",
        "\n",
        "\n",
        "# **1.   Testes realizados**\n",
        "\n"
      ]
    },
    {
      "cell_type": "code",
      "metadata": {
        "id": "x1FCOqE_V13b"
      },
      "source": [
        "import pandas as pd\n",
        "import matplotlib.pyplot as plt"
      ],
      "execution_count": 2,
      "outputs": []
    },
    {
      "cell_type": "code",
      "metadata": {
        "id": "cZPM4QPsYBh7"
      },
      "source": [
        "covid_ma = pd.read_csv('https://s3-sa-east-1.amazonaws.com/ckan.saude.gov.br/dados-ma.csv', encoding='latin1', sep=';')"
      ],
      "execution_count": 3,
      "outputs": []
    },
    {
      "cell_type": "code",
      "metadata": {
        "colab": {
          "base_uri": "https://localhost:8080/",
          "height": 417
        },
        "id": "-Gj5gdtPfE3Q",
        "outputId": "f002a746-404d-44fb-c9b6-2097a5953466"
      },
      "source": [
        "covid_ma.head()"
      ],
      "execution_count": 4,
      "outputs": [
        {
          "output_type": "execute_result",
          "data": {
            "text/html": [
              "<div>\n",
              "<style scoped>\n",
              "    .dataframe tbody tr th:only-of-type {\n",
              "        vertical-align: middle;\n",
              "    }\n",
              "\n",
              "    .dataframe tbody tr th {\n",
              "        vertical-align: top;\n",
              "    }\n",
              "\n",
              "    .dataframe thead th {\n",
              "        text-align: right;\n",
              "    }\n",
              "</style>\n",
              "<table border=\"1\" class=\"dataframe\">\n",
              "  <thead>\n",
              "    <tr style=\"text-align: right;\">\n",
              "      <th></th>\n",
              "      <th>ÿid</th>\n",
              "      <th>dataNotificacao</th>\n",
              "      <th>dataInicioSintomas</th>\n",
              "      <th>dataNascimento</th>\n",
              "      <th>sintomas</th>\n",
              "      <th>profissionalSaude</th>\n",
              "      <th>cbo</th>\n",
              "      <th>condicoes</th>\n",
              "      <th>estadoTeste</th>\n",
              "      <th>dataTeste</th>\n",
              "      <th>tipoTeste</th>\n",
              "      <th>resultadoTeste</th>\n",
              "      <th>paisOrigem</th>\n",
              "      <th>sexo</th>\n",
              "      <th>estado</th>\n",
              "      <th>estadoIBGE</th>\n",
              "      <th>municipio</th>\n",
              "      <th>municipioIBGE</th>\n",
              "      <th>origem</th>\n",
              "      <th>estadoNotificacao</th>\n",
              "      <th>estadoNotificacaoIBGE</th>\n",
              "      <th>municipioNotificacao</th>\n",
              "      <th>municipioNotificacaoIBGE</th>\n",
              "      <th>excluido</th>\n",
              "      <th>validado</th>\n",
              "      <th>idade</th>\n",
              "      <th>dataEncerramento</th>\n",
              "      <th>evolucaoCaso</th>\n",
              "      <th>classificacaoFinal</th>\n",
              "    </tr>\n",
              "  </thead>\n",
              "  <tbody>\n",
              "    <tr>\n",
              "      <th>0</th>\n",
              "      <td>AbEVo5S4nX</td>\n",
              "      <td>2020-03-30T03:00:00.000Z</td>\n",
              "      <td>2020-03-29T03:00:00.000Z</td>\n",
              "      <td>undefined</td>\n",
              "      <td>Tosse</td>\n",
              "      <td>Sim</td>\n",
              "      <td>2235 - Enfermeiro</td>\n",
              "      <td>NaN</td>\n",
              "      <td>Coletado</td>\n",
              "      <td>2020-03-30T03:00:00.000Z</td>\n",
              "      <td>NaN</td>\n",
              "      <td>NaN</td>\n",
              "      <td>undefined</td>\n",
              "      <td>Masculino</td>\n",
              "      <td>MARANHÃO</td>\n",
              "      <td>21</td>\n",
              "      <td>São Luís</td>\n",
              "      <td>2111300.0</td>\n",
              "      <td>undefined</td>\n",
              "      <td>MARANHÃO</td>\n",
              "      <td>21.0</td>\n",
              "      <td>São Luís</td>\n",
              "      <td>2111300.0</td>\n",
              "      <td>undefined</td>\n",
              "      <td>undefined</td>\n",
              "      <td>55.0</td>\n",
              "      <td>NaN</td>\n",
              "      <td>NaN</td>\n",
              "      <td>NaN</td>\n",
              "    </tr>\n",
              "    <tr>\n",
              "      <th>1</th>\n",
              "      <td>ozHhVSzSdq</td>\n",
              "      <td>2020-04-06T13:17:27.512Z</td>\n",
              "      <td>2020-03-22T03:00:00.000Z</td>\n",
              "      <td>undefined</td>\n",
              "      <td>Febre, Tosse, Dispneia, Outros</td>\n",
              "      <td>Não</td>\n",
              "      <td>NaN</td>\n",
              "      <td>NaN</td>\n",
              "      <td>Coletado</td>\n",
              "      <td>2020-04-06T03:00:00.000Z</td>\n",
              "      <td>NaN</td>\n",
              "      <td>NaN</td>\n",
              "      <td>undefined</td>\n",
              "      <td>Masculino</td>\n",
              "      <td>MARANHÃO</td>\n",
              "      <td>21</td>\n",
              "      <td>Imperatriz</td>\n",
              "      <td>2105302.0</td>\n",
              "      <td>undefined</td>\n",
              "      <td>MARANHÃO</td>\n",
              "      <td>21.0</td>\n",
              "      <td>Imperatriz</td>\n",
              "      <td>2105302.0</td>\n",
              "      <td>undefined</td>\n",
              "      <td>undefined</td>\n",
              "      <td>47.0</td>\n",
              "      <td>NaN</td>\n",
              "      <td>NaN</td>\n",
              "      <td>NaN</td>\n",
              "    </tr>\n",
              "    <tr>\n",
              "      <th>2</th>\n",
              "      <td>6KJS2Qdpq2</td>\n",
              "      <td>2020-04-01T03:00:00.000Z</td>\n",
              "      <td>2020-03-26T03:00:00.000Z</td>\n",
              "      <td>undefined</td>\n",
              "      <td>Dor de Garganta, Dispneia, Febre, Tosse</td>\n",
              "      <td>Sim</td>\n",
              "      <td>2235 - Enfermeiro</td>\n",
              "      <td>NaN</td>\n",
              "      <td>Coletado</td>\n",
              "      <td>2020-04-02T03:00:00.000Z</td>\n",
              "      <td>NaN</td>\n",
              "      <td>NaN</td>\n",
              "      <td>undefined</td>\n",
              "      <td>Feminino</td>\n",
              "      <td>MARANHÃO</td>\n",
              "      <td>21</td>\n",
              "      <td>São Luís</td>\n",
              "      <td>2111300.0</td>\n",
              "      <td>undefined</td>\n",
              "      <td>MARANHÃO</td>\n",
              "      <td>21.0</td>\n",
              "      <td>São Luís</td>\n",
              "      <td>2111300.0</td>\n",
              "      <td>undefined</td>\n",
              "      <td>undefined</td>\n",
              "      <td>37.0</td>\n",
              "      <td>NaN</td>\n",
              "      <td>NaN</td>\n",
              "      <td>NaN</td>\n",
              "    </tr>\n",
              "    <tr>\n",
              "      <th>3</th>\n",
              "      <td>SXtw57busW</td>\n",
              "      <td>2020-04-01T03:00:00.000Z</td>\n",
              "      <td>2020-03-31T03:00:00.000Z</td>\n",
              "      <td>undefined</td>\n",
              "      <td>Dispneia, Tosse</td>\n",
              "      <td>Não</td>\n",
              "      <td>NaN</td>\n",
              "      <td>NaN</td>\n",
              "      <td>Coletado</td>\n",
              "      <td>2020-04-01T03:00:00.000Z</td>\n",
              "      <td>NaN</td>\n",
              "      <td>NaN</td>\n",
              "      <td>undefined</td>\n",
              "      <td>Feminino</td>\n",
              "      <td>MARANHÃO</td>\n",
              "      <td>21</td>\n",
              "      <td>São José de Ribamar</td>\n",
              "      <td>2111201.0</td>\n",
              "      <td>undefined</td>\n",
              "      <td>MARANHÃO</td>\n",
              "      <td>21.0</td>\n",
              "      <td>São Luís</td>\n",
              "      <td>2111300.0</td>\n",
              "      <td>undefined</td>\n",
              "      <td>undefined</td>\n",
              "      <td>33.0</td>\n",
              "      <td>NaN</td>\n",
              "      <td>NaN</td>\n",
              "      <td>NaN</td>\n",
              "    </tr>\n",
              "    <tr>\n",
              "      <th>4</th>\n",
              "      <td>NgKU8QKx0X</td>\n",
              "      <td>2020-04-06T07:23:33.348Z</td>\n",
              "      <td>2020-04-04T04:00:00.000Z</td>\n",
              "      <td>undefined</td>\n",
              "      <td>Tosse, Outros</td>\n",
              "      <td>Não</td>\n",
              "      <td>NaN</td>\n",
              "      <td>NaN</td>\n",
              "      <td>NaN</td>\n",
              "      <td>NaN</td>\n",
              "      <td>NaN</td>\n",
              "      <td>NaN</td>\n",
              "      <td>undefined</td>\n",
              "      <td>Masculino</td>\n",
              "      <td>MARANHÃO</td>\n",
              "      <td>21</td>\n",
              "      <td>São Luís</td>\n",
              "      <td>2111300.0</td>\n",
              "      <td>undefined</td>\n",
              "      <td>MARANHÃO</td>\n",
              "      <td>21.0</td>\n",
              "      <td>São Luís</td>\n",
              "      <td>2111300.0</td>\n",
              "      <td>undefined</td>\n",
              "      <td>undefined</td>\n",
              "      <td>56.0</td>\n",
              "      <td>NaN</td>\n",
              "      <td>NaN</td>\n",
              "      <td>NaN</td>\n",
              "    </tr>\n",
              "  </tbody>\n",
              "</table>\n",
              "</div>"
            ],
            "text/plain": [
              "          ÿid           dataNotificacao  ... evolucaoCaso classificacaoFinal\n",
              "0  AbEVo5S4nX  2020-03-30T03:00:00.000Z  ...          NaN                NaN\n",
              "1  ozHhVSzSdq  2020-04-06T13:17:27.512Z  ...          NaN                NaN\n",
              "2  6KJS2Qdpq2  2020-04-01T03:00:00.000Z  ...          NaN                NaN\n",
              "3  SXtw57busW  2020-04-01T03:00:00.000Z  ...          NaN                NaN\n",
              "4  NgKU8QKx0X  2020-04-06T07:23:33.348Z  ...          NaN                NaN\n",
              "\n",
              "[5 rows x 29 columns]"
            ]
          },
          "metadata": {
            "tags": []
          },
          "execution_count": 4
        }
      ]
    },
    {
      "cell_type": "code",
      "metadata": {
        "id": "IAxn_DcZf8GF"
      },
      "source": [
        "testes_ma = covid_ma.value_counts('resultadoTeste').sum()"
      ],
      "execution_count": 7,
      "outputs": []
    },
    {
      "cell_type": "code",
      "metadata": {
        "colab": {
          "base_uri": "https://localhost:8080/"
        },
        "id": "CZrSiQEceA9G",
        "outputId": "8965fa13-34a6-4052-a5dd-941ee7997e60"
      },
      "source": [
        "testes_ma"
      ],
      "execution_count": 136,
      "outputs": [
        {
          "output_type": "execute_result",
          "data": {
            "text/plain": [
              "565226"
            ]
          },
          "metadata": {
            "tags": []
          },
          "execution_count": 136
        }
      ]
    },
    {
      "cell_type": "code",
      "metadata": {
        "colab": {
          "base_uri": "https://localhost:8080/"
        },
        "id": "7wxgNKsSmiKg",
        "outputId": "5db11d2c-45d5-4d8b-c139-2cfe6e6c7ddd"
      },
      "source": [
        "covid_ma.value_counts('resultadoTeste')"
      ],
      "execution_count": 8,
      "outputs": [
        {
          "output_type": "execute_result",
          "data": {
            "text/plain": [
              "resultadoTeste\n",
              "Negativo                         309993\n",
              "Positivo                         254967\n",
              "Inconclusivo ou Indeterminado       266\n",
              "dtype: int64"
            ]
          },
          "metadata": {
            "tags": []
          },
          "execution_count": 8
        }
      ]
    },
    {
      "cell_type": "code",
      "metadata": {
        "id": "VmdF2-Ajfw8m"
      },
      "source": [
        "result_ma = covid_ma.value_counts('resultadoTeste')"
      ],
      "execution_count": 9,
      "outputs": []
    },
    {
      "cell_type": "code",
      "metadata": {
        "id": "ykaSMIWsnydR"
      },
      "source": [
        "result_ma = result_ma.drop('Inconclusivo ou Indeterminado')"
      ],
      "execution_count": 93,
      "outputs": []
    },
    {
      "cell_type": "code",
      "metadata": {
        "colab": {
          "base_uri": "https://localhost:8080/"
        },
        "id": "T0QN0DtFn2Ib",
        "outputId": "80091b2a-965b-41dc-85f8-c553fcd612c9"
      },
      "source": [
        "result_ma"
      ],
      "execution_count": 94,
      "outputs": [
        {
          "output_type": "execute_result",
          "data": {
            "text/plain": [
              "resultadoTeste\n",
              "Negativo    309993\n",
              "Positivo    254967\n",
              "dtype: int64"
            ]
          },
          "metadata": {
            "tags": []
          },
          "execution_count": 94
        }
      ]
    },
    {
      "cell_type": "markdown",
      "metadata": {
        "id": "HdbC9YrCvGub"
      },
      "source": [
        "**Profissionais da saú de infectados**"
      ]
    },
    {
      "cell_type": "code",
      "metadata": {
        "id": "PbaB8BI4vEG8"
      },
      "source": [
        "pi_ma = covid_ma.query('profissionalSaude == \"Sim\" & resultadoTeste == \"Positivo\"')"
      ],
      "execution_count": 122,
      "outputs": []
    },
    {
      "cell_type": "code",
      "metadata": {
        "id": "IKrG7CwbvlFU"
      },
      "source": [
        "tpi_ma = pi_ma.value_counts('resultadoTeste')"
      ],
      "execution_count": 123,
      "outputs": []
    },
    {
      "cell_type": "code",
      "metadata": {
        "colab": {
          "base_uri": "https://localhost:8080/"
        },
        "id": "SiHjsW2BwHEi",
        "outputId": "2ff2e22c-62fa-4ca5-d2cd-6f436a4ee7db"
      },
      "source": [
        "tpi_ma"
      ],
      "execution_count": 124,
      "outputs": [
        {
          "output_type": "execute_result",
          "data": {
            "text/plain": [
              "resultadoTeste\n",
              "Positivo    10615\n",
              "dtype: int64"
            ]
          },
          "metadata": {
            "tags": []
          },
          "execution_count": 124
        }
      ]
    },
    {
      "cell_type": "markdown",
      "metadata": {
        "id": "XGAdvBbTdLOF"
      },
      "source": [
        "# **São Luís**"
      ]
    },
    {
      "cell_type": "code",
      "metadata": {
        "id": "RPOooPgYdH6k"
      },
      "source": [
        "covid_slz = covid_ma.query('municipio == \"São Luís\"')"
      ],
      "execution_count": 10,
      "outputs": []
    },
    {
      "cell_type": "code",
      "metadata": {
        "colab": {
          "base_uri": "https://localhost:8080/",
          "height": 417
        },
        "id": "SoGCsPCGdVpp",
        "outputId": "cc652d89-1dd1-4549-bc6f-48ce5e7a7fbb"
      },
      "source": [
        "covid_slz.head()"
      ],
      "execution_count": 11,
      "outputs": [
        {
          "output_type": "execute_result",
          "data": {
            "text/html": [
              "<div>\n",
              "<style scoped>\n",
              "    .dataframe tbody tr th:only-of-type {\n",
              "        vertical-align: middle;\n",
              "    }\n",
              "\n",
              "    .dataframe tbody tr th {\n",
              "        vertical-align: top;\n",
              "    }\n",
              "\n",
              "    .dataframe thead th {\n",
              "        text-align: right;\n",
              "    }\n",
              "</style>\n",
              "<table border=\"1\" class=\"dataframe\">\n",
              "  <thead>\n",
              "    <tr style=\"text-align: right;\">\n",
              "      <th></th>\n",
              "      <th>ÿid</th>\n",
              "      <th>dataNotificacao</th>\n",
              "      <th>dataInicioSintomas</th>\n",
              "      <th>dataNascimento</th>\n",
              "      <th>sintomas</th>\n",
              "      <th>profissionalSaude</th>\n",
              "      <th>cbo</th>\n",
              "      <th>condicoes</th>\n",
              "      <th>estadoTeste</th>\n",
              "      <th>dataTeste</th>\n",
              "      <th>tipoTeste</th>\n",
              "      <th>resultadoTeste</th>\n",
              "      <th>paisOrigem</th>\n",
              "      <th>sexo</th>\n",
              "      <th>estado</th>\n",
              "      <th>estadoIBGE</th>\n",
              "      <th>municipio</th>\n",
              "      <th>municipioIBGE</th>\n",
              "      <th>origem</th>\n",
              "      <th>estadoNotificacao</th>\n",
              "      <th>estadoNotificacaoIBGE</th>\n",
              "      <th>municipioNotificacao</th>\n",
              "      <th>municipioNotificacaoIBGE</th>\n",
              "      <th>excluido</th>\n",
              "      <th>validado</th>\n",
              "      <th>idade</th>\n",
              "      <th>dataEncerramento</th>\n",
              "      <th>evolucaoCaso</th>\n",
              "      <th>classificacaoFinal</th>\n",
              "    </tr>\n",
              "  </thead>\n",
              "  <tbody>\n",
              "    <tr>\n",
              "      <th>0</th>\n",
              "      <td>AbEVo5S4nX</td>\n",
              "      <td>2020-03-30T03:00:00.000Z</td>\n",
              "      <td>2020-03-29T03:00:00.000Z</td>\n",
              "      <td>undefined</td>\n",
              "      <td>Tosse</td>\n",
              "      <td>Sim</td>\n",
              "      <td>2235 - Enfermeiro</td>\n",
              "      <td>NaN</td>\n",
              "      <td>Coletado</td>\n",
              "      <td>2020-03-30T03:00:00.000Z</td>\n",
              "      <td>NaN</td>\n",
              "      <td>NaN</td>\n",
              "      <td>undefined</td>\n",
              "      <td>Masculino</td>\n",
              "      <td>MARANHÃO</td>\n",
              "      <td>21</td>\n",
              "      <td>São Luís</td>\n",
              "      <td>2111300.0</td>\n",
              "      <td>undefined</td>\n",
              "      <td>MARANHÃO</td>\n",
              "      <td>21.0</td>\n",
              "      <td>São Luís</td>\n",
              "      <td>2111300.0</td>\n",
              "      <td>undefined</td>\n",
              "      <td>undefined</td>\n",
              "      <td>55.0</td>\n",
              "      <td>NaN</td>\n",
              "      <td>NaN</td>\n",
              "      <td>NaN</td>\n",
              "    </tr>\n",
              "    <tr>\n",
              "      <th>2</th>\n",
              "      <td>6KJS2Qdpq2</td>\n",
              "      <td>2020-04-01T03:00:00.000Z</td>\n",
              "      <td>2020-03-26T03:00:00.000Z</td>\n",
              "      <td>undefined</td>\n",
              "      <td>Dor de Garganta, Dispneia, Febre, Tosse</td>\n",
              "      <td>Sim</td>\n",
              "      <td>2235 - Enfermeiro</td>\n",
              "      <td>NaN</td>\n",
              "      <td>Coletado</td>\n",
              "      <td>2020-04-02T03:00:00.000Z</td>\n",
              "      <td>NaN</td>\n",
              "      <td>NaN</td>\n",
              "      <td>undefined</td>\n",
              "      <td>Feminino</td>\n",
              "      <td>MARANHÃO</td>\n",
              "      <td>21</td>\n",
              "      <td>São Luís</td>\n",
              "      <td>2111300.0</td>\n",
              "      <td>undefined</td>\n",
              "      <td>MARANHÃO</td>\n",
              "      <td>21.0</td>\n",
              "      <td>São Luís</td>\n",
              "      <td>2111300.0</td>\n",
              "      <td>undefined</td>\n",
              "      <td>undefined</td>\n",
              "      <td>37.0</td>\n",
              "      <td>NaN</td>\n",
              "      <td>NaN</td>\n",
              "      <td>NaN</td>\n",
              "    </tr>\n",
              "    <tr>\n",
              "      <th>4</th>\n",
              "      <td>NgKU8QKx0X</td>\n",
              "      <td>2020-04-06T07:23:33.348Z</td>\n",
              "      <td>2020-04-04T04:00:00.000Z</td>\n",
              "      <td>undefined</td>\n",
              "      <td>Tosse, Outros</td>\n",
              "      <td>Não</td>\n",
              "      <td>NaN</td>\n",
              "      <td>NaN</td>\n",
              "      <td>NaN</td>\n",
              "      <td>NaN</td>\n",
              "      <td>NaN</td>\n",
              "      <td>NaN</td>\n",
              "      <td>undefined</td>\n",
              "      <td>Masculino</td>\n",
              "      <td>MARANHÃO</td>\n",
              "      <td>21</td>\n",
              "      <td>São Luís</td>\n",
              "      <td>2111300.0</td>\n",
              "      <td>undefined</td>\n",
              "      <td>MARANHÃO</td>\n",
              "      <td>21.0</td>\n",
              "      <td>São Luís</td>\n",
              "      <td>2111300.0</td>\n",
              "      <td>undefined</td>\n",
              "      <td>undefined</td>\n",
              "      <td>56.0</td>\n",
              "      <td>NaN</td>\n",
              "      <td>NaN</td>\n",
              "      <td>NaN</td>\n",
              "    </tr>\n",
              "    <tr>\n",
              "      <th>5</th>\n",
              "      <td>Y5rlV9HJRa</td>\n",
              "      <td>2020-04-06T13:31:04.344Z</td>\n",
              "      <td>2020-03-03T03:00:00.000Z</td>\n",
              "      <td>undefined</td>\n",
              "      <td>Dor de Garganta, Dispneia, Febre, Tosse, Outros</td>\n",
              "      <td>Sim</td>\n",
              "      <td>3222 - Técnico ou Auxiliar em Enfermagem</td>\n",
              "      <td>NaN</td>\n",
              "      <td>Coletado</td>\n",
              "      <td>2020-04-06T03:00:00.000Z</td>\n",
              "      <td>NaN</td>\n",
              "      <td>NaN</td>\n",
              "      <td>undefined</td>\n",
              "      <td>Masculino</td>\n",
              "      <td>MARANHÃO</td>\n",
              "      <td>21</td>\n",
              "      <td>São Luís</td>\n",
              "      <td>2111300.0</td>\n",
              "      <td>undefined</td>\n",
              "      <td>MARANHÃO</td>\n",
              "      <td>21.0</td>\n",
              "      <td>São Luís</td>\n",
              "      <td>2111300.0</td>\n",
              "      <td>undefined</td>\n",
              "      <td>undefined</td>\n",
              "      <td>33.0</td>\n",
              "      <td>NaN</td>\n",
              "      <td>NaN</td>\n",
              "      <td>NaN</td>\n",
              "    </tr>\n",
              "    <tr>\n",
              "      <th>6</th>\n",
              "      <td>SepJKM9O3F</td>\n",
              "      <td>2020-04-06T13:17:10.116Z</td>\n",
              "      <td>2020-03-29T03:00:00.000Z</td>\n",
              "      <td>undefined</td>\n",
              "      <td>Tosse</td>\n",
              "      <td>Não</td>\n",
              "      <td>NaN</td>\n",
              "      <td>NaN</td>\n",
              "      <td>Coletado</td>\n",
              "      <td>2020-04-01T03:00:00.000Z</td>\n",
              "      <td>NaN</td>\n",
              "      <td>NaN</td>\n",
              "      <td>undefined</td>\n",
              "      <td>Feminino</td>\n",
              "      <td>MARANHÃO</td>\n",
              "      <td>21</td>\n",
              "      <td>São Luís</td>\n",
              "      <td>2111300.0</td>\n",
              "      <td>undefined</td>\n",
              "      <td>MARANHÃO</td>\n",
              "      <td>21.0</td>\n",
              "      <td>São Luís</td>\n",
              "      <td>2111300.0</td>\n",
              "      <td>undefined</td>\n",
              "      <td>undefined</td>\n",
              "      <td>63.0</td>\n",
              "      <td>NaN</td>\n",
              "      <td>NaN</td>\n",
              "      <td>NaN</td>\n",
              "    </tr>\n",
              "  </tbody>\n",
              "</table>\n",
              "</div>"
            ],
            "text/plain": [
              "          ÿid           dataNotificacao  ... evolucaoCaso classificacaoFinal\n",
              "0  AbEVo5S4nX  2020-03-30T03:00:00.000Z  ...          NaN                NaN\n",
              "2  6KJS2Qdpq2  2020-04-01T03:00:00.000Z  ...          NaN                NaN\n",
              "4  NgKU8QKx0X  2020-04-06T07:23:33.348Z  ...          NaN                NaN\n",
              "5  Y5rlV9HJRa  2020-04-06T13:31:04.344Z  ...          NaN                NaN\n",
              "6  SepJKM9O3F  2020-04-06T13:17:10.116Z  ...          NaN                NaN\n",
              "\n",
              "[5 rows x 29 columns]"
            ]
          },
          "metadata": {
            "tags": []
          },
          "execution_count": 11
        }
      ]
    },
    {
      "cell_type": "code",
      "metadata": {
        "id": "jFZnefKqgPWv"
      },
      "source": [
        "testes_slz = covid_slz.value_counts('resultadoTeste').sum()"
      ],
      "execution_count": 13,
      "outputs": []
    },
    {
      "cell_type": "code",
      "metadata": {
        "colab": {
          "base_uri": "https://localhost:8080/"
        },
        "id": "4sBT3-LwdtDo",
        "outputId": "83c2f204-b97c-45d3-e90b-9a0d38502a4f"
      },
      "source": [
        "testes_slz"
      ],
      "execution_count": 135,
      "outputs": [
        {
          "output_type": "execute_result",
          "data": {
            "text/plain": [
              "86384"
            ]
          },
          "metadata": {
            "tags": []
          },
          "execution_count": 135
        }
      ]
    },
    {
      "cell_type": "code",
      "metadata": {
        "colab": {
          "base_uri": "https://localhost:8080/"
        },
        "id": "BSEJfu72d4xd",
        "outputId": "7a1eaf30-4f9d-4d37-9b7d-ff30625254bc"
      },
      "source": [
        "covid_slz.value_counts('resultadoTeste')"
      ],
      "execution_count": 14,
      "outputs": [
        {
          "output_type": "execute_result",
          "data": {
            "text/plain": [
              "resultadoTeste\n",
              "Negativo                         58267\n",
              "Positivo                         28097\n",
              "Inconclusivo ou Indeterminado       20\n",
              "dtype: int64"
            ]
          },
          "metadata": {
            "tags": []
          },
          "execution_count": 14
        }
      ]
    },
    {
      "cell_type": "code",
      "metadata": {
        "id": "hCoH_M0QgT2q"
      },
      "source": [
        "result_slz = covid_slz.value_counts('resultadoTeste')"
      ],
      "execution_count": 90,
      "outputs": []
    },
    {
      "cell_type": "code",
      "metadata": {
        "id": "h6HaWGdYnmzV"
      },
      "source": [
        "result_slz = result_slz.drop('Inconclusivo ou Indeterminado')"
      ],
      "execution_count": 91,
      "outputs": []
    },
    {
      "cell_type": "code",
      "metadata": {
        "colab": {
          "base_uri": "https://localhost:8080/"
        },
        "id": "uI54DVNWnq7L",
        "outputId": "ced1ff5e-06c9-4ca6-e817-77fba7c37efe"
      },
      "source": [
        "result_slz"
      ],
      "execution_count": 92,
      "outputs": [
        {
          "output_type": "execute_result",
          "data": {
            "text/plain": [
              "resultadoTeste\n",
              "Negativo    58267\n",
              "Positivo    28097\n",
              "dtype: int64"
            ]
          },
          "metadata": {
            "tags": []
          },
          "execution_count": 92
        }
      ]
    },
    {
      "cell_type": "markdown",
      "metadata": {
        "id": "vXrtvLujwkgR"
      },
      "source": [
        "**Profissionais da saúde infectado em São Luís**"
      ]
    },
    {
      "cell_type": "code",
      "metadata": {
        "id": "IE0McIHNwcQ6"
      },
      "source": [
        "pi_slz = covid_slz.query('profissionalSaude == \"Sim\" & resultadoTeste == \"Positivo\"')"
      ],
      "execution_count": 126,
      "outputs": []
    },
    {
      "cell_type": "code",
      "metadata": {
        "id": "xDr5y1iuw17F"
      },
      "source": [
        "tpi_slz = pi_slz.value_counts('resultadoTeste')"
      ],
      "execution_count": 128,
      "outputs": []
    },
    {
      "cell_type": "code",
      "metadata": {
        "colab": {
          "base_uri": "https://localhost:8080/"
        },
        "id": "hMQxJumCw6PN",
        "outputId": "2a671dce-dcf1-49ab-ddb4-c250b0966e8d"
      },
      "source": [
        "tpi_slz"
      ],
      "execution_count": 129,
      "outputs": [
        {
          "output_type": "execute_result",
          "data": {
            "text/plain": [
              "resultadoTeste\n",
              "Positivo    2786\n",
              "dtype: int64"
            ]
          },
          "metadata": {
            "tags": []
          },
          "execution_count": 129
        }
      ]
    },
    {
      "cell_type": "markdown",
      "metadata": {
        "id": "EL5T97vSc8YQ"
      },
      "source": [
        "# **Açailândia**"
      ]
    },
    {
      "cell_type": "code",
      "metadata": {
        "id": "ufE-nWrKo996"
      },
      "source": [
        "covid_acai = covid_ma.query('municipio == \"Açailândia\"')"
      ],
      "execution_count": 16,
      "outputs": []
    },
    {
      "cell_type": "code",
      "metadata": {
        "colab": {
          "base_uri": "https://localhost:8080/",
          "height": 382
        },
        "id": "uljSMdvApGF3",
        "outputId": "ec034f71-3958-473b-faad-ba975fe630d8"
      },
      "source": [
        "covid_acai.head()"
      ],
      "execution_count": 17,
      "outputs": [
        {
          "output_type": "execute_result",
          "data": {
            "text/html": [
              "<div>\n",
              "<style scoped>\n",
              "    .dataframe tbody tr th:only-of-type {\n",
              "        vertical-align: middle;\n",
              "    }\n",
              "\n",
              "    .dataframe tbody tr th {\n",
              "        vertical-align: top;\n",
              "    }\n",
              "\n",
              "    .dataframe thead th {\n",
              "        text-align: right;\n",
              "    }\n",
              "</style>\n",
              "<table border=\"1\" class=\"dataframe\">\n",
              "  <thead>\n",
              "    <tr style=\"text-align: right;\">\n",
              "      <th></th>\n",
              "      <th>ÿid</th>\n",
              "      <th>dataNotificacao</th>\n",
              "      <th>dataInicioSintomas</th>\n",
              "      <th>dataNascimento</th>\n",
              "      <th>sintomas</th>\n",
              "      <th>profissionalSaude</th>\n",
              "      <th>cbo</th>\n",
              "      <th>condicoes</th>\n",
              "      <th>estadoTeste</th>\n",
              "      <th>dataTeste</th>\n",
              "      <th>tipoTeste</th>\n",
              "      <th>resultadoTeste</th>\n",
              "      <th>paisOrigem</th>\n",
              "      <th>sexo</th>\n",
              "      <th>estado</th>\n",
              "      <th>estadoIBGE</th>\n",
              "      <th>municipio</th>\n",
              "      <th>municipioIBGE</th>\n",
              "      <th>origem</th>\n",
              "      <th>estadoNotificacao</th>\n",
              "      <th>estadoNotificacaoIBGE</th>\n",
              "      <th>municipioNotificacao</th>\n",
              "      <th>municipioNotificacaoIBGE</th>\n",
              "      <th>excluido</th>\n",
              "      <th>validado</th>\n",
              "      <th>idade</th>\n",
              "      <th>dataEncerramento</th>\n",
              "      <th>evolucaoCaso</th>\n",
              "      <th>classificacaoFinal</th>\n",
              "    </tr>\n",
              "  </thead>\n",
              "  <tbody>\n",
              "    <tr>\n",
              "      <th>72</th>\n",
              "      <td>HSeQP58XwJ</td>\n",
              "      <td>2020-04-05T03:00:00.000Z</td>\n",
              "      <td>2020-03-13T03:00:00.000Z</td>\n",
              "      <td>undefined</td>\n",
              "      <td>Dor de Garganta, Dispneia, Tosse</td>\n",
              "      <td>Não</td>\n",
              "      <td>NaN</td>\n",
              "      <td>Doenças cardíacas crônicas</td>\n",
              "      <td>NaN</td>\n",
              "      <td>NaN</td>\n",
              "      <td>NaN</td>\n",
              "      <td>NaN</td>\n",
              "      <td>undefined</td>\n",
              "      <td>Masculino</td>\n",
              "      <td>MARANHÃO</td>\n",
              "      <td>21</td>\n",
              "      <td>Açailândia</td>\n",
              "      <td>2100055.0</td>\n",
              "      <td>undefined</td>\n",
              "      <td>MARANHÃO</td>\n",
              "      <td>21.0</td>\n",
              "      <td>Açailândia</td>\n",
              "      <td>2100055.0</td>\n",
              "      <td>undefined</td>\n",
              "      <td>undefined</td>\n",
              "      <td>45.0</td>\n",
              "      <td>NaN</td>\n",
              "      <td>NaN</td>\n",
              "      <td>NaN</td>\n",
              "    </tr>\n",
              "    <tr>\n",
              "      <th>373</th>\n",
              "      <td>0ggNmmd4d8</td>\n",
              "      <td>2020-04-04T03:00:00.000Z</td>\n",
              "      <td>2020-03-30T03:00:00.000Z</td>\n",
              "      <td>undefined</td>\n",
              "      <td>Tosse, Febre, Dispneia</td>\n",
              "      <td>Não</td>\n",
              "      <td>NaN</td>\n",
              "      <td>Doenças respiratórias crônicas descompensadas</td>\n",
              "      <td>NaN</td>\n",
              "      <td>NaN</td>\n",
              "      <td>NaN</td>\n",
              "      <td>NaN</td>\n",
              "      <td>undefined</td>\n",
              "      <td>Masculino</td>\n",
              "      <td>MARANHÃO</td>\n",
              "      <td>21</td>\n",
              "      <td>Açailândia</td>\n",
              "      <td>2100055.0</td>\n",
              "      <td>undefined</td>\n",
              "      <td>MARANHÃO</td>\n",
              "      <td>21.0</td>\n",
              "      <td>Açailândia</td>\n",
              "      <td>2100055.0</td>\n",
              "      <td>undefined</td>\n",
              "      <td>undefined</td>\n",
              "      <td>40.0</td>\n",
              "      <td>NaN</td>\n",
              "      <td>NaN</td>\n",
              "      <td>NaN</td>\n",
              "    </tr>\n",
              "    <tr>\n",
              "      <th>720</th>\n",
              "      <td>XMTKArMD4Z</td>\n",
              "      <td>2020-04-03T20:15:20.670Z</td>\n",
              "      <td>2020-03-28T03:00:00.000Z</td>\n",
              "      <td>undefined</td>\n",
              "      <td>Febre,Tosse,Dispneia</td>\n",
              "      <td>Não</td>\n",
              "      <td>NaN</td>\n",
              "      <td>NaN</td>\n",
              "      <td>NaN</td>\n",
              "      <td>NaN</td>\n",
              "      <td>NaN</td>\n",
              "      <td>NaN</td>\n",
              "      <td>undefined</td>\n",
              "      <td>Feminino</td>\n",
              "      <td>MARANHÃO</td>\n",
              "      <td>21</td>\n",
              "      <td>Açailândia</td>\n",
              "      <td>2100055.0</td>\n",
              "      <td>undefined</td>\n",
              "      <td>MARANHÃO</td>\n",
              "      <td>21.0</td>\n",
              "      <td>Açailândia</td>\n",
              "      <td>2100055.0</td>\n",
              "      <td>undefined</td>\n",
              "      <td>undefined</td>\n",
              "      <td>39.0</td>\n",
              "      <td>NaN</td>\n",
              "      <td>NaN</td>\n",
              "      <td>NaN</td>\n",
              "    </tr>\n",
              "    <tr>\n",
              "      <th>795</th>\n",
              "      <td>FrXtr4D2Me</td>\n",
              "      <td>2020-04-04T16:01:30.910Z</td>\n",
              "      <td>2020-04-04T03:00:00.000Z</td>\n",
              "      <td>undefined</td>\n",
              "      <td>Dor de Garganta,Dispneia,Febre</td>\n",
              "      <td>Não</td>\n",
              "      <td>NaN</td>\n",
              "      <td>NaN</td>\n",
              "      <td>NaN</td>\n",
              "      <td>NaN</td>\n",
              "      <td>NaN</td>\n",
              "      <td>NaN</td>\n",
              "      <td>undefined</td>\n",
              "      <td>Feminino</td>\n",
              "      <td>MARANHÃO</td>\n",
              "      <td>21</td>\n",
              "      <td>Açailândia</td>\n",
              "      <td>2100055.0</td>\n",
              "      <td>undefined</td>\n",
              "      <td>MARANHÃO</td>\n",
              "      <td>21.0</td>\n",
              "      <td>Açailândia</td>\n",
              "      <td>2100055.0</td>\n",
              "      <td>undefined</td>\n",
              "      <td>undefined</td>\n",
              "      <td>29.0</td>\n",
              "      <td>NaN</td>\n",
              "      <td>NaN</td>\n",
              "      <td>NaN</td>\n",
              "    </tr>\n",
              "    <tr>\n",
              "      <th>825</th>\n",
              "      <td>DYMCe6QVBa</td>\n",
              "      <td>2020-04-05T15:47:12.970Z</td>\n",
              "      <td>2020-03-24T03:00:00.000Z</td>\n",
              "      <td>undefined</td>\n",
              "      <td>Tosse, Febre, Dispneia, Dor de Garganta</td>\n",
              "      <td>Sim</td>\n",
              "      <td>3222 - Técnico ou Auxiliar em Enfermagem</td>\n",
              "      <td>NaN</td>\n",
              "      <td>Solicitado</td>\n",
              "      <td>NaN</td>\n",
              "      <td>NaN</td>\n",
              "      <td>NaN</td>\n",
              "      <td>undefined</td>\n",
              "      <td>Feminino</td>\n",
              "      <td>MARANHÃO</td>\n",
              "      <td>21</td>\n",
              "      <td>Açailândia</td>\n",
              "      <td>2100055.0</td>\n",
              "      <td>undefined</td>\n",
              "      <td>MARANHÃO</td>\n",
              "      <td>21.0</td>\n",
              "      <td>Açailândia</td>\n",
              "      <td>2100055.0</td>\n",
              "      <td>undefined</td>\n",
              "      <td>undefined</td>\n",
              "      <td>45.0</td>\n",
              "      <td>NaN</td>\n",
              "      <td>NaN</td>\n",
              "      <td>NaN</td>\n",
              "    </tr>\n",
              "  </tbody>\n",
              "</table>\n",
              "</div>"
            ],
            "text/plain": [
              "            ÿid           dataNotificacao  ... evolucaoCaso classificacaoFinal\n",
              "72   HSeQP58XwJ  2020-04-05T03:00:00.000Z  ...          NaN                NaN\n",
              "373  0ggNmmd4d8  2020-04-04T03:00:00.000Z  ...          NaN                NaN\n",
              "720  XMTKArMD4Z  2020-04-03T20:15:20.670Z  ...          NaN                NaN\n",
              "795  FrXtr4D2Me  2020-04-04T16:01:30.910Z  ...          NaN                NaN\n",
              "825  DYMCe6QVBa  2020-04-05T15:47:12.970Z  ...          NaN                NaN\n",
              "\n",
              "[5 rows x 29 columns]"
            ]
          },
          "metadata": {
            "tags": []
          },
          "execution_count": 17
        }
      ]
    },
    {
      "cell_type": "code",
      "metadata": {
        "id": "fltduQ33gdKk"
      },
      "source": [
        "testes_acai = covid_acai.value_counts('resultadoTeste').sum()"
      ],
      "execution_count": 19,
      "outputs": []
    },
    {
      "cell_type": "code",
      "metadata": {
        "colab": {
          "base_uri": "https://localhost:8080/"
        },
        "id": "Ox-YQ3VcZrFe",
        "outputId": "2665911f-251f-49a5-ec40-213d2018bbc3"
      },
      "source": [
        "testes_acai"
      ],
      "execution_count": 131,
      "outputs": [
        {
          "output_type": "execute_result",
          "data": {
            "text/plain": [
              "11787"
            ]
          },
          "metadata": {
            "tags": []
          },
          "execution_count": 131
        }
      ]
    },
    {
      "cell_type": "code",
      "metadata": {
        "id": "47Yls1-uhjgV"
      },
      "source": [
        "result_acai = covid_acai.value_counts('resultadoTeste')"
      ],
      "execution_count": 21,
      "outputs": []
    },
    {
      "cell_type": "code",
      "metadata": {
        "colab": {
          "base_uri": "https://localhost:8080/"
        },
        "id": "ygv4qB0QpM9C",
        "outputId": "69473b03-a402-4115-9311-01eef992154c"
      },
      "source": [
        "result_acai"
      ],
      "execution_count": 130,
      "outputs": [
        {
          "output_type": "execute_result",
          "data": {
            "text/plain": [
              "resultadoTeste\n",
              "Negativo    7086\n",
              "Positivo    4701\n",
              "dtype: int64"
            ]
          },
          "metadata": {
            "tags": []
          },
          "execution_count": 130
        }
      ]
    },
    {
      "cell_type": "markdown",
      "metadata": {
        "id": "H6sRDVjzxbHJ"
      },
      "source": [
        "**Profissionais da saúde infectado em Açailândia**"
      ]
    },
    {
      "cell_type": "code",
      "metadata": {
        "id": "vbH2SG7RxY6A"
      },
      "source": [
        "pi_acai = covid_acai.query('profissionalSaude == \"Sim\" & resultadoTeste == \"Positivo\"')"
      ],
      "execution_count": 132,
      "outputs": []
    },
    {
      "cell_type": "code",
      "metadata": {
        "id": "FiQLbfGQxZxh"
      },
      "source": [
        "tpi_acai = pi_acai.value_counts('resultadoTeste')"
      ],
      "execution_count": 133,
      "outputs": []
    },
    {
      "cell_type": "code",
      "metadata": {
        "colab": {
          "base_uri": "https://localhost:8080/"
        },
        "id": "N_FfhhFnxaNe",
        "outputId": "c2741aa3-7f4c-4863-869b-20925a096077"
      },
      "source": [
        "tpi_acai"
      ],
      "execution_count": 134,
      "outputs": [
        {
          "output_type": "execute_result",
          "data": {
            "text/plain": [
              "resultadoTeste\n",
              "Positivo    40\n",
              "dtype: int64"
            ]
          },
          "metadata": {
            "tags": []
          },
          "execution_count": 134
        }
      ]
    },
    {
      "cell_type": "markdown",
      "metadata": {
        "id": "vVzOdhj2dDf3"
      },
      "source": [
        "# **Imperatriz**"
      ]
    },
    {
      "cell_type": "code",
      "metadata": {
        "id": "kYdq_5pS77CA"
      },
      "source": [
        "covid_itz = covid_ma.query('municipio == \"Imperatriz\"')"
      ],
      "execution_count": 22,
      "outputs": []
    },
    {
      "cell_type": "code",
      "metadata": {
        "colab": {
          "base_uri": "https://localhost:8080/",
          "height": 400
        },
        "id": "85rkef85cjTW",
        "outputId": "ee47dfe4-1e2d-4bfa-e261-57c55627678f"
      },
      "source": [
        "covid_itz.head()"
      ],
      "execution_count": 23,
      "outputs": [
        {
          "output_type": "execute_result",
          "data": {
            "text/html": [
              "<div>\n",
              "<style scoped>\n",
              "    .dataframe tbody tr th:only-of-type {\n",
              "        vertical-align: middle;\n",
              "    }\n",
              "\n",
              "    .dataframe tbody tr th {\n",
              "        vertical-align: top;\n",
              "    }\n",
              "\n",
              "    .dataframe thead th {\n",
              "        text-align: right;\n",
              "    }\n",
              "</style>\n",
              "<table border=\"1\" class=\"dataframe\">\n",
              "  <thead>\n",
              "    <tr style=\"text-align: right;\">\n",
              "      <th></th>\n",
              "      <th>ÿid</th>\n",
              "      <th>dataNotificacao</th>\n",
              "      <th>dataInicioSintomas</th>\n",
              "      <th>dataNascimento</th>\n",
              "      <th>sintomas</th>\n",
              "      <th>profissionalSaude</th>\n",
              "      <th>cbo</th>\n",
              "      <th>condicoes</th>\n",
              "      <th>estadoTeste</th>\n",
              "      <th>dataTeste</th>\n",
              "      <th>tipoTeste</th>\n",
              "      <th>resultadoTeste</th>\n",
              "      <th>paisOrigem</th>\n",
              "      <th>sexo</th>\n",
              "      <th>estado</th>\n",
              "      <th>estadoIBGE</th>\n",
              "      <th>municipio</th>\n",
              "      <th>municipioIBGE</th>\n",
              "      <th>origem</th>\n",
              "      <th>estadoNotificacao</th>\n",
              "      <th>estadoNotificacaoIBGE</th>\n",
              "      <th>municipioNotificacao</th>\n",
              "      <th>municipioNotificacaoIBGE</th>\n",
              "      <th>excluido</th>\n",
              "      <th>validado</th>\n",
              "      <th>idade</th>\n",
              "      <th>dataEncerramento</th>\n",
              "      <th>evolucaoCaso</th>\n",
              "      <th>classificacaoFinal</th>\n",
              "    </tr>\n",
              "  </thead>\n",
              "  <tbody>\n",
              "    <tr>\n",
              "      <th>1</th>\n",
              "      <td>ozHhVSzSdq</td>\n",
              "      <td>2020-04-06T13:17:27.512Z</td>\n",
              "      <td>2020-03-22T03:00:00.000Z</td>\n",
              "      <td>undefined</td>\n",
              "      <td>Febre, Tosse, Dispneia, Outros</td>\n",
              "      <td>Não</td>\n",
              "      <td>NaN</td>\n",
              "      <td>NaN</td>\n",
              "      <td>Coletado</td>\n",
              "      <td>2020-04-06T03:00:00.000Z</td>\n",
              "      <td>NaN</td>\n",
              "      <td>NaN</td>\n",
              "      <td>undefined</td>\n",
              "      <td>Masculino</td>\n",
              "      <td>MARANHÃO</td>\n",
              "      <td>21</td>\n",
              "      <td>Imperatriz</td>\n",
              "      <td>2105302.0</td>\n",
              "      <td>undefined</td>\n",
              "      <td>MARANHÃO</td>\n",
              "      <td>21.0</td>\n",
              "      <td>Imperatriz</td>\n",
              "      <td>2105302.0</td>\n",
              "      <td>undefined</td>\n",
              "      <td>undefined</td>\n",
              "      <td>47.0</td>\n",
              "      <td>NaN</td>\n",
              "      <td>NaN</td>\n",
              "      <td>NaN</td>\n",
              "    </tr>\n",
              "    <tr>\n",
              "      <th>52</th>\n",
              "      <td>C0ya737eMv</td>\n",
              "      <td>2020-04-06T03:00:00.000Z</td>\n",
              "      <td>2020-03-30T03:00:00.000Z</td>\n",
              "      <td>undefined</td>\n",
              "      <td>Dor de Garganta, Febre, Tosse</td>\n",
              "      <td>Não</td>\n",
              "      <td>NaN</td>\n",
              "      <td>NaN</td>\n",
              "      <td>NaN</td>\n",
              "      <td>NaN</td>\n",
              "      <td>NaN</td>\n",
              "      <td>NaN</td>\n",
              "      <td>undefined</td>\n",
              "      <td>Feminino</td>\n",
              "      <td>MARANHÃO</td>\n",
              "      <td>21</td>\n",
              "      <td>Imperatriz</td>\n",
              "      <td>2105302.0</td>\n",
              "      <td>undefined</td>\n",
              "      <td>MARANHÃO</td>\n",
              "      <td>21.0</td>\n",
              "      <td>Governador Edison Lobão</td>\n",
              "      <td>2104552.0</td>\n",
              "      <td>undefined</td>\n",
              "      <td>undefined</td>\n",
              "      <td>26.0</td>\n",
              "      <td>NaN</td>\n",
              "      <td>NaN</td>\n",
              "      <td>NaN</td>\n",
              "    </tr>\n",
              "    <tr>\n",
              "      <th>57</th>\n",
              "      <td>JUzKNcyiIH</td>\n",
              "      <td>2020-04-06T03:00:00.000Z</td>\n",
              "      <td>2020-04-05T03:00:00.000Z</td>\n",
              "      <td>undefined</td>\n",
              "      <td>Tosse</td>\n",
              "      <td>Não</td>\n",
              "      <td>NaN</td>\n",
              "      <td>NaN</td>\n",
              "      <td>NaN</td>\n",
              "      <td>NaN</td>\n",
              "      <td>NaN</td>\n",
              "      <td>NaN</td>\n",
              "      <td>undefined</td>\n",
              "      <td>Masculino</td>\n",
              "      <td>MARANHÃO</td>\n",
              "      <td>21</td>\n",
              "      <td>Imperatriz</td>\n",
              "      <td>2105302.0</td>\n",
              "      <td>undefined</td>\n",
              "      <td>MARANHÃO</td>\n",
              "      <td>21.0</td>\n",
              "      <td>Governador Edison Lobão</td>\n",
              "      <td>2104552.0</td>\n",
              "      <td>undefined</td>\n",
              "      <td>undefined</td>\n",
              "      <td>30.0</td>\n",
              "      <td>NaN</td>\n",
              "      <td>NaN</td>\n",
              "      <td>NaN</td>\n",
              "    </tr>\n",
              "    <tr>\n",
              "      <th>63</th>\n",
              "      <td>ECYrdK7ZN6</td>\n",
              "      <td>2020-04-06T03:00:00.000Z</td>\n",
              "      <td>2020-04-04T03:00:00.000Z</td>\n",
              "      <td>undefined</td>\n",
              "      <td>Dispneia, Febre</td>\n",
              "      <td>Não</td>\n",
              "      <td>NaN</td>\n",
              "      <td>NaN</td>\n",
              "      <td>NaN</td>\n",
              "      <td>NaN</td>\n",
              "      <td>NaN</td>\n",
              "      <td>NaN</td>\n",
              "      <td>undefined</td>\n",
              "      <td>Feminino</td>\n",
              "      <td>MARANHÃO</td>\n",
              "      <td>21</td>\n",
              "      <td>Imperatriz</td>\n",
              "      <td>2105302.0</td>\n",
              "      <td>undefined</td>\n",
              "      <td>MARANHÃO</td>\n",
              "      <td>21.0</td>\n",
              "      <td>Governador Edison Lobão</td>\n",
              "      <td>2104552.0</td>\n",
              "      <td>undefined</td>\n",
              "      <td>undefined</td>\n",
              "      <td>41.0</td>\n",
              "      <td>NaN</td>\n",
              "      <td>NaN</td>\n",
              "      <td>NaN</td>\n",
              "    </tr>\n",
              "    <tr>\n",
              "      <th>164</th>\n",
              "      <td>SsE6bE0dw8</td>\n",
              "      <td>2020-04-06T18:04:25.570Z</td>\n",
              "      <td>2020-04-06T03:00:00.000Z</td>\n",
              "      <td>undefined</td>\n",
              "      <td>Outros, Dispneia</td>\n",
              "      <td>Sim</td>\n",
              "      <td>225 - Médico</td>\n",
              "      <td>Doenças cardíacas crônicas</td>\n",
              "      <td>Coletado</td>\n",
              "      <td>2020-04-06T03:00:00.000Z</td>\n",
              "      <td>NaN</td>\n",
              "      <td>NaN</td>\n",
              "      <td>undefined</td>\n",
              "      <td>Masculino</td>\n",
              "      <td>MARANHÃO</td>\n",
              "      <td>21</td>\n",
              "      <td>Imperatriz</td>\n",
              "      <td>2105302.0</td>\n",
              "      <td>undefined</td>\n",
              "      <td>MARANHÃO</td>\n",
              "      <td>21.0</td>\n",
              "      <td>Imperatriz</td>\n",
              "      <td>2105302.0</td>\n",
              "      <td>undefined</td>\n",
              "      <td>undefined</td>\n",
              "      <td>70.0</td>\n",
              "      <td>NaN</td>\n",
              "      <td>NaN</td>\n",
              "      <td>NaN</td>\n",
              "    </tr>\n",
              "  </tbody>\n",
              "</table>\n",
              "</div>"
            ],
            "text/plain": [
              "            ÿid           dataNotificacao  ... evolucaoCaso classificacaoFinal\n",
              "1    ozHhVSzSdq  2020-04-06T13:17:27.512Z  ...          NaN                NaN\n",
              "52   C0ya737eMv  2020-04-06T03:00:00.000Z  ...          NaN                NaN\n",
              "57   JUzKNcyiIH  2020-04-06T03:00:00.000Z  ...          NaN                NaN\n",
              "63   ECYrdK7ZN6  2020-04-06T03:00:00.000Z  ...          NaN                NaN\n",
              "164  SsE6bE0dw8  2020-04-06T18:04:25.570Z  ...          NaN                NaN\n",
              "\n",
              "[5 rows x 29 columns]"
            ]
          },
          "metadata": {
            "tags": []
          },
          "execution_count": 23
        }
      ]
    },
    {
      "cell_type": "code",
      "metadata": {
        "id": "Sx89GKITh4JG"
      },
      "source": [
        "testes_itz = covid_itz.value_counts('resultadoTeste').sum()"
      ],
      "execution_count": 45,
      "outputs": []
    },
    {
      "cell_type": "code",
      "metadata": {
        "colab": {
          "base_uri": "https://localhost:8080/"
        },
        "id": "anBpVm5ucuei",
        "outputId": "d4bcdb4c-539c-4d1a-8841-2687c6fa876c"
      },
      "source": [
        "testes_itz"
      ],
      "execution_count": 46,
      "outputs": [
        {
          "output_type": "execute_result",
          "data": {
            "text/plain": [
              "46176"
            ]
          },
          "metadata": {
            "tags": []
          },
          "execution_count": 46
        }
      ]
    },
    {
      "cell_type": "code",
      "metadata": {
        "id": "tdAKkTxTh-Lg"
      },
      "source": [
        "result_itz = covid_itz.value_counts('resultadoTeste')   "
      ],
      "execution_count": 87,
      "outputs": []
    },
    {
      "cell_type": "code",
      "metadata": {
        "id": "KShuRSwrdz0h"
      },
      "source": [
        "result_itz = result_itz.drop('Inconclusivo ou Indeterminado')"
      ],
      "execution_count": 88,
      "outputs": []
    },
    {
      "cell_type": "code",
      "metadata": {
        "colab": {
          "base_uri": "https://localhost:8080/"
        },
        "id": "niSim-fGnceX",
        "outputId": "dcd299e3-8446-448a-9ba1-9d7309564166"
      },
      "source": [
        "result_itz"
      ],
      "execution_count": 89,
      "outputs": [
        {
          "output_type": "execute_result",
          "data": {
            "text/plain": [
              "resultadoTeste\n",
              "Negativo    29374\n",
              "Positivo    16785\n",
              "dtype: int64"
            ]
          },
          "metadata": {
            "tags": []
          },
          "execution_count": 89
        }
      ]
    },
    {
      "cell_type": "markdown",
      "metadata": {
        "id": "ZRF8dcAnygwy"
      },
      "source": [
        "**Profissionais da saúde infectado em Imperatriz**"
      ]
    },
    {
      "cell_type": "code",
      "metadata": {
        "id": "kBQRBvjdytTU"
      },
      "source": [
        "pi_itz = covid_itz.query('profissionalSaude == \"Sim\" & resultadoTeste == \"Positivo\"')"
      ],
      "execution_count": 137,
      "outputs": []
    },
    {
      "cell_type": "code",
      "metadata": {
        "id": "g-wiuoMzytw5"
      },
      "source": [
        "tpi_itz = pi_itz.value_counts('resultadoTeste')"
      ],
      "execution_count": 138,
      "outputs": []
    },
    {
      "cell_type": "code",
      "metadata": {
        "colab": {
          "base_uri": "https://localhost:8080/"
        },
        "id": "RYxeFbG9yuJs",
        "outputId": "eefa8bca-5011-45ea-a725-27ee15067c56"
      },
      "source": [
        "tpi_itz"
      ],
      "execution_count": 139,
      "outputs": [
        {
          "output_type": "execute_result",
          "data": {
            "text/plain": [
              "resultadoTeste\n",
              "Positivo    703\n",
              "dtype: int64"
            ]
          },
          "metadata": {
            "tags": []
          },
          "execution_count": 139
        }
      ]
    },
    {
      "cell_type": "code",
      "metadata": {
        "colab": {
          "base_uri": "https://localhost:8080/",
          "height": 358
        },
        "id": "jsOJl52vfM_K",
        "outputId": "ad865474-ebcd-4320-a9b2-45c7634d3da1"
      },
      "source": [
        "cores = ['#7FFFD4', '#FA8072']\n",
        "fig,(ax1, ax2, ax3, ax4)= plt.subplots(1,4, figsize = (20,6))\n",
        "plt.suptitle('Testes da COVID-19 no estado do Maranhão', weight = 'bold', size = 22)\n",
        "\n",
        "ax1.pie(result_ma, labels=result_ma.index, autopct = '%1.1f%%', shadow=True, explode=(0.05,0.05), colors=cores)\n",
        "ax1.set_title('Todo o estado', weight = 'bold', size = 15)\n",
        "\n",
        "ax2.pie(result_slz, labels=result_slz.index, autopct='%1.1f%%', shadow=True, explode=(0.05,0.05), colors=cores)\n",
        "ax2.set_title('São Luís', weight = 'bold', size = 15)\n",
        "\n",
        "ax3.pie(result_acai, labels=result_acai.index, autopct='%1.1f%%', shadow=True, explode=(0.05,0.05), colors=cores)\n",
        "ax3.set_title('Açailândia', weight = 'bold', size = 15)\n",
        "\n",
        "ax4.pie(result_itz, labels=result_itz.index, autopct='%1.1f%%', shadow=True, explode=(0.05,0.05), colors=cores)\n",
        "ax4.set_title('Imperatriz', weight = 'bold', size = 15)\n",
        "\n",
        "plt.show()"
      ],
      "execution_count": 116,
      "outputs": [
        {
          "output_type": "display_data",
          "data": {
            "image/png": "[encoded data removed]",
            "text/plain": [
              "<Figure size 1440x432 with 4 Axes>"
            ]
          },
          "metadata": {
            "tags": []
          }
        }
      ]
    }
  ]
}